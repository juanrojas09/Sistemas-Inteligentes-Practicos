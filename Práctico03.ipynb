{
 "cells": [
  {
   "cell_type": "markdown",
   "id": "411d1510",
   "metadata": {},
   "source": [
    "# Práctico 3\n",
    "1. Reproducir en el notebook lo que se vio en clase\n",
    "2. Probar los dos regresores de KNN y variar sus hiperparámetros. Es conveniente este tipo de algoritmo para este problema?\n",
    "3. Probar el regresor de Máquina de soporte vectorial (`sklearn.svm.SVR`) con hiperparámetros de `kernel='linear'` y variar `C` o con `kernel='linear'` y variar `C` y `gamma`. Como performa el mejor regresor encontrado?\n",
    "4. Cambiar GridSearchCV por RandomSearchCV\n",
    "\n",
    "Opcional:\n",
    "\n",
    "5. Escribir el algoritmo de KNNClassfier fuerza bruta y comparar su rendimiento con el de scikit-learn"
   ]
  },
  {
   "cell_type": "code",
   "execution_count": null,
   "id": "d481d03b",
   "metadata": {},
   "outputs": [],
   "source": []
  }
 ],
 "metadata": {
  "kernelspec": {
   "display_name": "Python 3 (ipykernel)",
   "language": "python",
   "name": "python3"
  },
  "language_info": {
   "codemirror_mode": {
    "name": "ipython",
    "version": 3
   },
   "file_extension": ".py",
   "mimetype": "text/x-python",
   "name": "python",
   "nbconvert_exporter": "python",
   "pygments_lexer": "ipython3",
   "version": "3.9.12"
  }
 },
 "nbformat": 4,
 "nbformat_minor": 5
}
