{
 "cells": [
  {
   "cell_type": "markdown",
   "id": "f18c19ba",
   "metadata": {},
   "source": [
    "# Ejercicios de la librería Numpy"
   ]
  },
  {
   "cell_type": "markdown",
   "id": "b3d7bf77",
   "metadata": {},
   "source": [
    "0. Importa la librería numpy como np"
   ]
  },
  {
   "cell_type": "code",
   "execution_count": null,
   "id": "1139c094",
   "metadata": {},
   "outputs": [],
   "source": [
    "import numpy as np\n"
   ]
  },
  {
   "cell_type": "markdown",
   "id": "8d9f00fc",
   "metadata": {},
   "source": [
    "1. Crear un arreglo de 10 ceros"
   ]
  },
  {
   "cell_type": "code",
   "execution_count": 1,
   "id": "ce695036",
   "metadata": {},
   "outputs": [
    {
     "name": "stdout",
     "output_type": "stream",
     "text": [
      "[0. 0. 0. 0. 0. 0. 0. 0. 0. 0.]\n"
     ]
    }
   ],
   "source": [
    "import numpy as np\n",
    "arr = np.zeros(10)\n",
    "print(arr)"
   ]
  },
  {
   "cell_type": "markdown",
   "id": "36202490",
   "metadata": {},
   "source": [
    "2. Crear un arreglo de 10 unos"
   ]
  },
  {
   "cell_type": "code",
   "execution_count": 7,
   "id": "cb0fa882",
   "metadata": {},
   "outputs": [
    {
     "name": "stdout",
     "output_type": "stream",
     "text": [
      "[1. 1. 1. 1. 1. 1. 1. 1. 1. 1.]\n",
      "[1 1 1 1 1 1 1 1 1 1]\n"
     ]
    }
   ],
   "source": [
    "import numpy as np\n",
    "arr=np.full(10,1)\n",
    "print(np.ones(10))\n",
    "print(arr)"
   ]
  },
  {
   "cell_type": "markdown",
   "id": "a4702127",
   "metadata": {},
   "source": [
    "3. Crear un arreglo de 10 cincos"
   ]
  },
  {
   "cell_type": "code",
   "execution_count": 8,
   "id": "2b029774",
   "metadata": {},
   "outputs": [
    {
     "name": "stdout",
     "output_type": "stream",
     "text": [
      "[5 5 5 5 5 5 5 5 5 5]\n"
     ]
    }
   ],
   "source": [
    "import numpy as np\n",
    "print(np.full(10,5))"
   ]
  },
  {
   "cell_type": "markdown",
   "id": "4bbcf3e9",
   "metadata": {},
   "source": [
    "4. Crear un arreglo con todos los numeros pares del 10 al 50"
   ]
  },
  {
   "cell_type": "code",
   "execution_count": 11,
   "id": "0d775739",
   "metadata": {},
   "outputs": [
    {
     "name": "stdout",
     "output_type": "stream",
     "text": [
      "[ 0  2  4  6  8 10 12 14 16 18 20 22 24 26 28 30 32 34 36 38 40 42 44 46\n",
      " 48 50]\n"
     ]
    }
   ],
   "source": [
    "import numpy as np\n",
    "print(np.arange(0,51,2))"
   ]
  },
  {
   "cell_type": "markdown",
   "id": "f946f661",
   "metadata": {},
   "source": [
    "5. Crear una matriz 3x3 con valores del 0 al 8"
   ]
  },
  {
   "cell_type": "code",
   "execution_count": 14,
   "id": "39e6d1f8",
   "metadata": {},
   "outputs": [
    {
     "name": "stdout",
     "output_type": "stream",
     "text": [
      "[[0 1 2]\n",
      " [3 4 5]\n",
      " [6 7 8]]\n"
     ]
    }
   ],
   "source": [
    "import numpy as np\n",
    "arr=np.array([[0,1,2],[3,4,5],[6,7,8]])\n",
    "print(arr)"
   ]
  },
  {
   "cell_type": "markdown",
   "id": "193e929c",
   "metadata": {},
   "source": [
    "6. Crear una matriz de identidad de 3x3"
   ]
  },
  {
   "cell_type": "code",
   "execution_count": 15,
   "id": "43dd48cd",
   "metadata": {},
   "outputs": [
    {
     "name": "stdout",
     "output_type": "stream",
     "text": [
      "[[1. 0. 0.]\n",
      " [0. 1. 0.]\n",
      " [0. 0. 1.]]\n"
     ]
    }
   ],
   "source": [
    "import numpy as np\n",
    "print(np.identity(3))"
   ]
  },
  {
   "cell_type": "markdown",
   "id": "f70bb7f5",
   "metadata": {},
   "source": [
    "7. Utilizar numpy para geneara un numero aleatorio entre 0 y 1"
   ]
  },
  {
   "cell_type": "code",
   "execution_count": 24,
   "id": "6c2f453b",
   "metadata": {},
   "outputs": [
    {
     "name": "stdout",
     "output_type": "stream",
     "text": [
      "[0.25805356]\n"
     ]
    }
   ],
   "source": [
    "import numpy as np\n",
    "a=np.random.random(1)\n",
    "print(a)"
   ]
  },
  {
   "cell_type": "markdown",
   "id": "078b2077",
   "metadata": {},
   "source": [
    "8. Utilizar numpy para generar un arreglo de 25 numeros aleatorioas con una distribucion normal"
   ]
  },
  {
   "cell_type": "code",
   "execution_count": 43,
   "id": "a037ec6c",
   "metadata": {},
   "outputs": [
    {
     "name": "stdout",
     "output_type": "stream",
     "text": [
      "[24.43669684 25.22362091 25.29762619 23.63939064 24.25816958 24.67341038\n",
      " 26.17924118 24.56172022 25.98997127 25.81875852 25.59189254 25.11613165\n",
      " 25.34999958 25.10697279 26.69888687 24.34477084 25.58514182 25.36392965\n",
      " 24.71463241 24.21883597 24.35283433 24.3682888  25.47881575 23.80850317\n",
      " 25.04592944]\n"
     ]
    }
   ],
   "source": [
    "import numpy as np\n",
    "arr=np.random.normal(25,1,25)\n",
    "print(arr)"
   ]
  },
  {
   "cell_type": "markdown",
   "id": "d1f52017",
   "metadata": {},
   "source": [
    "9. Crear la siguiente matriz"
   ]
  },
  {
   "cell_type": "code",
   "execution_count": null,
   "id": "392aa2ab",
   "metadata": {},
   "outputs": [],
   "source": []
  },
  {
   "cell_type": "markdown",
   "id": "b0f22aad",
   "metadata": {},
   "source": [
    "10. Crear un arreglo de 20 valores lineales entre 0 y 1"
   ]
  },
  {
   "cell_type": "code",
   "execution_count": 44,
   "id": "6ec57513",
   "metadata": {},
   "outputs": [
    {
     "name": "stdout",
     "output_type": "stream",
     "text": [
      "[0.         0.02040816 0.04081633 0.06122449 0.08163265 0.10204082\n",
      " 0.12244898 0.14285714 0.16326531 0.18367347 0.20408163 0.2244898\n",
      " 0.24489796 0.26530612 0.28571429 0.30612245 0.32653061 0.34693878\n",
      " 0.36734694 0.3877551  0.40816327 0.42857143 0.44897959 0.46938776\n",
      " 0.48979592 0.51020408 0.53061224 0.55102041 0.57142857 0.59183673\n",
      " 0.6122449  0.63265306 0.65306122 0.67346939 0.69387755 0.71428571\n",
      " 0.73469388 0.75510204 0.7755102  0.79591837 0.81632653 0.83673469\n",
      " 0.85714286 0.87755102 0.89795918 0.91836735 0.93877551 0.95918367\n",
      " 0.97959184 1.        ]\n"
     ]
    }
   ],
   "source": [
    "import numpy as np\n",
    "\n",
    "arr=np.linspace(0,1)\n",
    "print(arr)"
   ]
  },
  {
   "cell_type": "markdown",
   "id": "867225d0",
   "metadata": {},
   "source": [
    "### Seleccion e indices de Numpy\n",
    "11. Se te daran varias matrices, se te pide replicar el resultado"
   ]
  },
  {
   "cell_type": "code",
   "execution_count": 45,
   "id": "ed7d3e0e",
   "metadata": {},
   "outputs": [
    {
     "data": {
      "text/plain": [
       "array([[ 1,  2,  3,  4,  5],\n",
       "       [ 6,  7,  8,  9, 10],\n",
       "       [11, 12, 13, 14, 15],\n",
       "       [16, 17, 18, 19, 20],\n",
       "       [21, 22, 23, 24, 25]])"
      ]
     },
     "execution_count": 45,
     "metadata": {},
     "output_type": "execute_result"
    }
   ],
   "source": [
    "import numpy as np\n",
    "mat = np.arange(1,26).reshape(5,5)\n",
    "mat"
   ]
  },
  {
   "cell_type": "raw",
   "id": "e0829c57",
   "metadata": {},
   "source": [
    "# escribe el codigo que permite reproducir el siguiente resultado\n",
    "# se cuidadoso al momento de correr el codigo,\n",
    "# ya que podrias borrar el resultado\n",
    "array([[12, 13, 14, 15],\n",
    "       [17, 18, 19, 20],\n",
    "       [22, 23, 24, 25]])"
   ]
  },
  {
   "cell_type": "code",
   "execution_count": 66,
   "id": "a6037f29",
   "metadata": {},
   "outputs": [
    {
     "name": "stdout",
     "output_type": "stream",
     "text": [
      "[[12 13 14 15]\n",
      " [17 18 19 20]\n",
      " [12 13 14 15]]\n"
     ]
    }
   ],
   "source": [
    "import numpy as np\n",
    "mat1=np.arange(12,16).reshape(1,4)\n",
    "mat2=np.arange(17,21).reshape(1,4)\n",
    "mat3=np.arange(22,26).reshape(1,4)\n",
    "matRes=np.concatenate([mat1,mat2,mat])\n",
    "print(matRes)\n",
    "\n",
    "\n",
    "\n"
   ]
  },
  {
   "cell_type": "raw",
   "id": "914db3ab",
   "metadata": {},
   "source": [
    "# escribe el codigo que permite reproducir el siguiente resultado\n",
    "# se cuidadoso al momento de correr el codigo,\n",
    "# ya que podrias borrar el resultado\n",
    "20"
   ]
  },
  {
   "cell_type": "code",
   "execution_count": 68,
   "id": "1c74fa1b",
   "metadata": {},
   "outputs": [
    {
     "name": "stdout",
     "output_type": "stream",
     "text": [
      "[20]\n"
     ]
    }
   ],
   "source": [
    "import numpy as np\n",
    "mat1=np.arange(12,16).reshape(1,4)\n",
    "mat2=np.arange(17,21).reshape(1,4)\n",
    "mat3=np.arange(22,26).reshape(1,4)\n",
    "matRes=np.concatenate([mat1,mat2,mat])\n",
    "\n",
    "print(matRes[(matRes==20)])\n"
   ]
  },
  {
   "cell_type": "raw",
   "id": "fbd8acb6",
   "metadata": {},
   "source": [
    "# escribe el codigo que permite reproducir el siguiente resultado\n",
    "# se cuidadoso al momento de correr el codigo,\n",
    "# ya que podrias borrar el resultado\n",
    "array([[ 2],\n",
    "       [ 7],\n",
    "       [12]])"
   ]
  },
  {
   "cell_type": "code",
   "execution_count": 92,
   "id": "1c1154d0",
   "metadata": {},
   "outputs": [
    {
     "name": "stdout",
     "output_type": "stream",
     "text": [
      "[[ 2]\n",
      " [ 7]\n",
      " [12]]\n"
     ]
    }
   ],
   "source": [
    "import numpy as np\n",
    "\n",
    "# crear matriz de 3 filas y 1 columna con los valores dados\n",
    "matriz = np.array([[2], [7], [12]])\n",
    "\n",
    "print(matriz)"
   ]
  },
  {
   "cell_type": "raw",
   "id": "7017a1c2",
   "metadata": {},
   "source": [
    "# escribe el codigo que permite reproducir el siguiente resultado\n",
    "# se cuidadoso al momento de correr el codigo,\n",
    "# ya que podrias borrar el resultado\n",
    "array([21, 22, 23, 24, 25])"
   ]
  },
  {
   "cell_type": "code",
   "execution_count": 97,
   "id": "25a165f7",
   "metadata": {},
   "outputs": [
    {
     "name": "stdout",
     "output_type": "stream",
     "text": [
      "[[21 22 23 24 25]]\n"
     ]
    }
   ],
   "source": [
    "import numpy as np\n",
    "arr=np.arange(21,26).reshape(1,5)\n",
    "print(arr)"
   ]
  },
  {
   "cell_type": "raw",
   "id": "900394dd",
   "metadata": {},
   "source": [
    "# escribe el codigo que permite reproducir el siguiente resultado\n",
    "# se cuidadoso al momento de correr el codigo,\n",
    "# ya que podrias borrar el resultado\n",
    "array([[16, 17, 18, 19, 20],\n",
    "       [21, 22, 23, 24, 25]])"
   ]
  },
  {
   "cell_type": "code",
   "execution_count": 99,
   "id": "eb50080e",
   "metadata": {},
   "outputs": [
    {
     "name": "stdout",
     "output_type": "stream",
     "text": [
      "[[16 17 18 19 20]\n",
      " [21 22 23 24 25]]\n"
     ]
    }
   ],
   "source": [
    "import numpy as np\n",
    "arr=np.arange(16,21).reshape(1,5)\n",
    "arr2=np.arange(21,26).reshape(1,5)\n",
    "arrR=np.concatenate([arr,arr2])\n",
    "print(arrR)"
   ]
  },
  {
   "cell_type": "markdown",
   "id": "e1abd9d3",
   "metadata": {},
   "source": [
    "Luego continua con:\n",
    "- Obten la suma de los valores de `mat`\n",
    "- Obten la desviacion estandar de los valores de `mat`\n",
    "- Obten la suma de las columnas de los valores de `mat`"
   ]
  },
  {
   "cell_type": "code",
   "execution_count": 108,
   "id": "66ced130",
   "metadata": {},
   "outputs": [
    {
     "name": "stdout",
     "output_type": "stream",
     "text": [
      "325\n",
      "7.211102550927978\n",
      "[55 60 65 70 75]\n"
     ]
    }
   ],
   "source": [
    "import numpy as np\n",
    "mat = np.arange(1,26).reshape(5,5)\n",
    "sum=np.sum(mat)\n",
    "print(sum)\n",
    "\n",
    "desviacion=np.std(mat)\n",
    "print(desviacion)\n",
    "\n",
    "sumColum=np.sum(mat,axis=0)\n",
    "print(sumColum)"
   ]
  },
  {
   "cell_type": "markdown",
   "id": "27c11759",
   "metadata": {},
   "source": [
    "# Ejercicios de la Librería Pandas\n",
    "\n",
    "1. Escribir un programa que pregunte al usuario por las ventas de un rango de años y muestre por pantalla una serie con los datos de las ventas indexada por los años, antes y después de aplicarles un descuento del 10%."
   ]
  },
  {
   "cell_type": "code",
   "execution_count": 7,
   "id": "89fdc082",
   "metadata": {},
   "outputs": [
    {
     "name": "stdout",
     "output_type": "stream",
     "text": [
      "serie sin descuentos\n",
      "\n",
      "2012    10\n",
      "2013    20\n",
      "2014    30\n",
      "dtype: object\n",
      "serie Con descuentos\n",
      "2012    11.0\n",
      "2013    22.0\n",
      "2014    33.0\n",
      "dtype: float64\n"
     ]
    }
   ],
   "source": [
    "import pandas as pd\n",
    "import numpy as np\n",
    "anioI=input(\"ingrese anio inicial\")\n",
    "anioF=input(\"Ingrese el año fin\")\n",
    "\n",
    "#creo dicts \n",
    "ventas={}\n",
    "ventas2={}\n",
    "for i in range(int(anioI),int(anioF)+1):\n",
    "    ventas[i]=input(\"ingresa las ventas de este anio\")\n",
    "    ventas2[i]=int(ventas[i])*0.10+int(ventas[i])    \n",
    "serieVentas=pd.Series(ventas)\n",
    "serieVentas2=pd.Series(ventas2)\n",
    "print(\"serie sin descuentos\")\n",
    "print(serieVentas)\n",
    "\n",
    "print(\"serie Con descuentos\")\n",
    "print(serieVentas2)"
   ]
  },
  {
   "cell_type": "markdown",
   "id": "23f3348d",
   "metadata": {},
   "source": [
    "2. Escribir una función que reciba un diccionario con las notas de los alumno de un curso y devuelva una serie con la nota mínima, la máxima, media y la desviación típica."
   ]
  },
  {
   "cell_type": "code",
   "execution_count": 23,
   "id": "3b732055",
   "metadata": {},
   "outputs": [
    {
     "name": "stdout",
     "output_type": "stream",
     "text": [
      "Analisis        6\n",
      "Programacion    8\n",
      "Quimica         2\n",
      "dtype: int64\n",
      "serie con la nota minaima\n",
      "2\n",
      "serie con la media\n",
      "5.333333333333333\n",
      "serie con la desviacion tipica\n",
      "3.055050463303893\n",
      "None\n"
     ]
    }
   ],
   "source": [
    "import pandas as pd\n",
    "notas={'Analisis':6,'Programacion':8,'Quimica':2}\n",
    "def Notas(notas):\n",
    "    #serie comun\n",
    "    serieNota=pd.Series(notas)\n",
    "    print(serieNota)\n",
    "    \n",
    "    #serie nota minima\n",
    "    print(\"serie con la nota minaima\")\n",
    "    print(serieNota.min())\n",
    "    #media\n",
    "    print(\"serie con la media\")\n",
    "    print(serieNota.mean())\n",
    "    \n",
    "    #desviacion\n",
    "    print(\"serie con la desviacion tipica\")\n",
    "    print(serieNota.std())\n",
    "print(Notas(notas))"
   ]
  },
  {
   "cell_type": "markdown",
   "id": "b6e22e24",
   "metadata": {},
   "source": [
    "3. Escribir una función que reciba un diccionario con las notas de los alumnos de un curso y devuelva una serie con las notas de los alumnos aprobados ordenadas de mayor a menor."
   ]
  },
  {
   "cell_type": "code",
   "execution_count": null,
   "id": "3857c547",
   "metadata": {},
   "outputs": [],
   "source": []
  },
  {
   "cell_type": "markdown",
   "id": "cf644f18",
   "metadata": {},
   "source": [
    "4. Escribir programa que genere y muestre por pantalla un DataFrame con los datos de la tabla siguiente:\n",
    "\n",
    "| Mes | Ventas | Gastos |\n",
    "| --- | --- | --- |\n",
    "| Enero | 30500 | 22000 |\n",
    "| Febrero | 35600 | 23400 |\n",
    "| Marzo | 28300 | 18100 |\n",
    "| Abril | 33900 | 20700 |"
   ]
  },
  {
   "cell_type": "code",
   "execution_count": null,
   "id": "244204fb",
   "metadata": {},
   "outputs": [],
   "source": []
  },
  {
   "cell_type": "markdown",
   "id": "1e63cf0e",
   "metadata": {},
   "source": [
    "5. Escribir una función que reciba un DataFrame con el formato del ejercicio anterior, una lista de meses, y devuelva el balance (ventas - gastos) total en los meses indicados."
   ]
  },
  {
   "cell_type": "code",
   "execution_count": null,
   "id": "57012ea7",
   "metadata": {},
   "outputs": [],
   "source": []
  },
  {
   "cell_type": "markdown",
   "id": "d5ebd5b7",
   "metadata": {},
   "source": [
    "6. El fichero cotizacion.csv contiene las cotizaciones de las empresas del IBEX35 con las siguientes columnas: nombre (nombre de la empresa), Final (precio de la acción al cierre de bolsa), Máximo (precio máximo de la acción durante la jornada), Mínimo (precio mínimo de la acción durante la jornada), volumen (Volumen al cierre de bolsa), Efectivo (capitalización al cierre en miles de euros). Construir una función que construya un DataFrame a partir del un fichero con el formato anterior y devuelva otro DataFrame con el mínimo, el máximo y la media de dada columna."
   ]
  },
  {
   "cell_type": "code",
   "execution_count": null,
   "id": "e672861e",
   "metadata": {},
   "outputs": [],
   "source": []
  },
  {
   "cell_type": "markdown",
   "id": "e3c9c052",
   "metadata": {},
   "source": [
    "7. El fichero titanic.csv contiene información sobre los pasajeros del Titanic. Escribir un programa con los siguientes requisitos:\n",
    "\n",
    "    1. Generar un DataFrame con los datos del fichero.\n",
    "    2. Mostrar por pantalla las dimensiones del DataFrame, el número de datos que contiene, los nombres de sus columnas y filas, los tipos de datos de las columnas, las 10 primeras filas y las 10 últimas filas\n",
    "    3. Mostrar por pantalla los datos del pasajero con identificador 148.\n",
    "    4. Mostrar por pantalla las filas pares del DataFrame.\n",
    "    5. Mostrar por pantalla los nombres de las personas que iban en primera clase ordenadas alfabéticamente.\n",
    "    6. Mostrar por pantalla el porcentaje de personas que sobrevivieron y murieron.\n",
    "    7. Mostrar por pantalla el porcentaje de personas que sobrevivieron en cada clase.\n",
    "    8. Eliminar del DataFrame los pasajeros con edad desconocida.\n",
    "    9. Mostrar por pantalla la edad media de las mujeres que viajaban en cada clase.\n",
    "    10. Añadir una nueva columna booleana para ver si el pasajero era menor de edad o no.\n",
    "    11. Mostrar por pantalla el porcentaje de menores y mayores de edad que sobrevivieron en cada clase."
   ]
  },
  {
   "cell_type": "code",
   "execution_count": null,
   "id": "a610b921",
   "metadata": {},
   "outputs": [],
   "source": []
  },
  {
   "cell_type": "markdown",
   "id": "c56f56f6",
   "metadata": {},
   "source": [
    "8. Los ficheros emisiones-2016.csv, emisiones-2017.csv, emisiones-2018.csv y emisiones-2019.csv, contienen datos sobre las emisiones contaminates en la ciudad de Madrid en los años 2016, 2017, 2018 y 2019 respectivamente. Escribir un programa con los siguientes requisitos:\n",
    "\n",
    "    1. Generar un DataFrame con los datos de los cuatro ficheros.\n",
    "    2. Filtrar las columnas del DataFrame para quedarse con las columnas ESTACION, MAGNITUD, AÑO, MES y las correspondientes a los días D01, D02, etc.\n",
    "    3. Reestructurar el DataFrame para que los valores de los contaminantes de las columnas de los días aparezcan en una única columna.\n",
    "    4. Añadir una columna con la fecha a partir de la concatenación del año, el mes y el día (usar el módulo datetime).\n",
    "    5. Eliminar las filas con fechas no válidas (utilizar la función isnat del módulo numpy) y ordenar el DataFrame por estaciones contaminantes y fecha.\n",
    "    6. Mostrar por pantalla las estaciones y los contaminantes disponibles en el DataFrame.\n",
    "    7. Crear una función que reciba una estación, un contaminante y un rango de fechas y devuelva una serie con las emisiones del contaminante dado en la estación y rango de fechas dado.\n",
    "    8. Mostrar un resumen descriptivo (mínimo, máximo, media, etc.) para cada contaminante.\n",
    "    9. Mostrar un resumen descriptivo para cada contaminante por distritos.\n",
    "    10. Crear una función que reciba una estación y un contaminante y devuelva un resumen descriptivo de las emisiones del contaminante indicado en la estación indicada.\n",
    "    11. Crear una función que devuelva las emisiones medias mensuales de un contaminante y un año dados para todos las estaciones.\n",
    "    12. Crear un función que reciba una estación de medición y devuelva un DataFrame con las medias mensuales de los distintos tipos de contaminantes."
   ]
  },
  {
   "cell_type": "code",
   "execution_count": null,
   "id": "bf4dd824",
   "metadata": {},
   "outputs": [],
   "source": []
  },
  {
   "cell_type": "markdown",
   "id": "32c9549d",
   "metadata": {},
   "source": [
    "# Ejercicios de la librería Matplotlib"
   ]
  },
  {
   "cell_type": "markdown",
   "id": "45906941",
   "metadata": {},
   "source": [
    "1. Escribir un programa que pregunte al usuario por las ventas de un rango de años y muestre por pantalla un diagrama de líneas con la evolución de las ventas."
   ]
  },
  {
   "cell_type": "code",
   "execution_count": null,
   "id": "8d96adda",
   "metadata": {},
   "outputs": [],
   "source": []
  },
  {
   "cell_type": "markdown",
   "id": "d6976d51",
   "metadata": {},
   "source": [
    "2. Escribir una función que reciba una diccionario con las notas de las asignaturas de un curso y una cadena con el nombre de un color y devuelva un diagrama de barras de las notas en el color dado."
   ]
  },
  {
   "cell_type": "code",
   "execution_count": null,
   "id": "25d662fa",
   "metadata": {},
   "outputs": [],
   "source": []
  },
  {
   "cell_type": "markdown",
   "id": "5557a1e2",
   "metadata": {},
   "source": [
    "3. Escribir una función que reciba una serie de Pandas con las notas de los alumnos de un curso y devuelva un diagrama de cajas con las notas. El diagrama debe tener el título “Distribución de notas”."
   ]
  },
  {
   "cell_type": "code",
   "execution_count": null,
   "id": "bc764b3b",
   "metadata": {},
   "outputs": [],
   "source": []
  },
  {
   "cell_type": "markdown",
   "id": "019e306b",
   "metadata": {},
   "source": [
    "4. Escribir una función que reciba una serie de Pandas con el número de ventas de un producto durante los meses de un trimestre y un título y cree un diagrama de sectores con las ventas en formato png con el titulo dado. El diagrama debe guardarse en un fichero con formato png y el título dado."
   ]
  },
  {
   "cell_type": "code",
   "execution_count": null,
   "id": "6903cb87",
   "metadata": {},
   "outputs": [],
   "source": []
  },
  {
   "cell_type": "markdown",
   "id": "609858b3",
   "metadata": {},
   "source": [
    "5. Escribir una función que reciba una serie de Pandas con el número de ventas de un producto por años y una cadena con el tipo de gráfico a generar (lineas, barras, sectores, areas) y devuelva un diagrama del tipo indicado con la evolución de las ventas por años y con el título “Evolución del número de ventas”."
   ]
  },
  {
   "cell_type": "code",
   "execution_count": null,
   "id": "1847c92d",
   "metadata": {},
   "outputs": [],
   "source": []
  },
  {
   "cell_type": "markdown",
   "id": "02f174a2",
   "metadata": {},
   "source": [
    "6. Escribir una función que reciba un dataframe de Pandas con los ingresos y gastos de una empresa por meses y devuelva un diagrama de líneas con dos líneas, una para los ingresos y otra para los gastos. El diagrama debe tener una leyenda identificando la línea de los ingresos y la de los gastos, un título con el nombre “Evolución de ingresos y gastos” y el eje y debe empezar en 0."
   ]
  },
  {
   "cell_type": "code",
   "execution_count": null,
   "id": "588bd888",
   "metadata": {},
   "outputs": [],
   "source": []
  },
  {
   "cell_type": "markdown",
   "id": "b8d929a1",
   "metadata": {},
   "source": [
    "7. El fichero bancos.csv contiene las cotizaciones de los principales bancos de España con : **Empresa** (nombre de la empresa), **Apertura** (precio de la acción a la apertura de bolsa), **Máximo** (precio máximo de la acción durante la jornada), **Mínimo** (precio mínimo de la acción durante la jornada), **Cierre** (precio de la acción al cierre de bolsa), **Volumen** (volumen al cierre de bolsa). Construir una función reciba el fichero bancos.csv y cree un diagrama de líneas con las series temporales de las cotizaciones de cierre de cada banco."
   ]
  },
  {
   "cell_type": "code",
   "execution_count": null,
   "id": "05a39400",
   "metadata": {},
   "outputs": [],
   "source": []
  },
  {
   "cell_type": "markdown",
   "id": "af554c3c",
   "metadata": {},
   "source": [
    "8. El fichero titanic.csv contiene información sobre los pasajeros del Titanic. Crear un dataframe con Pandas y a partir de él generar los siguientes diagramas.\n",
    "    1. Diagrama de sectores con los fallecidos y supervivientes.\n",
    "    2. Histograma con las edades.\n",
    "    3. Diagrama de barras con el número de personas en cada clase.\n",
    "    4. Diagrama de barras con el número de personas fallecidas y supervivientes en cada clase.\n",
    "    5. Diagrama de barras con el número de personas fallecidas y supervivientes acumuladas en cada clase."
   ]
  },
  {
   "cell_type": "code",
   "execution_count": null,
   "id": "166d5fe0",
   "metadata": {},
   "outputs": [],
   "source": []
  }
 ],
 "metadata": {
  "kernelspec": {
   "display_name": "Python 3",
   "language": "python",
   "name": "python3"
  },
  "language_info": {
   "codemirror_mode": {
    "name": "ipython",
    "version": 3
   },
   "file_extension": ".py",
   "mimetype": "text/x-python",
   "name": "python",
   "nbconvert_exporter": "python",
   "pygments_lexer": "ipython3",
   "version": "3.8.10"
  },
  "vscode": {
   "interpreter": {
    "hash": "916dbcbb3f70747c44a77c7bcd40155683ae19c65e1c03b4aa3499c5328201f1"
   }
  }
 },
 "nbformat": 4,
 "nbformat_minor": 5
}
