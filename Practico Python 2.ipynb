{
 "cells": [
  {
   "cell_type": "markdown",
   "id": "f18c19ba",
   "metadata": {},
   "source": [
    "# Ejercicios de la librería Numpy"
   ]
  },
  {
   "cell_type": "markdown",
   "id": "b3d7bf77",
   "metadata": {},
   "source": [
    "0. Importa la librería numpy como np"
   ]
  },
  {
   "cell_type": "code",
   "execution_count": null,
   "id": "1139c094",
   "metadata": {},
   "outputs": [],
   "source": [
    "import numpy as np\n"
   ]
  },
  {
   "cell_type": "markdown",
   "id": "8d9f00fc",
   "metadata": {},
   "source": [
    "1. Crear un arreglo de 10 ceros"
   ]
  },
  {
   "cell_type": "code",
   "execution_count": 1,
   "id": "ce695036",
   "metadata": {},
   "outputs": [
    {
     "name": "stdout",
     "output_type": "stream",
     "text": [
      "[0. 0. 0. 0. 0. 0. 0. 0. 0. 0.]\n"
     ]
    }
   ],
   "source": [
    "import numpy as np\n",
    "arr = np.zeros(10)\n",
    "print(arr)"
   ]
  },
  {
   "cell_type": "markdown",
   "id": "36202490",
   "metadata": {},
   "source": [
    "2. Crear un arreglo de 10 unos"
   ]
  },
  {
   "cell_type": "code",
   "execution_count": 7,
   "id": "cb0fa882",
   "metadata": {},
   "outputs": [
    {
     "name": "stdout",
     "output_type": "stream",
     "text": [
      "[1. 1. 1. 1. 1. 1. 1. 1. 1. 1.]\n",
      "[1 1 1 1 1 1 1 1 1 1]\n"
     ]
    }
   ],
   "source": [
    "import numpy as np\n",
    "arr=np.full(10,1)\n",
    "print(np.ones(10))\n",
    "print(arr)"
   ]
  },
  {
   "cell_type": "markdown",
   "id": "a4702127",
   "metadata": {},
   "source": [
    "3. Crear un arreglo de 10 cincos"
   ]
  },
  {
   "cell_type": "code",
   "execution_count": 8,
   "id": "2b029774",
   "metadata": {},
   "outputs": [
    {
     "name": "stdout",
     "output_type": "stream",
     "text": [
      "[5 5 5 5 5 5 5 5 5 5]\n"
     ]
    }
   ],
   "source": [
    "import numpy as np\n",
    "print(np.full(10,5))"
   ]
  },
  {
   "cell_type": "markdown",
   "id": "4bbcf3e9",
   "metadata": {},
   "source": [
    "4. Crear un arreglo con todos los numeros pares del 10 al 50"
   ]
  },
  {
   "cell_type": "code",
   "execution_count": 11,
   "id": "0d775739",
   "metadata": {},
   "outputs": [
    {
     "name": "stdout",
     "output_type": "stream",
     "text": [
      "[ 0  2  4  6  8 10 12 14 16 18 20 22 24 26 28 30 32 34 36 38 40 42 44 46\n",
      " 48 50]\n"
     ]
    }
   ],
   "source": [
    "import numpy as np\n",
    "print(np.arange(0,51,2))"
   ]
  },
  {
   "cell_type": "markdown",
   "id": "f946f661",
   "metadata": {},
   "source": [
    "5. Crear una matriz 3x3 con valores del 0 al 8"
   ]
  },
  {
   "cell_type": "code",
   "execution_count": 14,
   "id": "39e6d1f8",
   "metadata": {},
   "outputs": [
    {
     "name": "stdout",
     "output_type": "stream",
     "text": [
      "[[0 1 2]\n",
      " [3 4 5]\n",
      " [6 7 8]]\n"
     ]
    }
   ],
   "source": [
    "import numpy as np\n",
    "arr=np.array([[0,1,2],[3,4,5],[6,7,8]])\n",
    "print(arr)"
   ]
  },
  {
   "cell_type": "markdown",
   "id": "193e929c",
   "metadata": {},
   "source": [
    "6. Crear una matriz de identidad de 3x3"
   ]
  },
  {
   "cell_type": "code",
   "execution_count": 15,
   "id": "43dd48cd",
   "metadata": {},
   "outputs": [
    {
     "name": "stdout",
     "output_type": "stream",
     "text": [
      "[[1. 0. 0.]\n",
      " [0. 1. 0.]\n",
      " [0. 0. 1.]]\n"
     ]
    }
   ],
   "source": [
    "import numpy as np\n",
    "print(np.identity(3))"
   ]
  },
  {
   "cell_type": "markdown",
   "id": "f70bb7f5",
   "metadata": {},
   "source": [
    "7. Utilizar numpy para geneara un numero aleatorio entre 0 y 1"
   ]
  },
  {
   "cell_type": "code",
   "execution_count": 24,
   "id": "6c2f453b",
   "metadata": {},
   "outputs": [
    {
     "name": "stdout",
     "output_type": "stream",
     "text": [
      "[0.25805356]\n"
     ]
    }
   ],
   "source": [
    "import numpy as np\n",
    "a=np.random.random(1)\n",
    "print(a)"
   ]
  },
  {
   "cell_type": "markdown",
   "id": "078b2077",
   "metadata": {},
   "source": [
    "8. Utilizar numpy para generar un arreglo de 25 numeros aleatorioas con una distribucion normal"
   ]
  },
  {
   "cell_type": "code",
   "execution_count": 43,
   "id": "a037ec6c",
   "metadata": {},
   "outputs": [
    {
     "name": "stdout",
     "output_type": "stream",
     "text": [
      "[24.43669684 25.22362091 25.29762619 23.63939064 24.25816958 24.67341038\n",
      " 26.17924118 24.56172022 25.98997127 25.81875852 25.59189254 25.11613165\n",
      " 25.34999958 25.10697279 26.69888687 24.34477084 25.58514182 25.36392965\n",
      " 24.71463241 24.21883597 24.35283433 24.3682888  25.47881575 23.80850317\n",
      " 25.04592944]\n"
     ]
    }
   ],
   "source": [
    "import numpy as np\n",
    "arr=np.random.normal(25,1,25)\n",
    "print(arr)"
   ]
  },
  {
   "cell_type": "markdown",
   "id": "d1f52017",
   "metadata": {},
   "source": [
    "9. Crear la siguiente matriz"
   ]
  },
  {
   "cell_type": "code",
   "execution_count": null,
   "id": "392aa2ab",
   "metadata": {},
   "outputs": [],
   "source": []
  },
  {
   "cell_type": "markdown",
   "id": "b0f22aad",
   "metadata": {},
   "source": [
    "10. Crear un arreglo de 20 valores lineales entre 0 y 1"
   ]
  },
  {
   "cell_type": "code",
   "execution_count": 44,
   "id": "6ec57513",
   "metadata": {},
   "outputs": [
    {
     "name": "stdout",
     "output_type": "stream",
     "text": [
      "[0.         0.02040816 0.04081633 0.06122449 0.08163265 0.10204082\n",
      " 0.12244898 0.14285714 0.16326531 0.18367347 0.20408163 0.2244898\n",
      " 0.24489796 0.26530612 0.28571429 0.30612245 0.32653061 0.34693878\n",
      " 0.36734694 0.3877551  0.40816327 0.42857143 0.44897959 0.46938776\n",
      " 0.48979592 0.51020408 0.53061224 0.55102041 0.57142857 0.59183673\n",
      " 0.6122449  0.63265306 0.65306122 0.67346939 0.69387755 0.71428571\n",
      " 0.73469388 0.75510204 0.7755102  0.79591837 0.81632653 0.83673469\n",
      " 0.85714286 0.87755102 0.89795918 0.91836735 0.93877551 0.95918367\n",
      " 0.97959184 1.        ]\n"
     ]
    }
   ],
   "source": [
    "import numpy as np\n",
    "\n",
    "arr=np.linspace(0,1)\n",
    "print(arr)"
   ]
  },
  {
   "cell_type": "markdown",
   "id": "867225d0",
   "metadata": {},
   "source": [
    "### Seleccion e indices de Numpy\n",
    "11. Se te daran varias matrices, se te pide replicar el resultado"
   ]
  },
  {
   "cell_type": "code",
   "execution_count": 45,
   "id": "ed7d3e0e",
   "metadata": {},
   "outputs": [
    {
     "data": {
      "text/plain": [
       "array([[ 1,  2,  3,  4,  5],\n",
       "       [ 6,  7,  8,  9, 10],\n",
       "       [11, 12, 13, 14, 15],\n",
       "       [16, 17, 18, 19, 20],\n",
       "       [21, 22, 23, 24, 25]])"
      ]
     },
     "execution_count": 45,
     "metadata": {},
     "output_type": "execute_result"
    }
   ],
   "source": [
    "import numpy as np\n",
    "mat = np.arange(1,26).reshape(5,5)\n",
    "mat"
   ]
  },
  {
   "cell_type": "raw",
   "id": "e0829c57",
   "metadata": {},
   "source": [
    "# escribe el codigo que permite reproducir el siguiente resultado\n",
    "# se cuidadoso al momento de correr el codigo,\n",
    "# ya que podrias borrar el resultado\n",
    "array([[12, 13, 14, 15],\n",
    "       [17, 18, 19, 20],\n",
    "       [22, 23, 24, 25]])"
   ]
  },
  {
   "cell_type": "code",
   "execution_count": 66,
   "id": "a6037f29",
   "metadata": {},
   "outputs": [
    {
     "name": "stdout",
     "output_type": "stream",
     "text": [
      "[[12 13 14 15]\n",
      " [17 18 19 20]\n",
      " [12 13 14 15]]\n"
     ]
    }
   ],
   "source": [
    "import numpy as np\n",
    "mat1=np.arange(12,16).reshape(1,4)\n",
    "mat2=np.arange(17,21).reshape(1,4)\n",
    "mat3=np.arange(22,26).reshape(1,4)\n",
    "matRes=np.concatenate([mat1,mat2,mat])\n",
    "print(matRes)\n",
    "\n",
    "\n",
    "\n"
   ]
  },
  {
   "cell_type": "raw",
   "id": "914db3ab",
   "metadata": {},
   "source": [
    "# escribe el codigo que permite reproducir el siguiente resultado\n",
    "# se cuidadoso al momento de correr el codigo,\n",
    "# ya que podrias borrar el resultado\n",
    "20"
   ]
  },
  {
   "cell_type": "code",
   "execution_count": 68,
   "id": "1c74fa1b",
   "metadata": {},
   "outputs": [
    {
     "name": "stdout",
     "output_type": "stream",
     "text": [
      "[20]\n"
     ]
    }
   ],
   "source": [
    "import numpy as np\n",
    "mat1=np.arange(12,16).reshape(1,4)\n",
    "mat2=np.arange(17,21).reshape(1,4)\n",
    "mat3=np.arange(22,26).reshape(1,4)\n",
    "matRes=np.concatenate([mat1,mat2,mat])\n",
    "\n",
    "print(matRes[(matRes==20)])\n"
   ]
  },
  {
   "cell_type": "raw",
   "id": "fbd8acb6",
   "metadata": {},
   "source": [
    "# escribe el codigo que permite reproducir el siguiente resultado\n",
    "# se cuidadoso al momento de correr el codigo,\n",
    "# ya que podrias borrar el resultado\n",
    "array([[ 2],\n",
    "       [ 7],\n",
    "       [12]])"
   ]
  },
  {
   "cell_type": "code",
   "execution_count": 92,
   "id": "1c1154d0",
   "metadata": {},
   "outputs": [
    {
     "name": "stdout",
     "output_type": "stream",
     "text": [
      "[[ 2]\n",
      " [ 7]\n",
      " [12]]\n"
     ]
    }
   ],
   "source": [
    "import numpy as np\n",
    "\n",
    "# crear matriz de 3 filas y 1 columna con los valores dados\n",
    "matriz = np.array([[2], [7], [12]])\n",
    "\n",
    "print(matriz)"
   ]
  },
  {
   "cell_type": "raw",
   "id": "7017a1c2",
   "metadata": {},
   "source": [
    "# escribe el codigo que permite reproducir el siguiente resultado\n",
    "# se cuidadoso al momento de correr el codigo,\n",
    "# ya que podrias borrar el resultado\n",
    "array([21, 22, 23, 24, 25])"
   ]
  },
  {
   "cell_type": "code",
   "execution_count": 97,
   "id": "25a165f7",
   "metadata": {},
   "outputs": [
    {
     "name": "stdout",
     "output_type": "stream",
     "text": [
      "[[21 22 23 24 25]]\n"
     ]
    }
   ],
   "source": [
    "import numpy as np\n",
    "arr=np.arange(21,26).reshape(1,5)\n",
    "print(arr)"
   ]
  },
  {
   "cell_type": "raw",
   "id": "900394dd",
   "metadata": {},
   "source": [
    "# escribe el codigo que permite reproducir el siguiente resultado\n",
    "# se cuidadoso al momento de correr el codigo,\n",
    "# ya que podrias borrar el resultado\n",
    "array([[16, 17, 18, 19, 20],\n",
    "       [21, 22, 23, 24, 25]])"
   ]
  },
  {
   "cell_type": "code",
   "execution_count": 99,
   "id": "eb50080e",
   "metadata": {},
   "outputs": [
    {
     "name": "stdout",
     "output_type": "stream",
     "text": [
      "[[16 17 18 19 20]\n",
      " [21 22 23 24 25]]\n"
     ]
    }
   ],
   "source": [
    "import numpy as np\n",
    "arr=np.arange(16,21).reshape(1,5)\n",
    "arr2=np.arange(21,26).reshape(1,5)\n",
    "arrR=np.concatenate([arr,arr2])\n",
    "print(arrR)"
   ]
  },
  {
   "cell_type": "markdown",
   "id": "e1abd9d3",
   "metadata": {},
   "source": [
    "Luego continua con:\n",
    "- Obten la suma de los valores de `mat`\n",
    "- Obten la desviacion estandar de los valores de `mat`\n",
    "- Obten la suma de las columnas de los valores de `mat`"
   ]
  },
  {
   "cell_type": "code",
   "execution_count": 108,
   "id": "66ced130",
   "metadata": {},
   "outputs": [
    {
     "name": "stdout",
     "output_type": "stream",
     "text": [
      "325\n",
      "7.211102550927978\n",
      "[55 60 65 70 75]\n"
     ]
    }
   ],
   "source": [
    "import numpy as np\n",
    "mat = np.arange(1,26).reshape(5,5)\n",
    "sum=np.sum(mat)\n",
    "print(sum)\n",
    "\n",
    "desviacion=np.std(mat)\n",
    "print(desviacion)\n",
    "\n",
    "sumColum=np.sum(mat,axis=0)\n",
    "print(sumColum)"
   ]
  },
  {
   "cell_type": "markdown",
   "id": "27c11759",
   "metadata": {},
   "source": [
    "# Ejercicios de la Librería Pandas\n",
    "\n",
    "1. Escribir un programa que pregunte al usuario por las ventas de un rango de años y muestre por pantalla una serie con los datos de las ventas indexada por los años, antes y después de aplicarles un descuento del 10%."
   ]
  },
  {
   "cell_type": "code",
   "execution_count": 7,
   "id": "89fdc082",
   "metadata": {},
   "outputs": [
    {
     "name": "stdout",
     "output_type": "stream",
     "text": [
      "serie sin descuentos\n",
      "\n",
      "2012    10\n",
      "2013    20\n",
      "2014    30\n",
      "dtype: object\n",
      "serie Con descuentos\n",
      "2012    11.0\n",
      "2013    22.0\n",
      "2014    33.0\n",
      "dtype: float64\n"
     ]
    }
   ],
   "source": [
    "import pandas as pd\n",
    "import numpy as np\n",
    "anioI=input(\"ingrese anio inicial\")\n",
    "anioF=input(\"Ingrese el año fin\")\n",
    "\n",
    "#creo dicts \n",
    "ventas={}\n",
    "ventas2={}\n",
    "for i in range(int(anioI),int(anioF)+1):\n",
    "    ventas[i]=input(\"ingresa las ventas de este anio\")\n",
    "    ventas2[i]=int(ventas[i])*0.10+int(ventas[i])    \n",
    "serieVentas=pd.Series(ventas)\n",
    "serieVentas2=pd.Series(ventas2)\n",
    "print(\"serie sin descuentos\")\n",
    "print(serieVentas)\n",
    "\n",
    "print(\"serie Con descuentos\")\n",
    "print(serieVentas2)"
   ]
  },
  {
   "cell_type": "markdown",
   "id": "23f3348d",
   "metadata": {},
   "source": [
    "2. Escribir una función que reciba un diccionario con las notas de los alumno de un curso y devuelva una serie con la nota mínima, la máxima, media y la desviación típica."
   ]
  },
  {
   "cell_type": "code",
   "execution_count": 23,
   "id": "3b732055",
   "metadata": {},
   "outputs": [
    {
     "name": "stdout",
     "output_type": "stream",
     "text": [
      "Analisis        6\n",
      "Programacion    8\n",
      "Quimica         2\n",
      "dtype: int64\n",
      "serie con la nota minaima\n",
      "2\n",
      "serie con la media\n",
      "5.333333333333333\n",
      "serie con la desviacion tipica\n",
      "3.055050463303893\n",
      "None\n"
     ]
    }
   ],
   "source": [
    "import pandas as pd\n",
    "notas={'Analisis':6,'Programacion':8,'Quimica':2}\n",
    "def Notas(notas):\n",
    "    #serie comun\n",
    "    serieNota=pd.Series(notas)\n",
    "    print(serieNota)\n",
    "    \n",
    "    #serie nota minima\n",
    "    print(\"serie con la nota minaima\")\n",
    "    print(serieNota.min())\n",
    "    #media\n",
    "    print(\"serie con la media\")\n",
    "    print(serieNota.mean())\n",
    "    \n",
    "    #desviacion\n",
    "    print(\"serie con la desviacion tipica\")\n",
    "    print(serieNota.std())\n",
    "print(Notas(notas))"
   ]
  },
  {
   "cell_type": "markdown",
   "id": "b6e22e24",
   "metadata": {},
   "source": [
    "3. Escribir una función que reciba un diccionario con las notas de los alumnos de un curso y devuelva una serie con las notas de los alumnos aprobados ordenadas de mayor a menor."
   ]
  },
  {
   "cell_type": "code",
   "execution_count": 12,
   "id": "3857c547",
   "metadata": {},
   "outputs": [
    {
     "name": "stdout",
     "output_type": "stream",
     "text": [
      "Analisis        6\n",
      "Programacion    8\n",
      "Quimica         2\n",
      "dtype: int64\n",
      "Programacion    8\n",
      "Analisis        6\n",
      "dtype: int64\n",
      "None\n"
     ]
    }
   ],
   "source": [
    "import pandas as pd\n",
    "notas={'Analisis':6,'Programacion':8,'Quimica':2}\n",
    "def Notas(notas):\n",
    "    #serie comun\n",
    "    serieNota=pd.Series(notas)\n",
    "    print(serieNota)\n",
    "    \n",
    "    #serie notas aprobados de menor a mayor\n",
    "    print(serieNota[serieNota>=4].sort_values(ascending=False))\n",
    "    \n",
    "print(Notas(notas))"
   ]
  },
  {
   "cell_type": "markdown",
   "id": "cf644f18",
   "metadata": {},
   "source": [
    "4. Escribir programa que genere y muestre por pantalla un DataFrame con los datos de la tabla siguiente:\n",
    "\n",
    "| Mes | Ventas | Gastos |\n",
    "| --- | --- | --- |\n",
    "| Enero | 30500 | 22000 |\n",
    "| Febrero | 35600 | 23400 |\n",
    "| Marzo | 28300 | 18100 |\n",
    "| Abril | 33900 | 20700 |"
   ]
  },
  {
   "cell_type": "code",
   "execution_count": 14,
   "id": "244204fb",
   "metadata": {},
   "outputs": [
    {
     "name": "stdout",
     "output_type": "stream",
     "text": [
      "       mes  ventas  gastos\n",
      "0    Enero   30500   22000\n",
      "1  Febrero   35600   23400\n",
      "2    Marzo   28300   18100\n",
      "3    Abril   33900   20700\n"
     ]
    }
   ],
   "source": [
    "import pandas as pd\n",
    "datos={'mes':['Enero','Febrero','Marzo','Abril'],\n",
    "        'ventas':[30500,35600,28300,33900],\n",
    "        'gastos':[22000,23400,18100,20700]\n",
    "        \n",
    "        }\n",
    "\n",
    "def data(datos):\n",
    "    #creo el dataframe\n",
    "    df=pd.DataFrame(datos)\n",
    "    print(df)\n",
    "data(datos)    \n"
   ]
  },
  {
   "cell_type": "markdown",
   "id": "1e63cf0e",
   "metadata": {},
   "source": [
    "5. Escribir una función que reciba un DataFrame con el formato del ejercicio anterior, una lista de meses, y devuelva el balance (ventas - gastos) total en los meses indicados."
   ]
  },
  {
   "cell_type": "code",
   "execution_count": 18,
   "id": "57012ea7",
   "metadata": {},
   "outputs": [
    {
     "name": "stdout",
     "output_type": "stream",
     "text": [
      "0     8500\n",
      "1    12200\n",
      "2    10200\n",
      "3    13200\n",
      "dtype: int64\n"
     ]
    }
   ],
   "source": [
    "import pandas as pd\n",
    "datos={'mes':['Enero','Febrero','Marzo','Abril'],\n",
    "        'ventas':[30500,35600,28300,33900],\n",
    "        'gastos':[22000,23400,18100,20700]\n",
    "        \n",
    "        }\n",
    "\n",
    "def data(datos):\n",
    "    #creo el dataframe\n",
    "    df=pd.DataFrame(datos)\n",
    "    balance=df['ventas']-df['gastos']\n",
    "    print(balance)\n",
    "data(datos)  "
   ]
  },
  {
   "cell_type": "markdown",
   "id": "d5ebd5b7",
   "metadata": {},
   "source": [
    "6. El fichero cotizacion.csv contiene las cotizaciones de las empresas del IBEX35 con las siguientes columnas: nombre (nombre de la empresa), Final (precio de la acción al cierre de bolsa), Máximo (precio máximo de la acción durante la jornada), Mínimo (precio mínimo de la acción durante la jornada), volumen (Volumen al cierre de bolsa), Efectivo (capitalización al cierre en miles de euros). Construir una función que construya un DataFrame a partir del un fichero con el formato anterior y devuelva otro DataFrame con el mínimo, el máximo y la media de dada columna."
   ]
  },
  {
   "cell_type": "code",
   "execution_count": 25,
   "id": "e672861e",
   "metadata": {},
   "outputs": [
    {
     "name": "stdout",
     "output_type": "stream",
     "text": [
      "<bound method NDFrame.head of           Nombre       Final      Máximo      Mínimo     Volumen   Efectivo\n",
      "0        ACCIONA     95.9500     96.7500     94.4000      84.962    8166.11\n",
      "1       ACERINOX   8668.0000   8672.0000   8468.0000      885.99    7633.81\n",
      "2            ACS     37.2800     37.6600     37.2200     655.982   24517.29\n",
      "3           AENA    167.1000    167.5000    166.1000     133.738   22336.10\n",
      "4        AMADEUS     69.9600     70.6400     69.5600     640.476   44795.47\n",
      "5    ARCELORMIT.  14152.0000  14318.0000     14.0800     702.841    9989.65\n",
      "6    BA.SABADELL      1.0165   1033.0000      1.0165  12.358.512   12637.65\n",
      "7   BA.SANTANDER      4.0200      4.0675      4.0100  36.129.692  145765.44\n",
      "8         BANKIA   2249.0000   2262.0000   2224.0000   3.024.454    6803.54\n",
      "9      BANKINTER      6.5600   6604.0000   6522.0000   1.375.976    9030.20\n",
      "10          BBVA   5024.0000      5.0500   4969.0000  26.447.612  132560.15\n",
      "11     CAIXABANK   2763.0000   2806.0000   2762.0000  13.031.097   36239.22\n",
      "12       CELLNEX     30.1700     30.7000     30.1700     857.237   25965.29\n",
      "13  CIE AUTOMOT.     23.4400     23.7400     23.4000      99.506    2343.09\n",
      "14        ENAGAS     25.6000     25.6600     25.0700      842.54   21524.77\n",
      "15          ENCE   3882.0000   3974.0000   3846.0000   2.099.698    8219.83\n",
      "16        ENDESA     22.9500     23.0300     22.6200   1.236.799   28233.46\n",
      "17     FERROVIAL     21.6100     21.7200     21.3800   2.065.931   44656.05\n",
      "18  GRIFOLS CL.A     23.3000     23.6000     23.2700     719.503   16787.55\n",
      "19           IAG      5.3000      5.4600   5292.0000   2.155.081   11561.95\n",
      "20     IBERDROLA      8.4500      8.4500   8262.0000  15.637.958  131426.05\n",
      "21       INDITEX     24.9300     25.1900     24.8700   2.600.144   65012.92\n",
      "22       INDRA A      9.5600   9685.0000   9535.0000      392.06    3755.57\n",
      "23  INM.COLONIAL   9915.0000   9915.0000   9745.0000     671.753    6640.38\n",
      "24        MAPFRE   2654.0000   2654.0000      2.6200   3.045.972    8063.13\n",
      "25      MEDIASET   6446.0000   6592.0000   6446.0000   2.647.557   17277.04\n",
      "26  MELIA HOTELS      8.1400      8.1900      8.0200      480.21    3914.93\n",
      "27        MERLIN     12.0800     12.0800     11.8300     777.543    9357.77\n",
      "28       NATURGY     26.7000     26.7700     26.5300   2.100.737   55986.54\n",
      "29        R.E.C.  19705.0000  19875.0000  19675.0000   1.246.171   24585.33\n",
      "30        REPSOL  14515.0000  14605.0000     14.4600   5.046.648   73333.78\n",
      "31  SIEMENS GAME     14.3300     14.3900  14155.0000   1.054.847   15084.56\n",
      "32  TEC.REUNIDAS     23.0000     23.2000     22.7800       122.1    2807.19\n",
      "33    TELEFONICA   7204.0000   7256.0000   7185.0000   9.913.249   71564.99\n",
      "34      VISCOFAN     48.4600     49.1200     48.4600       67.71    3295.43>\n"
     ]
    }
   ],
   "source": [
    "import pandas as pd\n",
    "df=pd.read_csv('/home/juan-pablo/Escritorio/Sist inteligente/assets/cotizacion.csv',sep=';', decimal=',')\n",
    "dataF=pd.DataFrame(df)\n",
    "print(dataF.head)"
   ]
  },
  {
   "cell_type": "markdown",
   "id": "e3c9c052",
   "metadata": {},
   "source": [
    "7. El fichero titanic.csv contiene información sobre los pasajeros del Titanic. Escribir un programa con los siguientes requisitos:\n",
    "\n",
    "    1. Generar un DataFrame con los datos del fichero.\n",
    "    2. Mostrar por pantalla las dimensiones del DataFrame, el número de datos que contiene, los nombres de sus columnas y filas, los tipos de datos de las columnas, las 10 primeras filas y las 10 últimas filas\n",
    "    3. Mostrar por pantalla los datos del pasajero con identificador 148.\n",
    "    4. Mostrar por pantalla las filas pares del DataFrame.\n",
    "    5. Mostrar por pantalla los nombres de las personas que iban en primera clase ordenadas alfabéticamente.\n",
    "    6. Mostrar por pantalla el porcentaje de personas que sobrevivieron y murieron.\n",
    "    7. Mostrar por pantalla el porcentaje de personas que sobrevivieron en cada clase.\n",
    "    8. Eliminar del DataFrame los pasajeros con edad desconocida.\n",
    "    9. Mostrar por pantalla la edad media de las mujeres que viajaban en cada clase.\n",
    "    10. Añadir una nueva columna booleana para ver si el pasajero era menor de edad o no.\n",
    "    11. Mostrar por pantalla el porcentaje de menores y mayores de edad que sobrevivieron en cada clase."
   ]
  },
  {
   "cell_type": "code",
   "execution_count": 50,
   "id": "a610b921",
   "metadata": {},
   "outputs": [
    {
     "name": "stdout",
     "output_type": "stream",
     "text": [
      "Porcentaje de personas que sobreviviveron y son mayor de edad por clase:  Pclass\n",
      "1    32.456140\n",
      "2    18.128655\n",
      "3    16.374269\n",
      "Name: Age, dtype: float64\n",
      "Porcentaje de personas que sobreviviveron y son menor de edad por clase:  Pclass\n",
      "1    3.216374\n",
      "2    6.140351\n",
      "3    8.479532\n",
      "Name: Age, dtype: float64\n"
     ]
    }
   ],
   "source": [
    "import pandas as pd\n",
    "df=pd.read_csv('/home/juan-pablo/Escritorio/Sist inteligente/assets/titanic.csv' )\n",
    "#dataframe\n",
    "dataF=pd.DataFrame(df)\n",
    "#print(dataF.head)\n",
    "#Dimensiones\n",
    "#dimen=dataF.shape\n",
    "#print(dimen)\n",
    "#tamaño\n",
    "#size=dataF.size\n",
    "#print(size)\n",
    "#info\n",
    "#info=dataF.info()\n",
    "#print(info)\n",
    "\n",
    "#primeras 10 filas\n",
    "#print(dataF.head(10))\n",
    "\n",
    "#ultimas 10 filas\n",
    "#print(dataF.tail(10))\n",
    "\n",
    "#pasajero con id 148\n",
    "#print('pasajero id 148')\n",
    "#print(dataF.loc[147])\n",
    "\n",
    "#filas pares, el ::2 es para que salte de 2 en 2\n",
    "#print(dataF.iloc[::2])\n",
    "\n",
    "#personas que iban en primera clase, alfabeticamente\n",
    "#primeraClase=dataF[dataF['Pclass']==1].sort_values(by='Name')\n",
    "\n",
    "#print(primeraClase)\n",
    "\n",
    "#6 Mostrar por pantalla el porcentaje de personas que sobrevivieron y murieron.\n",
    "\n",
    "#Total=dataF['Survived'].count();\n",
    "#print(Total) #891 -->100%\n",
    "#Total_Murieron=dataF[dataF['Survived']==0]['Survived'].count()\n",
    "#print('Porcentaje muerte',(Total_Murieron*100)/Total) #549\n",
    "\n",
    "\n",
    "#Total_Sobrevivieron=dataF[dataF['Survived']==1]['Survived'].count() #342\n",
    "#print('Porcentaje sobrevivencia',(Total_Sobrevivieron*100)/Total) #549\n",
    "\n",
    "#7. Mostrar por pantalla el porcentaje de personas que sobrevivieron en cada clase.\n",
    "\n",
    "Total_Sobrevivieron=dataF[dataF['Survived']==1]['Survived'].count() \n",
    "Total_Sobrevivieron1=dataF.loc[(dataF['Survived']==1) & (dataF['Pclass']==1)]['Survived'].count()\n",
    "#print('Porcentaje: ', Total_Sobrevivieron1*100/Total_Sobrevivieron)\n",
    "Total_Sobrevivieron2=dataF.loc[(dataF['Survived']==1) & (dataF['Pclass']==2)]['Survived'].count()\n",
    "#print('Porcentaje: ', Total_Sobrevivieron2*100/Total_Sobrevivieron)\n",
    "Total_Sobrevivieron3=dataF.loc[(dataF['Survived']==1) & (dataF['Pclass']==3)]['Survived'].count()\n",
    "#print('Porcentaje: ', Total_Sobrevivieron3*100/Total_Sobrevivieron)\n",
    " #   8. Eliminar del DataFrame los pasajeros con edad desconocida.\n",
    "UndefinedPassangers=dataF[dataF['Age'].isnull()]['PassengerId'].count()\n",
    "#el dropna es para eliminar los valores nulos o vacios\n",
    "DFwithoutUndefinedPassangers=dataF.dropna(subset=['Age'])\n",
    "#print(DFwithoutUndefinedPassangers)\n",
    " \n",
    "#9. Mostrar por pantalla la edad media de las mujeres que viajaban en cada clase.\n",
    "#agrupo por pclass con group by en sus valores y en cada tupla saco la media\n",
    "MeanAgeOfLadys = dataF[dataF['Sex']=='female'].groupby('Pclass')['Age'].mean()\n",
    "#print(MeanAgeOfLadys)\n",
    "#10. Añadir una nueva columna booleana para ver si el pasajero era menor de edad o no.\n",
    "MayorDeEdad=dataF['Age']>=18\n",
    "dataF['MayorDeEdad']=MayorDeEdad\n",
    "#print(MayorDeEdad)\n",
    "#11. Mostrar por pantalla el porcentaje de menores y mayores de edad que sobrevivieron en cada clase.\n",
    "MayoresDeEdad=dataF[dataF['Age']>=18]['PassengerId'].count()\n",
    "MeanAgeOfPersons = dataF[(dataF['Age']>=18) & (dataF['Survived']==1)].groupby('Pclass')['Age'].count()*100/Total_Sobrevivieron\n",
    "print('Porcentaje de personas que sobreviviveron y son mayor de edad por clase: ', MeanAgeOfPersons)\n",
    "\n",
    "MeanAgeOfPersons2 = dataF[(dataF['Age']<18) & (dataF['Survived']==1)].groupby('Pclass')['Age'].count()*100/Total_Sobrevivieron\n",
    "print('Porcentaje de personas que sobreviviveron y son menor de edad por clase: ', MeanAgeOfPersons2)\n",
    "\n",
    "\n"
   ]
  },
  {
   "cell_type": "markdown",
   "id": "c56f56f6",
   "metadata": {},
   "source": [
    "8. Los ficheros emisiones-2016.csv, emisiones-2017.csv, emisiones-2018.csv y emisiones-2019.csv, contienen datos sobre las emisiones contaminates en la ciudad de Madrid en los años 2016, 2017, 2018 y 2019 respectivamente. Escribir un programa con los siguientes requisitos:\n",
    "\n",
    "    1. Generar un DataFrame con los datos de los cuatro ficheros.\n",
    "    2. Filtrar las columnas del DataFrame para quedarse con las columnas ESTACION, MAGNITUD, AÑO, MES y las correspondientes a los días D01, D02, etc.\n",
    "    3. Reestructurar el DataFrame para que los valores de los contaminantes de las columnas de los días aparezcan en una única columna.\n",
    "    4. Añadir una columna con la fecha a partir de la concatenación del año, el mes y el día (usar el módulo datetime).\n",
    "    5. Eliminar las filas con fechas no válidas (utilizar la función isnat del módulo numpy) y ordenar el DataFrame por estaciones contaminantes y fecha.\n",
    "    6. Mostrar por pantalla las estaciones y los contaminantes disponibles en el DataFrame.\n",
    "    7. Crear una función que reciba una estación, un contaminante y un rango de fechas y devuelva una serie con las emisiones del contaminante dado en la estación y rango de fechas dado.\n",
    "    8. Mostrar un resumen descriptivo (mínimo, máximo, media, etc.) para cada contaminante.\n",
    "    9. Mostrar un resumen descriptivo para cada contaminante por distritos.\n",
    "    10. Crear una función que reciba una estación y un contaminante y devuelva un resumen descriptivo de las emisiones del contaminante indicado en la estación indicada.\n",
    "    11. Crear una función que devuelva las emisiones medias mensuales de un contaminante y un año dados para todos las estaciones.\n",
    "    12. Crear un función que reciba una estación de medición y devuelva un DataFrame con las medias mensuales de los distintos tipos de contaminantes."
   ]
  },
  {
   "cell_type": "code",
   "execution_count": null,
   "id": "bf4dd824",
   "metadata": {},
   "outputs": [],
   "source": []
  },
  {
   "cell_type": "markdown",
   "id": "32c9549d",
   "metadata": {},
   "source": [
    "# Ejercicios de la librería Matplotlib"
   ]
  },
  {
   "cell_type": "markdown",
   "id": "45906941",
   "metadata": {},
   "source": [
    "1. Escribir un programa que pregunte al usuario por las ventas de un rango de años y muestre por pantalla un diagrama de líneas con la evolución de las ventas."
   ]
  },
  {
   "cell_type": "code",
   "execution_count": 56,
   "id": "8d96adda",
   "metadata": {},
   "outputs": [
    {
     "data": {
      "image/png": "[encoded data removed]",
      "text/plain": [
       "<Figure size 432x288 with 1 Axes>"
      ]
     },
     "metadata": {
      "needs_background": "light"
     },
     "output_type": "display_data"
    }
   ],
   "source": [
    "import matplotlib.pyplot as plt\n",
    "\n",
    "#diccionario que tenga clave el año y valor la cantidad de ventas\n",
    "ventas_por_anio = {}\n",
    "anios = [2010,2011,2012,2013,2014,2015,2016,2017,2018,2019,2020]\n",
    "ventas = []\n",
    "\n",
    "#sirve nomas para crear un diccinario clave valor\n",
    "#for anio in range(2010, 2021):\n",
    " #   cantidad = input(\"Ingrese la cantidad de ventas en el año {}: \".format(anio))\n",
    "  #  ventas_por_anio[str(anio)] = int(cantidad)\n",
    "\n",
    "for ani in anios:\n",
    "        cantidad = input(\"Ingrese la cantidad de ventas en el año {}: \".format(ani))\n",
    "        ventas.append(cantidad)\n",
    "fig, ax = plt.subplots()\n",
    "ax.plot(anios,ventas)\n",
    "plt.show()\n"
   ]
  },
  {
   "cell_type": "markdown",
   "id": "d6976d51",
   "metadata": {},
   "source": [
    "2. Escribir una función que reciba una diccionario con las notas de las asignaturas de un curso y una cadena con el nombre de un color y devuelva un diagrama de barras de las notas en el color dado."
   ]
  },
  {
   "cell_type": "code",
   "execution_count": 90,
   "id": "25d662fa",
   "metadata": {},
   "outputs": [
    {
     "name": "stdout",
     "output_type": "stream",
     "text": [
      "{10: 'e', 2: 's'}\n"
     ]
    },
    {
     "data": {
      "image/png": "[encoded data removed]",
      "text/plain": [
       "<Figure size 432x288 with 1 Axes>"
      ]
     },
     "metadata": {
      "needs_background": "light"
     },
     "output_type": "display_data"
    }
   ],
   "source": [
    "import matplotlib.pyplot as plt\n",
    "import matplotlib.colors as colors\n",
    "\n",
    "def diagrama_notas(notas, color):\n",
    "    notas_valores = list(notas.values())\n",
    "    notas_claves = list(notas.keys())\n",
    "    color_lista = [colors.to_rgba(color) ]  # Convertir cadena de color a lista de colores\n",
    "    fig, ax = plt.subplots()\n",
    "    ax.bar(notas_valores,notas_claves, color=color_lista)\n",
    "    ax.set_xlabel('Asignatura')\n",
    "    ax.set_ylabel('Nota')\n",
    "    ax.set_title('Notas del curso')\n",
    "    plt.show()\n",
    "\n",
    "notas = {}\n",
    "\n",
    "cantidad = input(\"Ingrese la cantidad de notas: \")\n",
    "\n",
    "for nota in range(0, int(cantidad)):\n",
    "    nota2 = input(\"Ingrese la nota del alumno: \")\n",
    "    nota = str(nota2)\n",
    "    color = input(\"Ingrese el color de la nota: \")\n",
    "    notas[int(nota)] = str(color)\n",
    "\n",
    "print(notas)\n",
    "\n",
    "color = input(\"Ingrese el color para el diagrama de barras: \")\n",
    "diagrama_notas(notas, color)"
   ]
  },
  {
   "cell_type": "markdown",
   "id": "5557a1e2",
   "metadata": {},
   "source": [
    "3. Escribir una función que reciba una serie de Pandas con las notas de los alumnos de un curso y devuelva un diagrama de cajas con las notas. El diagrama debe tener el título “Distribución de notas”."
   ]
  },
  {
   "cell_type": "code",
   "execution_count": 104,
   "id": "bc764b3b",
   "metadata": {},
   "outputs": [
    {
     "data": {
      "image/png": "[encoded data removed]",
      "text/plain": [
       "<Figure size 432x288 with 1 Axes>"
      ]
     },
     "metadata": {
      "needs_background": "light"
     },
     "output_type": "display_data"
    }
   ],
   "source": [
    "import pandas as pd\n",
    "import matplotlib.pyplot as plt\n",
    "import matplotlib.colors as colors\n",
    "\n",
    "cantidad_notas=input(\"ingrese la cantidad de notas: \")\n",
    "notas=[]\n",
    "\n",
    "for i in range (0,int(cantidad_notas)):\n",
    "    nota=input(\"ingrese la nota del alumno: \")\n",
    "    notas.append(int(nota))\n",
    "\n",
    "fig, ax = plt.subplots()\n",
    "ax.boxplot(notas)\n",
    "ax.set_title(\"Distribución de notas\")\n",
    "plt.show()"
   ]
  },
  {
   "cell_type": "markdown",
   "id": "019e306b",
   "metadata": {},
   "source": [
    "4. Escribir una función que reciba una serie de Pandas con el número de ventas de un producto durante los meses de un trimestre y un título y cree un diagrama de sectores con las ventas en formato png con el titulo dado. El diagrama debe guardarse en un fichero con formato png y el título dado."
   ]
  },
  {
   "cell_type": "code",
   "execution_count": 115,
   "id": "6903cb87",
   "metadata": {},
   "outputs": [
    {
     "name": "stdout",
     "output_type": "stream",
     "text": [
      "Enero      100\n",
      "Febrero    150\n",
      "Marzo      200\n",
      "Name: Ventas de mi producto en el primer trimestre, dtype: int64\n"
     ]
    },
    {
     "ename": "TypeError",
     "evalue": "_linspace_dispatcher() missing 1 required positional argument: 'stop'",
     "output_type": "error",
     "traceback": [
      "\u001b[0;31m---------------------------------------------------------------------------\u001b[0m",
      "\u001b[0;31mTypeError\u001b[0m                                 Traceback (most recent call last)",
      "\u001b[1;32m/home/juan-pablo/Escritorio/Sist inteligente/Practico Python 2.ipynb Cell 62\u001b[0m in \u001b[0;36m<cell line: 23>\u001b[0;34m()\u001b[0m\n\u001b[1;32m     <a href='vscode-notebook-cell:/home/juan-pablo/Escritorio/Sist%20inteligente/Practico%20Python%202.ipynb#Y115sZmlsZQ%3D%3D?line=18'>19</a>\u001b[0m     ax\u001b[39m.\u001b[39mcontourf(x, y, z)\n\u001b[1;32m     <a href='vscode-notebook-cell:/home/juan-pablo/Escritorio/Sist%20inteligente/Practico%20Python%202.ipynb#Y115sZmlsZQ%3D%3D?line=19'>20</a>\u001b[0m     plt\u001b[39m.\u001b[39mshow()\n\u001b[0;32m---> <a href='vscode-notebook-cell:/home/juan-pablo/Escritorio/Sist%20inteligente/Practico%20Python%202.ipynb#Y115sZmlsZQ%3D%3D?line=22'>23</a>\u001b[0m diagrama_ventas(serie_ventas)\n",
      "\u001b[1;32m/home/juan-pablo/Escritorio/Sist inteligente/Practico Python 2.ipynb Cell 62\u001b[0m in \u001b[0;36mdiagrama_ventas\u001b[0;34m(serie_ventas)\u001b[0m\n\u001b[1;32m     <a href='vscode-notebook-cell:/home/juan-pablo/Escritorio/Sist%20inteligente/Practico%20Python%202.ipynb#Y115sZmlsZQ%3D%3D?line=12'>13</a>\u001b[0m meses \u001b[39m=\u001b[39m serie_ventas\u001b[39m.\u001b[39mindex\u001b[39m.\u001b[39mtolist()\n\u001b[1;32m     <a href='vscode-notebook-cell:/home/juan-pablo/Escritorio/Sist%20inteligente/Practico%20Python%202.ipynb#Y115sZmlsZQ%3D%3D?line=13'>14</a>\u001b[0m fig, ax \u001b[39m=\u001b[39m plt\u001b[39m.\u001b[39msubplots()\n\u001b[0;32m---> <a href='vscode-notebook-cell:/home/juan-pablo/Escritorio/Sist%20inteligente/Practico%20Python%202.ipynb#Y115sZmlsZQ%3D%3D?line=14'>15</a>\u001b[0m x \u001b[39m=\u001b[39m np\u001b[39m.\u001b[39;49mlinspace(datos_ventas)\n\u001b[1;32m     <a href='vscode-notebook-cell:/home/juan-pablo/Escritorio/Sist%20inteligente/Practico%20Python%202.ipynb#Y115sZmlsZQ%3D%3D?line=15'>16</a>\u001b[0m y \u001b[39m=\u001b[39m np\u001b[39m.\u001b[39mlinspace(meses)\n\u001b[1;32m     <a href='vscode-notebook-cell:/home/juan-pablo/Escritorio/Sist%20inteligente/Practico%20Python%202.ipynb#Y115sZmlsZQ%3D%3D?line=16'>17</a>\u001b[0m x, y \u001b[39m=\u001b[39m np\u001b[39m.\u001b[39mmeshgrid(x, y)\n",
      "File \u001b[0;32m<__array_function__ internals>:179\u001b[0m, in \u001b[0;36mlinspace\u001b[0;34m(*args, **kwargs)\u001b[0m\n",
      "\u001b[0;31mTypeError\u001b[0m: _linspace_dispatcher() missing 1 required positional argument: 'stop'"
     ]
    },
    {
     "data": {
      "image/png": "[encoded data removed]",
      "text/plain": [
       "<Figure size 432x288 with 1 Axes>"
      ]
     },
     "metadata": {
      "needs_background": "light"
     },
     "output_type": "display_data"
    }
   ],
   "source": [
    "\n",
    "import pandas as pd\n",
    "import numpy as np\n",
    "import matplotlib.pyplot as plt\n",
    "datos_ventas = [100, 150, 200]\n",
    "meses = ['Enero', 'Febrero', 'Marzo']\n",
    "titulo = 'Ventas de mi producto en el primer trimestre'\n",
    "\n",
    "serie_ventas=pd.Series(datos_ventas, index=meses,name=titulo)\n",
    "print(serie_ventas)\n",
    "\n",
    "def diagrama_ventas(serie_ventas):\n",
    "    datos_ventas = serie_ventas.values.tolist()\n",
    "    meses = serie_ventas.index.tolist()\n",
    "    fig, ax = plt.subplots()\n",
    "    x = np.linspace(datos_ventas)\n",
    "    y = np.linspace(meses)\n",
    "    x, y = np.meshgrid(x, y)\n",
    "    z = np.sqrt(x**2 + 2*y**2)\n",
    "    ax.contourf(x, y, z)\n",
    "    plt.show()\n",
    "    \n",
    "    \n",
    "diagrama_ventas(serie_ventas)"
   ]
  },
  {
   "cell_type": "markdown",
   "id": "609858b3",
   "metadata": {},
   "source": [
    "5. Escribir una función que reciba una serie de Pandas con el número de ventas de un producto por años y una cadena con el tipo de gráfico a generar (lineas, barras, sectores, areas) y devuelva un diagrama del tipo indicado con la evolución de las ventas por años y con el título “Evolución del número de ventas”."
   ]
  },
  {
   "cell_type": "code",
   "execution_count": null,
   "id": "1847c92d",
   "metadata": {},
   "outputs": [],
   "source": []
  },
  {
   "cell_type": "markdown",
   "id": "02f174a2",
   "metadata": {},
   "source": [
    "6. Escribir una función que reciba un dataframe de Pandas con los ingresos y gastos de una empresa por meses y devuelva un diagrama de líneas con dos líneas, una para los ingresos y otra para los gastos. El diagrama debe tener una leyenda identificando la línea de los ingresos y la de los gastos, un título con el nombre “Evolución de ingresos y gastos” y el eje y debe empezar en 0."
   ]
  },
  {
   "cell_type": "code",
   "execution_count": null,
   "id": "588bd888",
   "metadata": {},
   "outputs": [],
   "source": []
  },
  {
   "cell_type": "markdown",
   "id": "b8d929a1",
   "metadata": {},
   "source": [
    "7. El fichero bancos.csv contiene las cotizaciones de los principales bancos de España con : **Empresa** (nombre de la empresa), **Apertura** (precio de la acción a la apertura de bolsa), **Máximo** (precio máximo de la acción durante la jornada), **Mínimo** (precio mínimo de la acción durante la jornada), **Cierre** (precio de la acción al cierre de bolsa), **Volumen** (volumen al cierre de bolsa). Construir una función reciba el fichero bancos.csv y cree un diagrama de líneas con las series temporales de las cotizaciones de cierre de cada banco."
   ]
  },
  {
   "cell_type": "code",
   "execution_count": null,
   "id": "05a39400",
   "metadata": {},
   "outputs": [],
   "source": []
  },
  {
   "cell_type": "markdown",
   "id": "af554c3c",
   "metadata": {},
   "source": [
    "8. El fichero titanic.csv contiene información sobre los pasajeros del Titanic. Crear un dataframe con Pandas y a partir de él generar los siguientes diagramas.\n",
    "    1. Diagrama de sectores con los fallecidos y supervivientes.\n",
    "    2. Histograma con las edades.\n",
    "    3. Diagrama de barras con el número de personas en cada clase.\n",
    "    4. Diagrama de barras con el número de personas fallecidas y supervivientes en cada clase.\n",
    "    5. Diagrama de barras con el número de personas fallecidas y supervivientes acumuladas en cada clase."
   ]
  },
  {
   "cell_type": "code",
   "execution_count": null,
   "id": "166d5fe0",
   "metadata": {},
   "outputs": [],
   "source": []
  }
 ],
 "metadata": {
  "kernelspec": {
   "display_name": "Python 3",
   "language": "python",
   "name": "python3"
  },
  "language_info": {
   "codemirror_mode": {
    "name": "ipython",
    "version": 3
   },
   "file_extension": ".py",
   "mimetype": "text/x-python",
   "name": "python",
   "nbconvert_exporter": "python",
   "pygments_lexer": "ipython3",
   "version": "3.8.10"
  },
  "vscode": {
   "interpreter": {
    "hash": "916dbcbb3f70747c44a77c7bcd40155683ae19c65e1c03b4aa3499c5328201f1"
   }
  }
 },
 "nbformat": 4,
 "nbformat_minor": 5
}
