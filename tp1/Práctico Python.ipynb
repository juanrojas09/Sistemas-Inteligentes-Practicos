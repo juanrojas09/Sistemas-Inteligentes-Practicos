{
 "cells": [
  {
   "cell_type": "markdown",
   "id": "941e8954",
   "metadata": {},
   "source": [
    "# Ejercicios de Tipos de Datos Simples\n",
    "\n",
    "0. Escribir un programa que muestre por pantalla la cadena ¡Hola Mundo!."
   ]
  },
  {
   "cell_type": "code",
   "execution_count": 1,
   "id": "9bbc1fd7",
   "metadata": {},
   "outputs": [
    {
     "name": "stdout",
     "output_type": "stream",
     "text": [
      "Hola Mundo\n"
     ]
    }
   ],
   "source": [
    "print(\"Hola Mundo\")"
   ]
  },
  {
   "cell_type": "markdown",
   "id": "f0519f5c",
   "metadata": {},
   "source": [
    "1. Escribir un programa que pregunte el nombre del usuario en la consola y después de que el usuario lo introduzca muestre por pantalla la cadena ¡Hola <nombre>!, donde <nombre> es el nombre que el usuario haya introducido."
   ]
  },
  {
   "cell_type": "code",
   "execution_count": 1,
   "id": "65f9ab97",
   "metadata": {},
   "outputs": [
    {
     "name": "stdout",
     "output_type": "stream",
     "text": [
      "Hola \n"
     ]
    }
   ],
   "source": [
    "\n",
    "#consultar por consola python\n",
    "nombre =input(\"Ingrese tu nombre\")\n",
    "\n",
    "print(\"Hola \" +  nombre)\n",
    "\n"
   ]
  },
  {
   "cell_type": "markdown",
   "id": "4ba0fe88",
   "metadata": {},
   "source": [
    "2. Escribir un programa que pregunte al usuario por el número de horas trabajadas y el coste por hora. Después debe mostrar por pantalla la paga que le corresponde."
   ]
  },
  {
   "cell_type": "code",
   "execution_count": 5,
   "id": "f5872dc8",
   "metadata": {},
   "outputs": [
    {
     "name": "stdout",
     "output_type": "stream",
     "text": [
      "100\n"
     ]
    }
   ],
   "source": [
    "horas=input(\"ingresa las horas que trabaja\");\n",
    "pago=input(\"ingresa el pago por hora\");\n",
    "sueldo=int(horas)*int(pago);\n",
    "print(sueldo)"
   ]
  },
  {
   "cell_type": "markdown",
   "id": "e0c3c4b8",
   "metadata": {},
   "source": [
    "3. Escribir un programa que lea un entero positivo, **n**, introducido por el usuario y después muestre en pantalla la suma de todos los enteros desde 1 hasta **n**. La suma de los **n** primeros enteros positivos puede ser calculada de la siguiente forma: $$ suma = \\frac{n(n+1)}{2}$$"
   ]
  },
  {
   "cell_type": "code",
   "execution_count": 7,
   "id": "b65acefb",
   "metadata": {},
   "outputs": [
    {
     "name": "stdout",
     "output_type": "stream",
     "text": [
      "resultado: 55.0\n"
     ]
    }
   ],
   "source": [
    "n=input(\"ingrese un numero\");\n",
    "suma=(int(n)*(int(n)+1))/2\n",
    "print(\"resultado:\",suma)\n"
   ]
  },
  {
   "cell_type": "markdown",
   "id": "37474619",
   "metadata": {},
   "source": [
    "4. Escribir un programa que pregunte al usuario una cantidad a invertir, el interés anual y el número de años, y muestre por pantalla el capital obtenido en la inversión."
   ]
  },
  {
   "cell_type": "code",
   "execution_count": 9,
   "id": "aa8524c9",
   "metadata": {},
   "outputs": [
    {
     "name": "stdout",
     "output_type": "stream",
     "text": [
      "El capital es: 25.937424601000025\n"
     ]
    }
   ],
   "source": [
    "inversion=input(\"Cantidad de guita a invertir: \")\n",
    "interesAnual=input(\"Ingrese el interes anual: \")\n",
    "numerDeAños=input(\"Ingrese el numero de años:\")\n",
    "\n",
    "capital = int(inversion) * (1 + int(interesAnual)/100)**int(numerDeAños)\n",
    "print(\"El capital es:\",capital)"
   ]
  },
  {
   "cell_type": "markdown",
   "id": "77758fb5",
   "metadata": {},
   "source": [
    "5. Una juguetería tiene mucho éxito en dos de sus productos: payasos y muñecas. Suele hacer venta por correo y la empresa de logística les cobra por peso de cada paquete así que deben calcular el peso de los payasos y muñecas que saldrán en cada paquete a demanda. Cada payaso pesa 112 g y cada muñeca 75 g. Escribir un programa que lea el número de payasos y muñecas vendidos en el último pedido y calcule el peso total del paquete que será enviado."
   ]
  },
  {
   "cell_type": "code",
   "execution_count": null,
   "id": "556a77e6",
   "metadata": {},
   "outputs": [],
   "source": []
  },
  {
   "cell_type": "markdown",
   "id": "9bd44acd",
   "metadata": {},
   "source": [
    "6. Imagina que acabas de abrir una nueva cuenta de ahorros que te ofrece el 4% de interés al año. Estos ahorros debido a intereses, que no se cobran hasta finales de año, se te añaden al balance final de tu cuenta de ahorros. Escribir un programa que comience leyendo la cantidad de dinero depositada en la cuenta de ahorros, introducida por el usuario. Después el programa debe calcular y mostrar por pantalla la cantidad de ahorros tras el primer, segundo y tercer años. Redondear cada cantidad a dos decimales."
   ]
  },
  {
   "cell_type": "code",
   "execution_count": null,
   "id": "10766284",
   "metadata": {},
   "outputs": [],
   "source": []
  },
  {
   "cell_type": "markdown",
   "id": "6f64880a",
   "metadata": {},
   "source": [
    "7. Una panadería vende barras de pan a 3.49€ cada una. El pan que no es el día tiene un descuento del 60%. Escribir un programa que comience leyendo el número de barras vendidas que no son del día. Después el programa debe mostrar el precio habitual de una barra de pan, el descuento que se le hace por no ser fresca y el coste final total."
   ]
  },
  {
   "cell_type": "code",
   "execution_count": 15,
   "id": "70e081d4",
   "metadata": {},
   "outputs": [
    {
     "name": "stdout",
     "output_type": "stream",
     "text": [
      "Precio del pan cuando no es del dia: 10.47\n",
      "Precio del pan cuando es del dia: 17.450000000000003\n"
     ]
    }
   ],
   "source": [
    "\n",
    "precio = 3.49\n",
    "descuento = 0.6\n",
    "     \n",
    "def PrecioXCantPanNoDia(panesNoDelDia):\n",
    "    \n",
    "     precioNoDelDia = panesNoDelDia *precio*descuento;\n",
    "    \n",
    "     precioTotal=precioNoDelDia;\n",
    "\n",
    "   \n",
    "    \n",
    "     \n",
    "     return precioTotal\n",
    " \n",
    "def PrecioXCantPanDia(panesDelDia):\n",
    "    precioDelDia=panesDelDia*precio;\n",
    "    precioTotal=precioDelDia;\n",
    "    \n",
    "    return precioTotal\n",
    "\n",
    "\n",
    "\n",
    "\n",
    "print(\"Precio del pan cuando no es del dia:\" ,PrecioXCantPanNoDia(5))\n",
    "print(\"Precio del pan cuando es del dia:\" ,PrecioXCantPanDia(5))\n"
   ]
  },
  {
   "cell_type": "markdown",
   "id": "7746f986",
   "metadata": {},
   "source": [
    "# Ejercicios de Condicionales\n",
    "\n",
    "0. Escribir un programa que pregunte al usuario su edad y muestre por pantalla si es mayor de edad o no."
   ]
  },
  {
   "cell_type": "code",
   "execution_count": 17,
   "id": "1f904a9a",
   "metadata": {},
   "outputs": [
    {
     "name": "stdout",
     "output_type": "stream",
     "text": [
      "sos menor petero\n"
     ]
    }
   ],
   "source": [
    "edad=input(\"ingresa la edad\")\n",
    "\n",
    "if(int(edad)>=18):\n",
    "    print(\"eres mayor de edad\")\n",
    "else:\n",
    "    print(\"sos menor petero\")"
   ]
  },
  {
   "cell_type": "markdown",
   "id": "ba028cf3",
   "metadata": {},
   "source": [
    "1. En una determinada empresa, sus empleados son evaluados al final de cada año. Los puntos que pueden obtener en la evaluación comienzan en 0.0 y pueden ir aumentando, traduciéndose en mejores beneficios. Los puntos que pueden conseguir los empleados pueden ser 0.0, 0.4, 0.6 o más, pero no valores intermedios entre las cifras mencionadas. A continuación se muestra una tabla con los niveles correspondientes a cada puntuación. La cantidad de dinero conseguida en cada nivel es de 2.400€ multiplicada por la puntuación del nivel.\n",
    "\n",
    "| Nivel | Puntuación |\n",
    "| --- | --- |\n",
    "| Inaceptable | 0.0 |\n",
    "| Aceptable | 0.4 |\n",
    "| Meritorio | 0.6 o más |\n",
    "\n",
    "Escribir un programa que lea la puntuación del usuario e indique su nivel de rendimiento, así como la cantidad de dinero que recibirá el usuario."
   ]
  },
  {
   "cell_type": "code",
   "execution_count": 29,
   "id": "46ba98d2",
   "metadata": {},
   "outputs": [
    {
     "name": "stdout",
     "output_type": "stream",
     "text": [
      "inaceptable 960.0\n"
     ]
    }
   ],
   "source": [
    "def CalcularRendimiento(puntuacion):\n",
    "    cantidadDinero=2400\n",
    "    if(puntuacion>=0.0 and puntuacion <0.4):\n",
    "        print(\"inaceptable\",2400*0.4)\n",
    "    elif(puntuacion>=0.4 and puntuacion <0.6):\n",
    "        print(\"Aceptable\",2400*0.4)\n",
    "    elif(puntuacion>=0.6):\n",
    "        print(\"excelente\",2400*0.4)    \n",
    "        \n",
    "        \n",
    "CalcularRendimiento(0.0)\n",
    "\n",
    " "
   ]
  },
  {
   "cell_type": "markdown",
   "id": "5ee09454",
   "metadata": {},
   "source": [
    "2. Escribir un programa para una empresa que tiene salas de juegos para todas las edades y quiere calcular de forma automática el precio que debe cobrar a sus clientes por entrar. El programa debe preguntar al usuario la edad del cliente y mostrar el precio de la entrada. Si el cliente es menor de 4 años puede entrar gratis, si tiene entre 4 y 18 años debe pagar 5€ y si es mayor de 18 años, 10€."
   ]
  },
  {
   "cell_type": "code",
   "execution_count": 35,
   "id": "a0dc2457",
   "metadata": {},
   "outputs": [
    {
     "name": "stdout",
     "output_type": "stream",
     "text": [
      "5€\n"
     ]
    }
   ],
   "source": [
    "edad=input(\"ingresa la edad\")\n",
    "\n",
    "precios = [5,10]\n",
    "\n",
    "def CalculadorDePrecioXEdad():\n",
    "    if(int(edad)>=4 or int(edad)<18):\n",
    "        print(str(precios[0])+\"€\")\n",
    "    elif(int(edad)>=18):\n",
    "        print(str(precios[1])+\"€\")\n",
    "        \n",
    "CalculadorDePrecioXEdad()\n",
    "    \n",
    "    \n",
    "    "
   ]
  },
  {
   "cell_type": "markdown",
   "id": "6b1400f2",
   "metadata": {},
   "source": [
    "3. La pizzería Bella Napoli ofrece pizzas vegetarianas y no vegetarianas a sus clientes. Los ingredientes para cada tipo de pizza aparecen a continuación.\n",
    "\n",
    "Ingredientes vegetarianos: Pimiento y tofu.\n",
    "Ingredientes no vegetarianos: Peperoni, Jamón y Salmón.\n",
    "Escribir un programa que pregunte al usuario si quiere una pizza vegetariana o no, y en función de su respuesta le muestre un menú con los ingredientes disponibles para que elija. Solo se puede eligir un ingrediente además de la mozzarella y el tomate que están en todas la pizzas. Al final se debe mostrar por pantalla si la pizza elegida es vegetariana o no y todos los ingredientes que lleva."
   ]
  },
  {
   "cell_type": "code",
   "execution_count": 45,
   "metadata": {},
   "outputs": [
    {
     "name": "stdout",
     "output_type": "stream",
     "text": [
      "True\n",
      "Ingredientes disponibles:\n",
      "1. pimiento\n",
      "2. tofu\n",
      "Has elegido una pizza vegetariana con los siguientes ingredientes: mozzarella, tomate, pimiento\n"
     ]
    }
   ],
   "source": [
    "# Definimos los ingredientes disponibles\n",
    "ingredientes_vegetarianos = ['pimiento', 'tofu']\n",
    "ingredientes_no_vegetarianos = ['peperoni', 'jamón', 'salmón']\n",
    "\n",
    "# Preguntamos al usuario si quiere una pizza vegetariana o no\n",
    "es_vegetariana = input(\"¿Quieres una pizza vegetariana? (s/n): \").lower() == 's'\n",
    "print(es_vegetariana)\n",
    "# Mostramos los ingredientes disponibles según la elección del usuario\n",
    "print(\"Ingredientes disponibles:\")\n",
    "if es_vegetariana:\n",
    "    for i, ingrediente in enumerate(ingredientes_vegetarianos):\n",
    "        print(f\"{i+1}. {ingrediente}\")\n",
    "else:\n",
    "    for i, ingrediente in enumerate(ingredientes_no_vegetarianos):\n",
    "        print(f\"{i+1}. {ingrediente}\")\n",
    "\n",
    "# Pedimos al usuario que elija un ingrediente\n",
    "opcion = int(input(\"Elige un ingrediente (1-3): \"))\n",
    "if es_vegetariana:\n",
    "    ingrediente_elegido = ingredientes_vegetarianos[opcion-1]\n",
    "else:\n",
    "    ingrediente_elegido = ingredientes_no_vegetarianos[opcion-1]\n",
    "\n",
    "# Mostramos la pizza elegida y sus ingredientes\n",
    "tipo_pizza = 'vegetariana' if es_vegetariana else 'no vegetariana'\n",
    "ingredientes = ['mozzarella', 'tomate', ingrediente_elegido]\n",
    "print(f\"Has elegido una pizza {tipo_pizza} con los siguientes ingredientes: {', '.join(ingredientes)}\")\n"
   ]
  },
  {
   "cell_type": "markdown",
   "id": "6a9c0c7b",
   "metadata": {},
   "source": [
    "# Ejercicios de Bucles\n",
    "Realizar los ejercicios utilizando **for** y **while**\n",
    "\n",
    "0. Escribir un programa que pida al usuario una palabra y la muestre por pantalla 10 veces."
   ]
  },
  {
   "cell_type": "code",
   "execution_count": 205,
   "id": "9f57d8d9",
   "metadata": {},
   "outputs": [
    {
     "ename": "ModuleNotFoundError",
     "evalue": "No module named 'numpy'",
     "output_type": "error",
     "traceback": [
      "\u001b[1;31m---------------------------------------------------------------------------\u001b[0m",
      "\u001b[1;31mModuleNotFoundError\u001b[0m                       Traceback (most recent call last)",
      "Cell \u001b[1;32mIn[205], line 1\u001b[0m\n\u001b[1;32m----> 1\u001b[0m \u001b[39mimport\u001b[39;00m \u001b[39mnumpy\u001b[39;00m \u001b[39mas\u001b[39;00m \u001b[39mnp\u001b[39;00m\n\u001b[0;32m      2\u001b[0m a\u001b[39m=\u001b[39mnp\u001b[39m.\u001b[39marray([\u001b[39m1\u001b[39m,\u001b[39m1\u001b[39m])\n\u001b[0;32m      3\u001b[0m \u001b[39mprint\u001b[39m(a)\n",
      "\u001b[1;31mModuleNotFoundError\u001b[0m: No module named 'numpy'"
     ]
    }
   ],
   "source": [
    "import numpy as np\n",
    "a=np.array([1,1])\n",
    "print(a)"
   ]
  },
  {
   "cell_type": "markdown",
   "id": "6f41451c",
   "metadata": {},
   "source": [
    "1. Escribir un programa que muestre por pantalla la tabla de multiplicar del 1 al 10."
   ]
  },
  {
   "cell_type": "code",
   "execution_count": null,
   "id": "67cd29cc",
   "metadata": {},
   "outputs": [],
   "source": []
  },
  {
   "cell_type": "markdown",
   "id": "6dcbf56e",
   "metadata": {},
   "source": [
    "2. Escribir un programa en el que se pregunte al usuario por una frase y una letra, y muestre por pantalla el número de veces que aparece la letra en la frase."
   ]
  },
  {
   "cell_type": "code",
   "execution_count": null,
   "id": "250caf3f",
   "metadata": {},
   "outputs": [],
   "source": []
  },
  {
   "cell_type": "markdown",
   "id": "437b4a42",
   "metadata": {},
   "source": [
    "3. Escribir un programa que muestre el eco de todo lo que el usuario introduzca hasta que el usuario escriba “salir” que terminará."
   ]
  },
  {
   "cell_type": "markdown",
   "id": "21dc00dd",
   "metadata": {},
   "source": [
    "# Ejercicios de Listas y Tuplas\n",
    "\n",
    "1. Escribir un programa que almacene las asignaturas de un curso (por ejemplo Matemáticas, Física, Química, Historia y Lengua) en una lista y la muestre por pantalla."
   ]
  },
  {
   "cell_type": "code",
   "execution_count": 49,
   "id": "f9714c83",
   "metadata": {},
   "outputs": [
    {
     "name": "stdout",
     "output_type": "stream",
     "text": [
      "['s', 's', 's']\n"
     ]
    }
   ],
   "source": [
    "lista=[]\n",
    "\n",
    "\n",
    "\n",
    "Materias=input(\"Ingrese la cantidad de materias\")\n",
    "mat=int(Materias)\n",
    "for i in range(mat): \n",
    "    Materia=input(\"Ingresa una materia\")\n",
    "    lista.append(Materia)\n",
    "    \n",
    "print(lista)"
   ]
  },
  {
   "cell_type": "markdown",
   "id": "9dc8de65",
   "metadata": {},
   "source": [
    "2. Escribir un programa que almacene las asignaturas de un curso (por ejemplo Matemáticas, Física, Química, Historia y Lengua) en una lista y la muestre por pantalla el mensaje Yo estudio <asignatura>, donde <asignatura> es cada una de las asignaturas de la lista."
   ]
  },
  {
   "cell_type": "code",
   "execution_count": 52,
   "id": "7cff1152",
   "metadata": {},
   "outputs": [
    {
     "name": "stdout",
     "output_type": "stream",
     "text": [
      "['mate', 'fisica', 'arq']\n",
      "Yo Estudio mate fisica arq\n"
     ]
    }
   ],
   "source": [
    "lista=[]\n",
    "\n",
    "\n",
    "\n",
    "Materias=input(\"Ingrese la cantidad de materias\")\n",
    "mat=int(Materias)\n",
    "cadena=\"Yo Estudio\"\n",
    "for i in range(mat): \n",
    "    Materia=input(\"Ingresa una materia\")\n",
    "    lista.append(Materia)\n",
    "    \n",
    "print(lista)\n",
    "\n",
    "for i in lista:\n",
    "    cadena += \" \"+ i\n",
    "    \n",
    "print(cadena)  \n"
   ]
  },
  {
   "cell_type": "markdown",
   "id": "f3160dad",
   "metadata": {},
   "source": [
    "3. Escribir un programa que almacene las asignaturas de un curso (por ejemplo Matemáticas, Física, Química, Historia y Lengua) en una lista, pregunte al usuario la nota que ha sacado en cada asignatura, y después las muestre por pantalla con el mensaje En <asignatura> has sacado <nota> donde <asignatura> es cada una des las asignaturas de la lista y <nota> cada una de las correspondientes notas introducidas por el usuario."
   ]
  },
  {
   "cell_type": "code",
   "execution_count": 58,
   "id": "33826738",
   "metadata": {},
   "outputs": [
    {
     "name": "stdout",
     "output_type": "stream",
     "text": [
      "['a', 's', 'd']\n",
      "Yo Estudio a s d\n",
      "En asacaste 1\n",
      "En ssacaste 2\n",
      "En dsacaste 3\n"
     ]
    }
   ],
   "source": [
    "lista=[]\n",
    "\n",
    "\n",
    "\n",
    "Materias=input(\"Ingrese la cantidad de materias\")\n",
    "mat=int(Materias)\n",
    "cadena=\"Yo Estudio\"\n",
    "for i in range(mat): \n",
    "    Materia=input(\"Ingresa una materia\")\n",
    "    lista.append(Materia)\n",
    "    \n",
    "print(lista)\n",
    "\n",
    "for i in lista:\n",
    "    cadena += \" \"+ i\n",
    "    \n",
    "print(cadena)  \n",
    "\n",
    "notas=[]\n",
    "for i in lista:\n",
    "    n=lista.index(i)\n",
    "    nota=input(\"ingrese la nota de \" + lista[n] + \":\")\n",
    "    notas.append(nota)\n",
    "    print(\"En \"+ lista[n] + \"sacaste \" + notas[n])\n"
   ]
  },
  {
   "cell_type": "markdown",
   "id": "dd72817d",
   "metadata": {},
   "source": [
    "4. Escribir un programa que pregunte al usuario los números ganadores de la lotería primitiva, los almacene en una lista y los muestre por pantalla ordenados de menor a mayor."
   ]
  },
  {
   "cell_type": "code",
   "execution_count": 69,
   "id": "625cb744",
   "metadata": {},
   "outputs": [
    {
     "name": "stdout",
     "output_type": "stream",
     "text": [
      "['1', '2', '3']\n"
     ]
    }
   ],
   "source": [
    "cantNumerosGanadores=input(\"Cual es la cantidad de numeros ganadores\")\n",
    "\n",
    "lista=[]\n",
    "\n",
    "def NumGanadores(cantNumerosGanadores):\n",
    "    for i in range(int(cantNumerosGanadores)):\n",
    "     numerosGanadores=input(\"Ingrese los numeros ganadores\")\n",
    "     lista.append(numerosGanadores)\n",
    "    lista.sort() \n",
    "    return print(lista)\n",
    "\n",
    "NumGanadores(cantNumerosGanadores)\n",
    "    "
   ]
  },
  {
   "cell_type": "markdown",
   "id": "f47179e6",
   "metadata": {},
   "source": [
    "5. Escribir un programa que almacene en una lista los números del 1 al 10 y los muestre por pantalla en orden inverso separados por comas."
   ]
  },
  {
   "cell_type": "code",
   "execution_count": 79,
   "id": "e6bc38f3",
   "metadata": {},
   "outputs": [
    {
     "name": "stdout",
     "output_type": "stream",
     "text": [
      "ingrese una cantidad valida\n",
      "ingrese una cantidad valida\n",
      "ingrese una cantidad valida\n",
      "[3, 2, 1]\n"
     ]
    }
   ],
   "source": [
    "lista=[]\n",
    "cantNumeros=input(\"ingrese una cantidad de numeros de intervalo del 1 al 10:\")\n",
    "def ValidarCantNum(cantNumeros):\n",
    "    while(int(cantNumeros)>10 or int(cantNumeros)<1):\n",
    "     print(\"ingrese una cantidad valida\")\n",
    "     cantNumeros=input(\"ingrese una cantidad de numeros de intervalo del 1 al 10:\")\n",
    "    ListarNumeros(cantNumeros)\n",
    "    \n",
    "     \n",
    "def ListarNumeros(cantNumeros):\n",
    "    for i in range(int(cantNumeros)):\n",
    "        lista.append(i+1)\n",
    "    lista.reverse()\n",
    "    return print(lista)\n",
    "ValidarCantNum(cantNumeros)\n"
   ]
  },
  {
   "cell_type": "markdown",
   "id": "4ca73a38",
   "metadata": {},
   "source": [
    "6. Escribir un programa que almacene las asignaturas de un curso (por ejemplo Matemáticas, Física, Química, Historia y Lengua) en una lista, pregunte al usuario la nota que ha sacado en cada asignatura y elimine de la lista las asignaturas aprobadas. Al final el programa debe mostrar por pantalla las asignaturas que el usuario tiene que repetir."
   ]
  },
  {
   "cell_type": "code",
   "execution_count": 94,
   "id": "4bc0f050",
   "metadata": {},
   "outputs": [
    {
     "name": "stdout",
     "output_type": "stream",
     "text": [
      "['a', 's', 'd']\n",
      "Yo Estudio a s d\n",
      "En asacaste 5\n",
      "En ssacaste 4\n",
      "En dsacaste 2\n",
      "la nota: 2 Es menor a 4, no figura en la lista de aprobadas\n",
      "Lista de notas con filtro de desaprobadas ['5', '4']\n",
      "la nota: 5 Es mayor a 4, figura en la lista de aprobadas\n",
      "la nota: 4 Es mayor a 4, figura en la lista de aprobadas\n",
      "['5', '4']\n"
     ]
    }
   ],
   "source": [
    "lista=[]\n",
    "\n",
    "\n",
    "\n",
    "Materias=input(\"Ingrese la cantidad de materias\")\n",
    "mat=int(Materias)\n",
    "cadena=\"Yo Estudio\"\n",
    "for i in range(mat): \n",
    "    Materia=input(\"Ingresa una materia\")\n",
    "    lista.append(Materia)\n",
    "    \n",
    "print(lista)\n",
    "\n",
    "for i in lista:\n",
    "    cadena += \" \"+ i\n",
    "    \n",
    "print(cadena)  \n",
    "\n",
    "notas=[]\n",
    "for i in lista:\n",
    "    n=lista.index(i)\n",
    "    nota=input(\"ingrese la nota de \" + lista[n] + \":\")\n",
    "    notas.append(nota)\n",
    "        \n",
    "    print(\"En \"+ lista[n] + \"sacaste \" + notas[n])\n",
    "    \n",
    "    \n",
    "for i in lista:\n",
    "    n=lista.index(i)\n",
    "    if(int(notas[n-1])<4):\n",
    "        print(\"la nota: \"+notas[n-1]+ \" Es menor a 4, no figura en la lista de aprobadas\")\n",
    "        notas.pop(n-1)\n",
    "        print(\"Lista de notas con filtro de desaprobadas\", notas)\n",
    "        \n",
    "        \n",
    "        \n",
    "        \n",
    "    else:\n",
    "        print(\"la nota: \"+notas[n-1]+ \" Es mayor a 4, figura en la lista de aprobadas\")\n",
    "\n",
    "print(notas)"
   ]
  },
  {
   "cell_type": "markdown",
   "id": "e422be26",
   "metadata": {},
   "source": [
    "7. Escribir un programa que almacene el abecedario en una lista, elimine de la lista las letras que ocupen posiciones múltiplos de 3, y muestre por pantalla la lista resultante."
   ]
  },
  {
   "cell_type": "code",
   "execution_count": 161,
   "id": "f99b3cab",
   "metadata": {},
   "outputs": [
    {
     "name": "stdout",
     "output_type": "stream",
     "text": [
      "['a', 'b', 'c', 'd', 'e', 'f', 'g', 'h', 'i', 'j', 'k', 'l', 'm', 'n', 'o', 'p', 'q', 'r', 's', 't', 'u', 'v', 'w', 'x', 'y', 'z']\n",
      "26\n",
      "['a', 'b', 'd', 'e', 'f', 'h', 'i', 'j', 'l', 'm', 'n', 'p', 'q', 'r', 't', 'u', 'v', 'x', 'y', 'z']\n"
     ]
    }
   ],
   "source": [
    "\n",
    "import string\n",
    "lista=[]\n",
    "abecedario = list(string.ascii_lowercase)\n",
    "lista=abecedario\n",
    "print( lista)\n",
    "tam=len(lista)\n",
    "print(tam)\n",
    "for i in lista:\n",
    "    n=lista.index(i)\n",
    "    \n",
    "    if(n%3==0 and n!=0):\n",
    "        abecedario.pop(n-1)\n",
    "        \n",
    "        \n",
    "print(lista)\n",
    "\n",
    "#Lista original: ['a', 'b', 'c', 'd', 'e', 'f', 'g', 'h', 'i', 'j', 'k', 'l', 'm', 'n', 'o', 'p', 'q', 'r', 's', 't', 'u', 'v', 'w', 'x', 'y', 'z']\n",
    "#Lista sin múltiplos de 3: ['a', 'b', 'd', 'e', 'g', 'h', 'j', 'k', 'm', 'n', 'p', 'q', 's', 't', 'v', 'w', 'y', 'z']\n"
   ]
  },
  {
   "cell_type": "markdown",
   "id": "7b85561a",
   "metadata": {},
   "source": [
    "8. Escribir un programa que pida al usuario una palabra y muestre por pantalla si es un palíndromo."
   ]
  },
  {
   "cell_type": "code",
   "execution_count": 170,
   "id": "afaba32d",
   "metadata": {},
   "outputs": [
    {
     "name": "stdout",
     "output_type": "stream",
     "text": [
      "somos on o somos \n",
      "No es palindromo\n"
     ]
    }
   ],
   "source": [
    "#palindromo oso\n",
    "#goo\n",
    "# Somos o no somos\n",
    "# el reverse es trampa, se puede hacer con una pila, recorriendo un for por cada letraa poniendo en una pila y luego pop de la pila en una palabra\n",
    "#y comparo\n",
    "palabra=input(\"Ingrese una palabra\")\n",
    "palabrainvertida = palabra[::-1]\n",
    "print (palabrainvertida.lower())\n",
    "\n",
    "def IsPalindromo(palabra):\n",
    "     if(len(palabra)==3):\n",
    "            if(palabra[0]==palabra[2]):\n",
    "                return print(\"Es palindromo\")\n",
    "            else:\n",
    "                return print(\"No es palindromo\")\n",
    "     else:\n",
    "         palabrainvertida = palabra[::-1]\n",
    "         if(palabrainvertida.lower()==palabra.lower()):\n",
    "            return print(\"Es palindromo\")\n",
    "         else:\n",
    "            return print(\"No es palindromo\")\n",
    "             \n",
    "IsPalindromo(palabra)\n",
    "    \n",
    "            \n",
    "       \n",
    "            \n",
    "            "
   ]
  },
  {
   "cell_type": "markdown",
   "id": "9a53e8de",
   "metadata": {},
   "source": [
    "9. Escribir un programa que pida al usuario una palabra y muestre por pantalla el número de veces que contiene cada vocal."
   ]
  },
  {
   "cell_type": "code",
   "execution_count": null,
   "id": "b1dfc2e7",
   "metadata": {},
   "outputs": [],
   "source": []
  },
  {
   "cell_type": "markdown",
   "id": "55cdccd9",
   "metadata": {},
   "source": [
    "10. Escribir un programa que almacene en una lista los siguientes precios, 50, 75, 46, 22, 80, 65, 8, y muestre por pantalla el menor y el mayor de los precios."
   ]
  },
  {
   "cell_type": "code",
   "execution_count": 178,
   "id": "9451e30c",
   "metadata": {},
   "outputs": [
    {
     "name": "stdout",
     "output_type": "stream",
     "text": [
      "El menor precio es:  8 El mayor precio es:  80\n"
     ]
    }
   ],
   "source": [
    "list=[50,75,46,22,80,65,8]\n",
    "\n",
    "def MenorMayor(list):\n",
    "    menor_precio = 1000000\n",
    "    mayor_precio = -100000\n",
    "    for i in list:\n",
    "        if(i<menor_precio):\n",
    "            menor_precio=i\n",
    "        if(i>mayor_precio):\n",
    "            mayor_precio=i\n",
    "        \n",
    "       \n",
    "    return print(\"El menor precio es: \", menor_precio, \"El mayor precio es: \", mayor_precio)\n",
    "\n",
    "MenorMayor(list)"
   ]
  },
  {
   "cell_type": "markdown",
   "id": "8032a13d",
   "metadata": {},
   "source": [
    "11. Escribir un programa que almacene los vectores (1,2,3) y (-1,0,2) en dos listas y muestre por pantalla su producto escalar."
   ]
  },
  {
   "cell_type": "code",
   "execution_count": null,
   "id": "7f82d37a",
   "metadata": {},
   "outputs": [],
   "source": []
  },
  {
   "attachments": {},
   "cell_type": "markdown",
   "id": "350472f1",
   "metadata": {},
   "source": [
    "12. Escribir un programa que almacene las matrices\n",
    "$$ A =\\left(\\begin{array}{cc} \n",
    "1 & 2 & 3\\\\\n",
    "4 & 5 & 6\n",
    "\\end{array}\\right)\n",
    "B = \\left(\\begin{array}{cc} \n",
    "-1 & 0\\\\ \n",
    "0 & 1\\\\ \n",
    "1 & 1\n",
    "\\end{array}\\right)\n",
    "$$\n",
    "en una lista y muestre por pantalla su producto.\n",
    "Nota: Para representar matrices mediante listas usar listas anidadas, representando cada vector fila en una lista."
   ]
  },
  {
   "cell_type": "code",
   "execution_count": 204,
   "id": "8d318963",
   "metadata": {},
   "outputs": [
    {
     "name": "stdout",
     "output_type": "stream",
     "text": [
      "3\n",
      "[2, 5]\n",
      "[2, 11]\n"
     ]
    }
   ],
   "source": [
    "A = [[1, 2, 3], [4, 5, 6]]\n",
    "B = [[-1, 0], [0, 1], [1, 1]]\n",
    "\n",
    "# obtener las dimensiones de las matrices\n",
    "filas_A = len(A)\n",
    "columnas_A = len(A[0])\n",
    "print(columnas_A)\n",
    "filas_B = len(B)\n",
    "columnas_B = len(B[0])\n",
    "\n",
    "# asegurarse de que las dimensiones son compatibles para la multiplicación de matrices\n",
    "if columnas_A != filas_B:\n",
    "    print(\"No se pueden multiplicar las matrices. Las dimensiones no son compatibles.\")\n",
    "    exit()\n",
    "\n",
    "# inicializar la matriz resultante\n",
    "C = [[0 for _ in range(columnas_B)] for _ in range(filas_A)]\n",
    "\n",
    "# calcular el producto de las matrices , calculo, toda la fila 0 de a por toda la columna 0 de b y asi\n",
    "for i in range(filas_A):#2\n",
    "    for j in range(columnas_B):#2\n",
    "        for k in range(filas_B):#3  \n",
    "            C[i][j] += A[i][k] * B[k][j]\n",
    "\n",
    "# mostrar la matriz resultante\n",
    "for fila in C:\n",
    "    print(fila)\n",
    "    "
   ]
  },
  {
   "cell_type": "markdown",
   "id": "d3871ff8",
   "metadata": {},
   "source": [
    "13. Escribir un programa que pregunte por una muestra de números, separados por comas, los guarde en una lista y muestre por pantalla su media y desviación típica."
   ]
  },
  {
   "cell_type": "markdown",
   "id": "27fa0945",
   "metadata": {},
   "source": [
    "# Ejercicios de Diccionarios\n",
    "\n",
    "1. Escribir un programa que guarde en una variable el diccionario `{'Euro':'€', 'Dollar':'$', 'Yen':'¥'}`, pregunte al usuario por una divisa y muestre su símbolo o un mensaje de aviso si la divisa no está en el diccionario.\n",
    "\n",
    "\n",
    "2. Escribir un programa que guarde en un diccionario los precios de las frutas de la tabla, pregunte al usuario por una fruta, un número de kilos y muestre por pantalla el precio de ese número de kilos de fruta. Si la fruta no está en el diccionario debe mostrar un mensaje informando de ello.\n",
    "\n",
    "| Fruta | Precio |\n",
    "| --- | --- |\n",
    "| Plátano | 1.35 |\n",
    "| Manzana | 0.80 |\n",
    "| Pera | 0.85 |\n",
    "| Naranja | 0.70 |"
   ]
  },
  {
   "cell_type": "code",
   "execution_count": null,
   "id": "340a17a2",
   "metadata": {},
   "outputs": [],
   "source": [
    "diccionario={\n",
    "    \"fruta\":[\"\"]\n",
    "}"
   ]
  },
  {
   "cell_type": "markdown",
   "id": "6b9f8757",
   "metadata": {},
   "source": [
    "3. Escribir un programa que cree un diccionario vacío y lo vaya llenado con información sobre una persona (por ejemplo nombre, edad, sexo, teléfono, correo electrónico, etc.) que se le pida al usuario. Cada vez que se añada un nuevo dato debe imprimirse el contenido del diccionario."
   ]
  },
  {
   "cell_type": "markdown",
   "id": "846125b8",
   "metadata": {},
   "source": [
    "4. Escribir un programa que gestione las facturas pendientes de cobro de una empresa. Las facturas se almacenarán en un diccionario donde la clave de cada factura será el número de factura y el valor el coste de la factura. El programa debe preguntar al usuario si quiere añadir una nueva factura, pagar una existente o terminar. Si desea añadir una nueva factura se preguntará por el número de factura y su coste y se añadirá al diccionario. Si se desea pagar una factura se preguntará por el número de factura y se eliminará del diccionario. Después de cada operación el programa debe mostrar por pantalla la cantidad cobrada hasta el momento y la cantidad pendiente de cobro."
   ]
  },
  {
   "cell_type": "markdown",
   "id": "375ac7fc",
   "metadata": {},
   "source": [
    "5. El directorio de los clientes de una empresa está organizado en una cadena de texto como la de más abajo, donde cada línea contiene la información del nombre, email, teléfono, nif, y el descuento que se le aplica. Las líneas se separan con el carácter de cambio de línea \\n y la primera línea contiene los nombres de los campos con la información contenida en el directorio.\n",
    "\n",
    "`\"nif;nombre;email;teléfono;descuento\\n01234567L;Luis González;luisgonzalez@mail.com;656343576;12.5\\n71476342J;Macarena Ramírez;macarena@mail.com;692839321;8\\n63823376M;Juan José Martínez;juanjo@mail.com;664888233;5.2\\n98376547F;Carmen Sánchez;carmen@mail.com;667677855;15.7\"`\n",
    "\n",
    "Escribir un programa que genere un diccionario con la información del directorio, donde cada elemento corresponda a un cliente y tenga por clave su nif y por valor otro diccionario con el resto de la información del cliente. Los diccionarios con la información de cada cliente tendrán como claves los nombres de los campos y como valores la información de cada cliente correspondientes a los campos. Es decir, un diccionario como el siguiente\n",
    "\n",
    "`{'01234567L': {'nombre': 'Luis González', 'email': 'luisgonzalez@mail.com', 'teléfono': '656343576', 'descuento': 12.5}, '71476342J': {'nombre': 'Macarena Ramírez', 'email': 'macarena@mail.com', 'teléfono': '692839321', 'descuento': 8.0}, '63823376M': {'nombre': 'Juan José Martínez', 'email': 'juanjo@mail.com', 'teléfono': '664888233', 'descuento': 5.2}, '98376547F': {'nombre': 'Carmen Sánchez', 'email': 'carmen@mail.com', 'teléfono': '667677855', 'descuento': 15.7}}`"
   ]
  },
  {
   "cell_type": "markdown",
   "id": "63e74656",
   "metadata": {},
   "source": [
    "# Ejercicios de Funciones\n",
    "1. Escribir una función a la que se le pase una cadena `<nombre>` y muestre por pantalla el saludo ¡hola `<nombre>`!."
   ]
  },
  {
   "cell_type": "code",
   "execution_count": null,
   "id": "2dd2c638",
   "metadata": {},
   "outputs": [],
   "source": []
  },
  {
   "cell_type": "markdown",
   "id": "722b0a26",
   "metadata": {},
   "source": [
    "2. Escribir una función que reciba un número entero positivo y devuelva su factorial."
   ]
  },
  {
   "cell_type": "code",
   "execution_count": null,
   "id": "4267cf24",
   "metadata": {},
   "outputs": [],
   "source": []
  },
  {
   "cell_type": "markdown",
   "id": "47d396f8",
   "metadata": {},
   "source": [
    "3. Escribir una función que calcule el total de una factura tras aplicarle el IVA. La función debe recibir la cantidad sin IVA y el porcentaje de IVA a aplicar, y devolver el total de la factura. Si se invoca la función sin pasarle el porcentaje de IVA, deberá aplicar un 21%."
   ]
  },
  {
   "cell_type": "code",
   "execution_count": null,
   "id": "5b1d3403",
   "metadata": {},
   "outputs": [],
   "source": []
  },
  {
   "cell_type": "markdown",
   "id": "2adda5aa",
   "metadata": {},
   "source": [
    "4. Escribir una función que calcule el área de un círculo y otra que calcule el volumen de un cilindro usando la primera función."
   ]
  },
  {
   "cell_type": "code",
   "execution_count": null,
   "id": "1ea2788a",
   "metadata": {},
   "outputs": [],
   "source": []
  },
  {
   "cell_type": "markdown",
   "id": "8399cb23",
   "metadata": {},
   "source": [
    "5. Escribir una función que reciba una muestra de números en una lista y devuelva su media."
   ]
  },
  {
   "cell_type": "code",
   "execution_count": null,
   "id": "cf3fa76b",
   "metadata": {},
   "outputs": [],
   "source": []
  },
  {
   "cell_type": "markdown",
   "id": "0549988a",
   "metadata": {},
   "source": [
    "6. Escribir una función que reciba una muestra de números en una lista y devuelva otra lista con sus cuadrados."
   ]
  },
  {
   "cell_type": "code",
   "execution_count": null,
   "id": "296a235c",
   "metadata": {},
   "outputs": [],
   "source": []
  },
  {
   "cell_type": "markdown",
   "id": "957f415a",
   "metadata": {},
   "source": [
    "7. Escribir una función que reciba una muestra de números en una lista y devuelva un diccionario con su media, varianza y desviación típica."
   ]
  },
  {
   "cell_type": "code",
   "execution_count": null,
   "id": "7d18dd65",
   "metadata": {},
   "outputs": [],
   "source": []
  },
  {
   "cell_type": "markdown",
   "id": "a398d9f2",
   "metadata": {},
   "source": [
    "8. Escribir una función que calcule el máximo común divisor de dos números y otra que calcule el mínimo común múltiplo."
   ]
  },
  {
   "cell_type": "code",
   "execution_count": null,
   "id": "5d4145e8",
   "metadata": {},
   "outputs": [],
   "source": []
  },
  {
   "cell_type": "markdown",
   "id": "dd92251a",
   "metadata": {},
   "source": [
    "9. Escribir una función que convierta un número decimal en binario y otra que convierta un número binario en decimal."
   ]
  },
  {
   "cell_type": "code",
   "execution_count": null,
   "id": "65361ad8",
   "metadata": {},
   "outputs": [],
   "source": []
  },
  {
   "cell_type": "markdown",
   "id": "31f0a4da",
   "metadata": {},
   "source": [
    "10. Escribir un programa que reciba una cadena de caracteres y devuelva un diccionario con cada palabra que contiene y su frecuencia. Escribir otra función que reciba el diccionario generado con la función anterior y devuelva una tupla con la palabra más repetida y su frecuencia."
   ]
  },
  {
   "cell_type": "code",
   "execution_count": null,
   "id": "01eb5cd3",
   "metadata": {},
   "outputs": [],
   "source": []
  },
  {
   "cell_type": "code",
   "execution_count": null,
   "id": "38c3f055",
   "metadata": {},
   "outputs": [],
   "source": []
  }
 ],
 "metadata": {
  "kernelspec": {
   "display_name": "Python 3",
   "language": "python",
   "name": "python3"
  },
  "language_info": {
   "codemirror_mode": {
    "name": "ipython",
    "version": 3
   },
   "file_extension": ".py",
   "mimetype": "text/x-python",
   "name": "python",
   "nbconvert_exporter": "python",
   "pygments_lexer": "ipython3",
   "version": "3.8.10"
  },
  "vscode": {
   "interpreter": {
    "hash": "916dbcbb3f70747c44a77c7bcd40155683ae19c65e1c03b4aa3499c5328201f1"
   }
  }
 },
 "nbformat": 4,
 "nbformat_minor": 5
}
