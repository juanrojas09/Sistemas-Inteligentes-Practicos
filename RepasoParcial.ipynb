{
 "cells": [
  {
   "attachments": {},
   "cell_type": "markdown",
   "metadata": {},
   "source": [
    "## Breast cancer wisconsin\n",
    "Realizar un modelo con un dataset que se encuentra en kaggle sobre datos clinicos de celulas de cancer de mama, la idea es aplicar lo estudiado para poder determinar y predcir si una celula es maligna o benigna, usando los mismos pasos que el dataset de mnist\n",
    "\n",
    "1.Cargar datos del dataset\n",
    "\n",
    "2. Dividir el conjunto de datos en entrenamiento y prueba\n",
    "\n",
    "3. preprocesar datos y prepararlos o escalarlos\n",
    "\n",
    "4. Seleccionar un modelo para entrenar\n",
    "\n",
    "5. entrenar el modelo\n",
    "\n",
    "6. Evaluar el modelo\n",
    "\n",
    "6.1 Medir accuracy con solo entrenamiento y prueba\n",
    "\n",
    "6.2 Medir accuracy con cross value para evaluar el modelo\n",
    "\n",
    "6.3 Comparar el rendimiento del clasificador mediante dummyclassifier\n",
    "\n",
    "6.4 Implementar la matriz de confusion\n",
    "\n",
    "6.5 Implementar Precision (cuantas veces mi modelo **dice** es realmente cierto)\n",
    "\n",
    "6.6 Implementar Recall (cuantas veces mi modelo es capaz de \n",
    "identificar la verdad)\n",
    "\n",
    "6.7 implementar f1 score (mezcla de precision y recall)\n",
    "\n",
    "6.8 implementar el TradeOff de recall y precision, apartir de los \n",
    "umbrales\n",
    "\n",
    "6.9 Implementar la curva de Roc\n",
    "\n",
    "6.10 Comparar dos modelos con curva roc\n",
    "\n",
    "6.11 Multiclase\n",
    "\n",
    "6.12 Analizar el error con graficos (ver si se puede)"
   ]
  },
  {
   "cell_type": "code",
   "execution_count": 98,
   "metadata": {},
   "outputs": [
    {
     "name": "stdout",
     "output_type": "stream",
     "text": [
      "         id diagnosis  radius_mean  texture_mean  perimeter_mean  area_mean  \\\n",
      "0    842302         M        17.99         10.38          122.80     1001.0   \n",
      "1    842517         M        20.57         17.77          132.90     1326.0   \n",
      "2  84300903         M        19.69         21.25          130.00     1203.0   \n",
      "3  84348301         M        11.42         20.38           77.58      386.1   \n",
      "4  84358402         M        20.29         14.34          135.10     1297.0   \n",
      "\n",
      "   smoothness_mean  compactness_mean  concavity_mean  concave points_mean  \\\n",
      "0          0.11840           0.27760          0.3001              0.14710   \n",
      "1          0.08474           0.07864          0.0869              0.07017   \n",
      "2          0.10960           0.15990          0.1974              0.12790   \n",
      "3          0.14250           0.28390          0.2414              0.10520   \n",
      "4          0.10030           0.13280          0.1980              0.10430   \n",
      "\n",
      "   ...  texture_worst  perimeter_worst  area_worst  smoothness_worst  \\\n",
      "0  ...          17.33           184.60      2019.0            0.1622   \n",
      "1  ...          23.41           158.80      1956.0            0.1238   \n",
      "2  ...          25.53           152.50      1709.0            0.1444   \n",
      "3  ...          26.50            98.87       567.7            0.2098   \n",
      "4  ...          16.67           152.20      1575.0            0.1374   \n",
      "\n",
      "   compactness_worst  concavity_worst  concave points_worst  symmetry_worst  \\\n",
      "0             0.6656           0.7119                0.2654          0.4601   \n",
      "1             0.1866           0.2416                0.1860          0.2750   \n",
      "2             0.4245           0.4504                0.2430          0.3613   \n",
      "3             0.8663           0.6869                0.2575          0.6638   \n",
      "4             0.2050           0.4000                0.1625          0.2364   \n",
      "\n",
      "   fractal_dimension_worst  Unnamed: 32  \n",
      "0                  0.11890          NaN  \n",
      "1                  0.08902          NaN  \n",
      "2                  0.08758          NaN  \n",
      "3                  0.17300          NaN  \n",
      "4                  0.07678          NaN  \n",
      "\n",
      "[5 rows x 33 columns]\n"
     ]
    }
   ],
   "source": [
    "#Cargar datos del dataset\n",
    "import pandas as pd\n",
    "#def load_breast_cancer():\n",
    " #   from sklearn.datasets import load_breast_cancer\n",
    "  #  return load_breast_cancer()\n",
    "\n",
    "#load_data=load_breast_cancer()\n",
    "\n",
    "#print(load_data.keys())\n",
    "\n",
    "#Cargar del csv\n",
    "\n",
    "data=pd.read_csv('/home/juan-pablo/Escritorio/Sist inteligente/datasets/data.csv')\n",
    "print(data.head())\n",
    "#print(data.info())\n",
    "#print(data.describe())\n",
    "# verificar columnas con datos faltantes\n",
    "#print(data.isnull().sum())"
   ]
  },
  {
   "cell_type": "code",
   "execution_count": 99,
   "metadata": {},
   "outputs": [],
   "source": [
    "#Preprocesamiento de datos\n",
    "import pandas as pd\n",
    "import numpy as np\n",
    "from sklearn.preprocessing import StandardScaler, LabelEncoder\n",
    "from sklearn.impute import SimpleImputer\n",
    "from sklearn.pipeline import make_pipeline\n",
    "\n",
    "# Eliminar la columna 'ID del paciente'\n",
    "#data = data.drop('id', axis=1)\n",
    "if data.shape[0] == 0:\n",
    "    raise ValueError(\"No hay muestras restantes después de la limpieza de datos\")\n",
    "\n",
    "# Separar los datos en entradas y etiquetas\n",
    "X = data.drop('diagnosis', axis=1)\n",
    "y = data['diagnosis']\n",
    "\n",
    "\n",
    "# Crear una canalización para imputar valores faltantes y escalar las características numéricas\n",
    "pipeline = make_pipeline(\n",
    "    SimpleImputer(strategy='mean'),\n",
    "    StandardScaler()\n",
    ")\n",
    "# Aplicar la canalización a los datos de entrada\n",
    "X = pipeline.fit_transform(X)\n",
    "\n",
    "\n"
   ]
  },
  {
   "cell_type": "code",
   "execution_count": 100,
   "metadata": {},
   "outputs": [],
   "source": [
    "#Dividir los datos en entrenamiento y prueba\n",
    "from sklearn.model_selection import cross_val_score, train_test_split\n",
    "#divido en entrenamiento, borro la columna diagnosis arriba X(caracteeristicas) y prueba Y (etiquetas) y guardo la columna diagnosis\n",
    "x_train,x_test,y_train,y_test=train_test_split(X,y,test_size=0.2,random_state=0)\n"
   ]
  },
  {
   "cell_type": "code",
   "execution_count": 101,
   "metadata": {},
   "outputs": [
    {
     "name": "stdout",
     "output_type": "stream",
     "text": [
      "Accuracy con validacion cruzada:  [0.95394737 0.94078947 0.96688742]\n"
     ]
    }
   ],
   "source": [
    "#Seleccionar un modelo para entrenar\n",
    "from sklearn.linear_model import SGDClassifier\n",
    "\n",
    "sgd_clf=SGDClassifier(random_state=42)\n",
    "\n",
    "accuracy=cross_val_score(sgd_clf,x_train,y_train,cv=3,scoring='accuracy')\n",
    "\n",
    "print(\"Accuracy con validacion cruzada: \",accuracy)"
   ]
  },
  {
   "cell_type": "code",
   "execution_count": 102,
   "metadata": {},
   "outputs": [
    {
     "name": "stdout",
     "output_type": "stream",
     "text": [
      "Accuracy con division entrenamiento y prueba:  0.9298245614035088\n"
     ]
    }
   ],
   "source": [
    "#Ahora entreno el modelo y calculo la prediccion con accuracy_Score\n",
    "from sklearn.metrics import accuracy_score\n",
    "#Entreno el modelo\n",
    "sgd_clf=sgd_clf.fit(x_train,y_train)\n",
    "#Hago la prdiccion\n",
    "y_pred=sgd_clf.predict(x_test)\n",
    "accuracy=accuracy_score(y_test,y_pred)\n",
    "print(\"Accuracy con division entrenamiento y prueba: \",accuracy)"
   ]
  },
  {
   "cell_type": "code",
   "execution_count": 103,
   "metadata": {},
   "outputs": [
    {
     "name": "stdout",
     "output_type": "stream",
     "text": [
      "Accuracy con validacion cruzada:  [0.63815789 0.63815789 0.63576159]\n",
      "La clase más frecuente en y_train es: B\n"
     ]
    }
   ],
   "source": [
    "#6.3 entrenar el modelo con dummy classifier\n",
    "from sklearn.dummy import DummyClassifier\n",
    "\n",
    "#creo el clasificador dummy\n",
    "Most_Frecuent=DummyClassifier(strategy='most_frequent')\n",
    "\n",
    "#hago validacion cruzada, le paso el clasifcador, caracteristicas, etiquetas, numero de divisiones, y la metrica\n",
    "accuracy_cross_value=cross_val_score(Most_Frecuent,x_train,y_train,cv=3,scoring='accuracy')\n",
    "\n",
    "\n",
    "print(\"Accuracy con validacion cruzada: \",accuracy_cross_value)\n",
    "#osea el porcentaje que saque va a ser el de la etiqueta mas frecuente\n",
    "\n",
    "# Obtener el valor más frecuente en y_train\n",
    "most_frequent_class = y_train.value_counts().idxmax()\n",
    "\n",
    "# Imprimir la clase más frecuente\n",
    "print(\"La clase más frecuente en y_train es:\", most_frequent_class)"
   ]
  },
  {
   "cell_type": "code",
   "execution_count": 104,
   "metadata": {},
   "outputs": [
    {
     "data": {
      "text/plain": [
       "array([[281,   9],\n",
       "       [ 12, 153]])"
      ]
     },
     "execution_count": 104,
     "metadata": {},
     "output_type": "execute_result"
    }
   ],
   "source": [
    "#Implementacion de matriz de confusion\n",
    "from sklearn.metrics import confusion_matrix\n",
    "\n",
    "from sklearn.model_selection import cross_val_predict\n",
    "\n",
    "y_pred=cross_val_predict(sgd_clf,x_train,y_train,cv=3)\n",
    "confusion_matrix(y_train,y_pred)\n",
    "\n",
    "#0.0 =tp\n",
    "#0.1 =fp\n",
    "#1.0 =fn\n",
    "#1.1 =tn\n",
    "\n"
   ]
  },
  {
   "cell_type": "code",
   "execution_count": 105,
   "metadata": {},
   "outputs": [
    {
     "name": "stdout",
     "output_type": "stream",
     "text": [
      "Precision:  0.9444444444444444\n",
      "Recall:  0.9272727272727272\n"
     ]
    }
   ],
   "source": [
    "#Implementacion de precision y recall\n",
    "#Precision = tp/(tp+fp)\n",
    "#Cuantas veces lo que mi modelo dice es cierto?\n",
    "\n",
    "from sklearn.metrics import precision_score, recall_score\n",
    "\n",
    "precision=precision_score(y_train,y_pred,pos_label='M')\n",
    "\n",
    "recall=recall_score(y_train,y_pred,pos_label='M')\n",
    "print(\"Precision: \",precision)\n",
    "print(\"Recall: \",recall)"
   ]
  },
  {
   "cell_type": "code",
   "execution_count": 106,
   "metadata": {},
   "outputs": [
    {
     "name": "stdout",
     "output_type": "stream",
     "text": [
      "F1 Score: 0.9357798165137615\n"
     ]
    },
    {
     "data": {
      "image/png": "[encoded data removed]",
      "text/plain": [
       "<Figure size 432x288 with 1 Axes>"
      ]
     },
     "metadata": {
      "needs_background": "light"
     },
     "output_type": "display_data"
    }
   ],
   "source": [
    "#F1 scor y  trade off\n",
    "from sklearn.metrics import f1_score\n",
    "import matplotlib.pyplot as plt\n",
    "print(\"F1 Score:\", f1_score(y_train,y_pred,pos_label='M'))\n",
    "\n",
    "#para poder hacer la resta de un vector con etiquetas numericas y no caracteres\n",
    "encoder = LabelEncoder()\n",
    "y_true = encoder.fit_transform(y_train)\n",
    "y_pred = encoder.transform(y_pred)\n",
    "from sklearn.metrics import precision_recall_curve \n",
    "precision,recall,thresholds=precision_recall_curve(y_train,y_pred,pos_label='M')\n",
    "def plot_precision_recall_vs_threshold(precision, recall, thresholds):\n",
    "    plt.plot(thresholds, precision[:-1], 'b--', label='Precision')\n",
    "    plt.plot(thresholds, recall[:-1], 'g-', label='Recall')\n",
    "    plt.xlabel('Umbral')\n",
    "    plt.legend(loc='center right')\n",
    "    plt.ylim([0, 1])\n",
    "plot_precision_recall_vs_threshold(precision,recall,thresholds)\n",
    "plt.show()\n",
    "\n",
    "#ta rara la funcion"
   ]
  },
  {
   "cell_type": "code",
   "execution_count": 107,
   "metadata": {},
   "outputs": [
    {
     "data": {
      "image/png": "[encoded data removed]",
      "text/plain": [
       "<Figure size 432x288 with 1 Axes>"
      ]
     },
     "metadata": {
      "needs_background": "light"
     },
     "output_type": "display_data"
    }
   ],
   "source": [
    "#Curva ROC\n",
    "from sklearn.metrics import roc_curve\n",
    "\n",
    "#Calculo tasa de fpr, tasa de tpr y umbral\n",
    "fpr,tpr,thresholds=roc_curve(y_train,y_pred,pos_label='M')\n",
    "\n",
    "#Defino la funcion para graficar la curva ROC\n",
    "def plot_roc_curve(fpr,tpr,label=None):\n",
    "    plt.plot(fpr,tpr,linewidth=2,label=label)\n",
    "    plt.plot([0,1],[0,1],'k--')\n",
    "    plt.axis([0,1,0,1])\n",
    "    plt.xlabel('Tasa de FPR')\n",
    "    plt.ylabel('Tasa de TPR')\n",
    "plot_roc_curve(fpr,tpr)\n",
    "plt.show()"
   ]
  },
  {
   "cell_type": "code",
   "execution_count": 108,
   "metadata": {},
   "outputs": [
    {
     "data": {
      "image/png": "[encoded data removed]",
      "text/plain": [
       "<Figure size 432x288 with 1 Axes>"
      ]
     },
     "metadata": {
      "needs_background": "light"
     },
     "output_type": "display_data"
    }
   ],
   "source": [
    "#curva roc para comparar 2 modelos\n",
    "from sklearn.ensemble import RandomForestClassifier\n",
    "#instancio el clasificador\n",
    "forest_clf=RandomForestClassifier(random_state=42)\n",
    "#obtengo las probabilidades de la clase positiva mediante cross_val_predict\n",
    "y_probab_forest=cross_val_predict(forest_clf,x_train,y_train,cv=3,method='predict_proba')\n",
    "\n",
    "#obtengo las probabilidades de la clase positiva\n",
    "y_scores_forest=y_probab_forest[:,1]\n",
    "\n",
    "#Calculo curva roc\n",
    "fpr_forest,tpr_forest,thresholds_forest=roc_curve(y_train,y_scores_forest,pos_label='M')\n",
    "\n",
    "#grafocp curva roc\n",
    "plt.plot(fpr,tpr,'b:',label='SGD')\n",
    "plot_roc_curve(fpr_forest,tpr_forest,label='Random Forest')\n",
    "plt.legend(loc='lower right')\n",
    "plt.show()"
   ]
  },
  {
   "cell_type": "code",
   "execution_count": 109,
   "metadata": {},
   "outputs": [
    {
     "name": "stdout",
     "output_type": "stream",
     "text": [
      "Predict:  ['B' 'B' 'B' 'B' 'B' 'B' 'B' 'B' 'B' 'B' 'M' 'B' 'M' 'B' 'B' 'B' 'M' 'B'\n",
      " 'B' 'B' 'B' 'B' 'M' 'M' 'M' 'B' 'B' 'B' 'M' 'B' 'B' 'M' 'B' 'B' 'B' 'B'\n",
      " 'B' 'B' 'M' 'B' 'B' 'M' 'B' 'M' 'B' 'M' 'M' 'B' 'B' 'M' 'B' 'M' 'M' 'M'\n",
      " 'B' 'B' 'B' 'B' 'B' 'B' 'M' 'B' 'B' 'B' 'B' 'M' 'M' 'B' 'M' 'M' 'B' 'B'\n",
      " 'B' 'B' 'M' 'B' 'B' 'M' 'M' 'B' 'B' 'M' 'M' 'B' 'B' 'M' 'B' 'B' 'M' 'M'\n",
      " 'M' 'B' 'B' 'B' 'M' 'B' 'B' 'B' 'B' 'B' 'M' 'B' 'M' 'B' 'M' 'B' 'M' 'B'\n",
      " 'M' 'B' 'B' 'B' 'B' 'M' 'B' 'M' 'B' 'B' 'B' 'M' 'B' 'B' 'B' 'M' 'B' 'B'\n",
      " 'M' 'M' 'B' 'M' 'B' 'M' 'B' 'M' 'M' 'M' 'M' 'B' 'B' 'B' 'M' 'B' 'M' 'B'\n",
      " 'M' 'B' 'B' 'M' 'B' 'B' 'B' 'B' 'B' 'M' 'B' 'B' 'B' 'B' 'B' 'B' 'B' 'M'\n",
      " 'B' 'B' 'B' 'M' 'B' 'B' 'B' 'B' 'B' 'B' 'M' 'B' 'M' 'B' 'B' 'M' 'B' 'M'\n",
      " 'M' 'B' 'M' 'M' 'B' 'B' 'B' 'B' 'B' 'B' 'M' 'B' 'B' 'B' 'B' 'B' 'M' 'M'\n",
      " 'B' 'B' 'B' 'B' 'M' 'M' 'B' 'B' 'B' 'B' 'B' 'B' 'B' 'M' 'B' 'B' 'M' 'B'\n",
      " 'M' 'B' 'B' 'B' 'B' 'M' 'M' 'B' 'B' 'B' 'M' 'B' 'M' 'M' 'B' 'B' 'B' 'M'\n",
      " 'B' 'M' 'B' 'B' 'M' 'B' 'B' 'M' 'M' 'B' 'B' 'B' 'M' 'B' 'B' 'B' 'M' 'B'\n",
      " 'B' 'B' 'M' 'B' 'M' 'B' 'M' 'M' 'M' 'M' 'B' 'B' 'B' 'B' 'B' 'M' 'M' 'B'\n",
      " 'B' 'B' 'B' 'M' 'B' 'B' 'M' 'B' 'B' 'M' 'M' 'M' 'M' 'B' 'B' 'M' 'B' 'B'\n",
      " 'B' 'M' 'M' 'B' 'B' 'B' 'B' 'B' 'M' 'M' 'M' 'B' 'M' 'M' 'B' 'B' 'B' 'B'\n",
      " 'B' 'B' 'M' 'B' 'B' 'B' 'B' 'B' 'B' 'M' 'M' 'B' 'M' 'B' 'M' 'M' 'B' 'B'\n",
      " 'B' 'B' 'B' 'M' 'M' 'M' 'B' 'B' 'M' 'M' 'B' 'M' 'B' 'B' 'M' 'M' 'B' 'M'\n",
      " 'B' 'B' 'B' 'B' 'B' 'B' 'B' 'M' 'M' 'B' 'B' 'B' 'M' 'B' 'B' 'B' 'B' 'M'\n",
      " 'B' 'M' 'M' 'M' 'B' 'M' 'B' 'M' 'B' 'M' 'M' 'B' 'B' 'B' 'B' 'B' 'B' 'B'\n",
      " 'B' 'M' 'M' 'M' 'M' 'M' 'B' 'B' 'B' 'B' 'B' 'B' 'B' 'M' 'B' 'M' 'B' 'B'\n",
      " 'B' 'B' 'B' 'M' 'M' 'M' 'B' 'M' 'B' 'B' 'B' 'M' 'M' 'M' 'M' 'M' 'M' 'M'\n",
      " 'B' 'M' 'B' 'M' 'B' 'B' 'M' 'B' 'B' 'M' 'B' 'B' 'B' 'B' 'M' 'B' 'B' 'M'\n",
      " 'B' 'B' 'B' 'M' 'M' 'B' 'B' 'B' 'M' 'B' 'B' 'M' 'B' 'B' 'B' 'B' 'B' 'M'\n",
      " 'M' 'M' 'B' 'B' 'B']\n",
      "Accuracy con validacion cruzada:  [0.95394737 0.94078947 0.96688742]\n"
     ]
    }
   ],
   "source": [
    "#Multiclase\n",
    "from sklearn.multiclass import OneVsRestClassifier\n",
    "ovr_clf=OneVsRestClassifier(SGDClassifier(random_state=42))\n",
    "ovr_clf.fit(x_train,y_train)\n",
    "\n",
    "sgd_clf.fit(x_train,y_train)\n",
    "\n",
    "pred=cross_val_predict(sgd_clf,x_train,y_train,cv=3)\n",
    "print(\"Predict: \", pred)\n",
    "accuracy=cross_val_score(sgd_clf,x_train,y_train,cv=3,scoring='accuracy')\n",
    "print(\"Accuracy con validacion cruzada: \",accuracy)"
   ]
  },
  {
   "cell_type": "code",
   "execution_count": 114,
   "metadata": {},
   "outputs": [
    {
     "name": "stdout",
     "output_type": "stream",
     "text": [
      "Confusion matrix:\n",
      "[[281   9]\n",
      " [ 12 153]]\n"
     ]
    },
    {
     "data": {
      "image/png": "[encoded data removed]",
      "text/plain": [
       "<Figure size 288x288 with 1 Axes>"
      ]
     },
     "metadata": {
      "needs_background": "light"
     },
     "output_type": "display_data"
    },
    {
     "data": {
      "image/png": "[encoded data removed]",
      "text/plain": [
       "<Figure size 288x288 with 1 Axes>"
      ]
     },
     "metadata": {
      "needs_background": "light"
     },
     "output_type": "display_data"
    }
   ],
   "source": [
    "#Analizar el error\n",
    "from sklearn.metrics import confusion_matrix\n",
    "import matplotlib.pyplot as plt\n",
    "import numpy as np\n",
    "\n",
    "# Obtener las predicciones utilizando validación cruzada\n",
    "y_pred = cross_val_predict(sgd_clf, x_train, y_train, cv=3)\n",
    "\n",
    "# Obtener la matriz de confusión utilizando los datos de entrenamiento y las predicciones\n",
    "conf_mx = confusion_matrix(y_train, y_pred)\n",
    "print(f'Confusion matrix:\\n{conf_mx}')\n",
    "\n",
    "# Mostrar la matriz de confusión como una imagen\n",
    "plt.matshow(conf_mx, cmap=plt.cm.gray)\n",
    "plt.show()\n",
    "\n",
    "# Calcular la tasa de error por clase\n",
    "# Calcular la suma de las filas de la matriz de confusión y mantener las dimensiones\n",
    "row_sums = conf_mx.sum(axis=1, keepdims=True)\n",
    "\n",
    "# Dividir cada elemento de la matriz de confusión por la suma de su fila\n",
    "norm_conf_mx = conf_mx / row_sums\n",
    "\n",
    "# Rellenar la diagonal con ceros para que no se muestre en el gráfico\n",
    "np.fill_diagonal(norm_conf_mx, 0)\n",
    "\n",
    "# Mostrar la matriz normalizada como una imagen en escala de grises\n",
    "plt.matshow(norm_conf_mx, cmap=plt.cm.gray)\n",
    "plt.show()"
   ]
  }
 ],
 "metadata": {
  "kernelspec": {
   "display_name": "Python 3",
   "language": "python",
   "name": "python3"
  },
  "language_info": {
   "codemirror_mode": {
    "name": "ipython",
    "version": 3
   },
   "file_extension": ".py",
   "mimetype": "text/x-python",
   "name": "python",
   "nbconvert_exporter": "python",
   "pygments_lexer": "ipython3",
   "version": "3.8.10"
  },
  "orig_nbformat": 4
 },
 "nbformat": 4,
 "nbformat_minor": 2
}
