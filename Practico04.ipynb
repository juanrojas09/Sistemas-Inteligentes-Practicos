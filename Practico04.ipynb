{
  "cells": [
    {
      "cell_type": "markdown",
      "metadata": {
        "id": "zDco0d_wjWRS"
      },
      "source": [
        "# Práctico 4:\n",
        "\n",
        "1. Implementar un pipeline de clasificación con la muestra que se vió en clase. El código para traer el dataset es el siguiente:"
      ]
    },
    {
      "cell_type": "code",
      "execution_count": null,
      "metadata": {
        "colab": {
          "base_uri": "https://localhost:8080/"
        },
        "id": "rObB3YO0jGWQ",
        "outputId": "4040a8d9-4cfa-4984-c8e6-f3789d391e54"
      },
      "outputs": [
        {
          "name": "stderr",
          "output_type": "stream",
          "text": [
            "/home/juan-pablo/.local/lib/python3.8/site-packages/sklearn/datasets/_openml.py:968: FutureWarning: The default value of `parser` will change from `'liac-arff'` to `'auto'` in 1.4. You can set `parser='auto'` to silence this warning. Therefore, an `ImportError` will be raised from 1.4 if the dataset is dense and pandas is not installed. Note that the pandas parser may return different data types. See the Notes Section in fetch_openml's API doc for details.\n",
            "  warn(\n"
          ]
        },
        {
          "name": "stdout",
          "output_type": "stream",
          "text": [
            "dict_keys(['data', 'target', 'frame', 'categories', 'feature_names', 'target_names', 'DESCR', 'details', 'url'])\n",
            "{'data': array([[0., 0., 0., ..., 0., 0., 0.],\n",
            "       [0., 0., 0., ..., 0., 0., 0.],\n",
            "       [0., 0., 0., ..., 0., 0., 0.],\n",
            "       ...,\n",
            "       [0., 0., 0., ..., 0., 0., 0.],\n",
            "       [0., 0., 0., ..., 0., 0., 0.],\n",
            "       [0., 0., 0., ..., 0., 0., 0.]]), 'target': array(['5', '0', '4', ..., '4', '5', '6'], dtype=object), 'frame': None, 'categories': {}, 'feature_names': ['pixel1', 'pixel2', 'pixel3', 'pixel4', 'pixel5', 'pixel6', 'pixel7', 'pixel8', 'pixel9', 'pixel10', 'pixel11', 'pixel12', 'pixel13', 'pixel14', 'pixel15', 'pixel16', 'pixel17', 'pixel18', 'pixel19', 'pixel20', 'pixel21', 'pixel22', 'pixel23', 'pixel24', 'pixel25', 'pixel26', 'pixel27', 'pixel28', 'pixel29', 'pixel30', 'pixel31', 'pixel32', 'pixel33', 'pixel34', 'pixel35', 'pixel36', 'pixel37', 'pixel38', 'pixel39', 'pixel40', 'pixel41', 'pixel42', 'pixel43', 'pixel44', 'pixel45', 'pixel46', 'pixel47', 'pixel48', 'pixel49', 'pixel50', 'pixel51', 'pixel52', 'pixel53', 'pixel54', 'pixel55', 'pixel56', 'pixel57', 'pixel58', 'pixel59', 'pixel60', 'pixel61', 'pixel62', 'pixel63', 'pixel64', 'pixel65', 'pixel66', 'pixel67', 'pixel68', 'pixel69', 'pixel70', 'pixel71', 'pixel72', 'pixel73', 'pixel74', 'pixel75', 'pixel76', 'pixel77', 'pixel78', 'pixel79', 'pixel80', 'pixel81', 'pixel82', 'pixel83', 'pixel84', 'pixel85', 'pixel86', 'pixel87', 'pixel88', 'pixel89', 'pixel90', 'pixel91', 'pixel92', 'pixel93', 'pixel94', 'pixel95', 'pixel96', 'pixel97', 'pixel98', 'pixel99', 'pixel100', 'pixel101', 'pixel102', 'pixel103', 'pixel104', 'pixel105', 'pixel106', 'pixel107', 'pixel108', 'pixel109', 'pixel110', 'pixel111', 'pixel112', 'pixel113', 'pixel114', 'pixel115', 'pixel116', 'pixel117', 'pixel118', 'pixel119', 'pixel120', 'pixel121', 'pixel122', 'pixel123', 'pixel124', 'pixel125', 'pixel126', 'pixel127', 'pixel128', 'pixel129', 'pixel130', 'pixel131', 'pixel132', 'pixel133', 'pixel134', 'pixel135', 'pixel136', 'pixel137', 'pixel138', 'pixel139', 'pixel140', 'pixel141', 'pixel142', 'pixel143', 'pixel144', 'pixel145', 'pixel146', 'pixel147', 'pixel148', 'pixel149', 'pixel150', 'pixel151', 'pixel152', 'pixel153', 'pixel154', 'pixel155', 'pixel156', 'pixel157', 'pixel158', 'pixel159', 'pixel160', 'pixel161', 'pixel162', 'pixel163', 'pixel164', 'pixel165', 'pixel166', 'pixel167', 'pixel168', 'pixel169', 'pixel170', 'pixel171', 'pixel172', 'pixel173', 'pixel174', 'pixel175', 'pixel176', 'pixel177', 'pixel178', 'pixel179', 'pixel180', 'pixel181', 'pixel182', 'pixel183', 'pixel184', 'pixel185', 'pixel186', 'pixel187', 'pixel188', 'pixel189', 'pixel190', 'pixel191', 'pixel192', 'pixel193', 'pixel194', 'pixel195', 'pixel196', 'pixel197', 'pixel198', 'pixel199', 'pixel200', 'pixel201', 'pixel202', 'pixel203', 'pixel204', 'pixel205', 'pixel206', 'pixel207', 'pixel208', 'pixel209', 'pixel210', 'pixel211', 'pixel212', 'pixel213', 'pixel214', 'pixel215', 'pixel216', 'pixel217', 'pixel218', 'pixel219', 'pixel220', 'pixel221', 'pixel222', 'pixel223', 'pixel224', 'pixel225', 'pixel226', 'pixel227', 'pixel228', 'pixel229', 'pixel230', 'pixel231', 'pixel232', 'pixel233', 'pixel234', 'pixel235', 'pixel236', 'pixel237', 'pixel238', 'pixel239', 'pixel240', 'pixel241', 'pixel242', 'pixel243', 'pixel244', 'pixel245', 'pixel246', 'pixel247', 'pixel248', 'pixel249', 'pixel250', 'pixel251', 'pixel252', 'pixel253', 'pixel254', 'pixel255', 'pixel256', 'pixel257', 'pixel258', 'pixel259', 'pixel260', 'pixel261', 'pixel262', 'pixel263', 'pixel264', 'pixel265', 'pixel266', 'pixel267', 'pixel268', 'pixel269', 'pixel270', 'pixel271', 'pixel272', 'pixel273', 'pixel274', 'pixel275', 'pixel276', 'pixel277', 'pixel278', 'pixel279', 'pixel280', 'pixel281', 'pixel282', 'pixel283', 'pixel284', 'pixel285', 'pixel286', 'pixel287', 'pixel288', 'pixel289', 'pixel290', 'pixel291', 'pixel292', 'pixel293', 'pixel294', 'pixel295', 'pixel296', 'pixel297', 'pixel298', 'pixel299', 'pixel300', 'pixel301', 'pixel302', 'pixel303', 'pixel304', 'pixel305', 'pixel306', 'pixel307', 'pixel308', 'pixel309', 'pixel310', 'pixel311', 'pixel312', 'pixel313', 'pixel314', 'pixel315', 'pixel316', 'pixel317', 'pixel318', 'pixel319', 'pixel320', 'pixel321', 'pixel322', 'pixel323', 'pixel324', 'pixel325', 'pixel326', 'pixel327', 'pixel328', 'pixel329', 'pixel330', 'pixel331', 'pixel332', 'pixel333', 'pixel334', 'pixel335', 'pixel336', 'pixel337', 'pixel338', 'pixel339', 'pixel340', 'pixel341', 'pixel342', 'pixel343', 'pixel344', 'pixel345', 'pixel346', 'pixel347', 'pixel348', 'pixel349', 'pixel350', 'pixel351', 'pixel352', 'pixel353', 'pixel354', 'pixel355', 'pixel356', 'pixel357', 'pixel358', 'pixel359', 'pixel360', 'pixel361', 'pixel362', 'pixel363', 'pixel364', 'pixel365', 'pixel366', 'pixel367', 'pixel368', 'pixel369', 'pixel370', 'pixel371', 'pixel372', 'pixel373', 'pixel374', 'pixel375', 'pixel376', 'pixel377', 'pixel378', 'pixel379', 'pixel380', 'pixel381', 'pixel382', 'pixel383', 'pixel384', 'pixel385', 'pixel386', 'pixel387', 'pixel388', 'pixel389', 'pixel390', 'pixel391', 'pixel392', 'pixel393', 'pixel394', 'pixel395', 'pixel396', 'pixel397', 'pixel398', 'pixel399', 'pixel400', 'pixel401', 'pixel402', 'pixel403', 'pixel404', 'pixel405', 'pixel406', 'pixel407', 'pixel408', 'pixel409', 'pixel410', 'pixel411', 'pixel412', 'pixel413', 'pixel414', 'pixel415', 'pixel416', 'pixel417', 'pixel418', 'pixel419', 'pixel420', 'pixel421', 'pixel422', 'pixel423', 'pixel424', 'pixel425', 'pixel426', 'pixel427', 'pixel428', 'pixel429', 'pixel430', 'pixel431', 'pixel432', 'pixel433', 'pixel434', 'pixel435', 'pixel436', 'pixel437', 'pixel438', 'pixel439', 'pixel440', 'pixel441', 'pixel442', 'pixel443', 'pixel444', 'pixel445', 'pixel446', 'pixel447', 'pixel448', 'pixel449', 'pixel450', 'pixel451', 'pixel452', 'pixel453', 'pixel454', 'pixel455', 'pixel456', 'pixel457', 'pixel458', 'pixel459', 'pixel460', 'pixel461', 'pixel462', 'pixel463', 'pixel464', 'pixel465', 'pixel466', 'pixel467', 'pixel468', 'pixel469', 'pixel470', 'pixel471', 'pixel472', 'pixel473', 'pixel474', 'pixel475', 'pixel476', 'pixel477', 'pixel478', 'pixel479', 'pixel480', 'pixel481', 'pixel482', 'pixel483', 'pixel484', 'pixel485', 'pixel486', 'pixel487', 'pixel488', 'pixel489', 'pixel490', 'pixel491', 'pixel492', 'pixel493', 'pixel494', 'pixel495', 'pixel496', 'pixel497', 'pixel498', 'pixel499', 'pixel500', 'pixel501', 'pixel502', 'pixel503', 'pixel504', 'pixel505', 'pixel506', 'pixel507', 'pixel508', 'pixel509', 'pixel510', 'pixel511', 'pixel512', 'pixel513', 'pixel514', 'pixel515', 'pixel516', 'pixel517', 'pixel518', 'pixel519', 'pixel520', 'pixel521', 'pixel522', 'pixel523', 'pixel524', 'pixel525', 'pixel526', 'pixel527', 'pixel528', 'pixel529', 'pixel530', 'pixel531', 'pixel532', 'pixel533', 'pixel534', 'pixel535', 'pixel536', 'pixel537', 'pixel538', 'pixel539', 'pixel540', 'pixel541', 'pixel542', 'pixel543', 'pixel544', 'pixel545', 'pixel546', 'pixel547', 'pixel548', 'pixel549', 'pixel550', 'pixel551', 'pixel552', 'pixel553', 'pixel554', 'pixel555', 'pixel556', 'pixel557', 'pixel558', 'pixel559', 'pixel560', 'pixel561', 'pixel562', 'pixel563', 'pixel564', 'pixel565', 'pixel566', 'pixel567', 'pixel568', 'pixel569', 'pixel570', 'pixel571', 'pixel572', 'pixel573', 'pixel574', 'pixel575', 'pixel576', 'pixel577', 'pixel578', 'pixel579', 'pixel580', 'pixel581', 'pixel582', 'pixel583', 'pixel584', 'pixel585', 'pixel586', 'pixel587', 'pixel588', 'pixel589', 'pixel590', 'pixel591', 'pixel592', 'pixel593', 'pixel594', 'pixel595', 'pixel596', 'pixel597', 'pixel598', 'pixel599', 'pixel600', 'pixel601', 'pixel602', 'pixel603', 'pixel604', 'pixel605', 'pixel606', 'pixel607', 'pixel608', 'pixel609', 'pixel610', 'pixel611', 'pixel612', 'pixel613', 'pixel614', 'pixel615', 'pixel616', 'pixel617', 'pixel618', 'pixel619', 'pixel620', 'pixel621', 'pixel622', 'pixel623', 'pixel624', 'pixel625', 'pixel626', 'pixel627', 'pixel628', 'pixel629', 'pixel630', 'pixel631', 'pixel632', 'pixel633', 'pixel634', 'pixel635', 'pixel636', 'pixel637', 'pixel638', 'pixel639', 'pixel640', 'pixel641', 'pixel642', 'pixel643', 'pixel644', 'pixel645', 'pixel646', 'pixel647', 'pixel648', 'pixel649', 'pixel650', 'pixel651', 'pixel652', 'pixel653', 'pixel654', 'pixel655', 'pixel656', 'pixel657', 'pixel658', 'pixel659', 'pixel660', 'pixel661', 'pixel662', 'pixel663', 'pixel664', 'pixel665', 'pixel666', 'pixel667', 'pixel668', 'pixel669', 'pixel670', 'pixel671', 'pixel672', 'pixel673', 'pixel674', 'pixel675', 'pixel676', 'pixel677', 'pixel678', 'pixel679', 'pixel680', 'pixel681', 'pixel682', 'pixel683', 'pixel684', 'pixel685', 'pixel686', 'pixel687', 'pixel688', 'pixel689', 'pixel690', 'pixel691', 'pixel692', 'pixel693', 'pixel694', 'pixel695', 'pixel696', 'pixel697', 'pixel698', 'pixel699', 'pixel700', 'pixel701', 'pixel702', 'pixel703', 'pixel704', 'pixel705', 'pixel706', 'pixel707', 'pixel708', 'pixel709', 'pixel710', 'pixel711', 'pixel712', 'pixel713', 'pixel714', 'pixel715', 'pixel716', 'pixel717', 'pixel718', 'pixel719', 'pixel720', 'pixel721', 'pixel722', 'pixel723', 'pixel724', 'pixel725', 'pixel726', 'pixel727', 'pixel728', 'pixel729', 'pixel730', 'pixel731', 'pixel732', 'pixel733', 'pixel734', 'pixel735', 'pixel736', 'pixel737', 'pixel738', 'pixel739', 'pixel740', 'pixel741', 'pixel742', 'pixel743', 'pixel744', 'pixel745', 'pixel746', 'pixel747', 'pixel748', 'pixel749', 'pixel750', 'pixel751', 'pixel752', 'pixel753', 'pixel754', 'pixel755', 'pixel756', 'pixel757', 'pixel758', 'pixel759', 'pixel760', 'pixel761', 'pixel762', 'pixel763', 'pixel764', 'pixel765', 'pixel766', 'pixel767', 'pixel768', 'pixel769', 'pixel770', 'pixel771', 'pixel772', 'pixel773', 'pixel774', 'pixel775', 'pixel776', 'pixel777', 'pixel778', 'pixel779', 'pixel780', 'pixel781', 'pixel782', 'pixel783', 'pixel784'], 'target_names': ['class'], 'DESCR': \"**Author**: Yann LeCun, Corinna Cortes, Christopher J.C. Burges  \\n**Source**: [MNIST Website](http://yann.lecun.com/exdb/mnist/) - Date unknown  \\n**Please cite**:  \\n\\nThe MNIST database of handwritten digits with 784 features, raw data available at: http://yann.lecun.com/exdb/mnist/. It can be split in a training set of the first 60,000 examples, and a test set of 10,000 examples  \\n\\nIt is a subset of a larger set available from NIST. The digits have been size-normalized and centered in a fixed-size image. It is a good database for people who want to try learning techniques and pattern recognition methods on real-world data while spending minimal efforts on preprocessing and formatting. The original black and white (bilevel) images from NIST were size normalized to fit in a 20x20 pixel box while preserving their aspect ratio. The resulting images contain grey levels as a result of the anti-aliasing technique used by the normalization algorithm. the images were centered in a 28x28 image by computing the center of mass of the pixels, and translating the image so as to position this point at the center of the 28x28 field.  \\n\\nWith some classification methods (particularly template-based methods, such as SVM and K-nearest neighbors), the error rate improves when the digits are centered by bounding box rather than center of mass. If you do this kind of pre-processing, you should report it in your publications. The MNIST database was constructed from NIST's NIST originally designated SD-3 as their training set and SD-1 as their test set. However, SD-3 is much cleaner and easier to recognize than SD-1. The reason for this can be found on the fact that SD-3 was collected among Census Bureau employees, while SD-1 was collected among high-school students. Drawing sensible conclusions from learning experiments requires that the result be independent of the choice of training set and test among the complete set of samples. Therefore it was necessary to build a new database by mixing NIST's datasets.  \\n\\nThe MNIST training set is composed of 30,000 patterns from SD-3 and 30,000 patterns from SD-1. Our test set was composed of 5,000 patterns from SD-3 and 5,000 patterns from SD-1. The 60,000 pattern training set contained examples from approximately 250 writers. We made sure that the sets of writers of the training set and test set were disjoint. SD-1 contains 58,527 digit images written by 500 different writers. In contrast to SD-3, where blocks of data from each writer appeared in sequence, the data in SD-1 is scrambled. Writer identities for SD-1 is available and we used this information to unscramble the writers. We then split SD-1 in two: characters written by the first 250 writers went into our new training set. The remaining 250 writers were placed in our test set. Thus we had two sets with nearly 30,000 examples each. The new training set was completed with enough examples from SD-3, starting at pattern # 0, to make a full set of 60,000 training patterns. Similarly, the new test set was completed with SD-3 examples starting at pattern # 35,000 to make a full set with 60,000 test patterns. Only a subset of 10,000 test images (5,000 from SD-1 and 5,000 from SD-3) is available on this site. The full 60,000 sample training set is available.\\n\\nDownloaded from openml.org.\", 'details': {'id': '554', 'name': 'mnist_784', 'version': '1', 'description_version': '1', 'format': 'ARFF', 'creator': ['Yann LeCun', 'Corinna Cortes', 'Christopher J.C. Burges'], 'upload_date': '2014-09-29T03:28:38', 'language': 'English', 'licence': 'Public', 'url': 'https://api.openml.org/data/v1/download/52667/mnist_784.arff', 'parquet_url': 'http://openml1.win.tue.nl/dataset554/dataset_554.pq', 'file_id': '52667', 'default_target_attribute': 'class', 'tag': ['AzurePilot', 'OpenML-CC18', 'OpenML100', 'study_1', 'study_123', 'study_41', 'study_99', 'vision'], 'visibility': 'public', 'minio_url': 'http://openml1.win.tue.nl/dataset554/dataset_554.pq', 'status': 'active', 'processing_date': '2020-11-20 20:12:09', 'md5_checksum': '0298d579eb1b86163de7723944c7e495'}, 'url': 'https://www.openml.org/d/554'}\n"
          ]
        }
      ],
      "source": [
        "from sklearn.datasets import fetch_openml\n",
        "mnist = fetch_openml('mnist_784', version=1, as_frame=False)\n",
        "print(mnist.keys())\n",
        "X, y = mnist[\"data\"], mnist[\"target\"]\n",
        "print(mnist.head())"
      ]
    },
    {
      "cell_type": "code",
      "execution_count": 6,
      "metadata": {},
      "outputs": [
        {
          "name": "stdout",
          "output_type": "stream",
          "text": [
            "Accuracy: 0.97\n",
            "Accuracy scores: [0.96508929 0.96580357 0.95366071 0.94866071 0.86616071]\n",
            "Average accuracy: 0.94\n"
          ]
        }
      ],
      "source": [
        "#Simplificar el problema al detectar un dijito, primero seteo el test y el train\n",
        "from sklearn.model_selection import cross_val_score, train_test_split\n",
        "from sklearn.pipeline import Pipeline\n",
        "from sklearn.preprocessing import StandardScaler\n",
        "from sklearn.linear_model import SGDClassifier\n",
        "from sklearn.metrics import accuracy_score\n",
        "import numpy as np\n",
        "# Convertir las etiquetas a números enteros\n",
        "y = y.astype(np.uint8)\n",
        "\n",
        "# Dividir el dataset en conjuntos de entrenamiento y prueba\n",
        "X_train, X_test, y_train, y_test = train_test_split(X, y, test_size=0.2, random_state=42)\n",
        "\n",
        "# Crear un clasificador binario para detectar el número 5\n",
        "y_train_5 = (y_train == 5)\n",
        "y_test_5 = (y_test == 5)\n",
        "\n",
        "# Crear el pipeline\n",
        "pipeline = Pipeline([\n",
        "    ('scaler', StandardScaler()),\n",
        "    ('classifier', SGDClassifier(random_state=42))\n",
        "])\n",
        "\n",
        "# Entrenar el pipeline\n",
        "pipeline.fit(X_train, y_train_5)\n",
        "\n",
        "# Realizar predicciones en el conjunto de prueba\n",
        "y_test_pred = pipeline.predict(X_test)\n",
        "\n",
        "# Calcular la precisión o accuracy del modelo, (mas rapido), \n",
        "accuracy = accuracy_score(y_test_5, y_test_pred)\n",
        "print(f'Accuracy: {accuracy:.2f}')\n",
        "\n",
        "\n",
        "\n",
        "#Medir la accuracy con validacion cruzada (mas lento)\n",
        "sgd_clf=SGDClassifier(random_state=42)\n",
        "# Calcular la precisión utilizando validación cruzada\n",
        "accuracy_scores = cross_val_score(sgd_clf, X_train, y_train_5, cv=5, scoring='accuracy')\n",
        "\n",
        "# Mostrar la precisión en cada iteración y la precisión promedio\n",
        "print(f'Accuracy scores: {accuracy_scores}')\n",
        "print(f'Average accuracy: {accuracy_scores.mean():.2f}')"
      ]
    },
    {
      "cell_type": "code",
      "execution_count": 15,
      "metadata": {},
      "outputs": [
        {
          "name": "stdout",
          "output_type": "stream",
          "text": [
            "Acurracy with cross_value:  [0.91 0.91 0.91 0.91 0.91]\n",
            "Accuracy with division de entrnameinto y prueba: 0.9090714285714285\n"
          ]
        }
      ],
      "source": [
        "#medir accuracy con dummy clasifier\n",
        "from sklearn.dummy import DummyClassifier\n",
        "import time\n",
        "\n",
        "\n",
        "MostFrecuent_5_clf=DummyClassifier(strategy=\"most_frequent\")\n",
        "\n",
        "\n",
        "\n",
        "accuracy_cross_value=cross_val_score(MostFrecuent_5_clf,X_train,y_train_5,cv=5,scoring=\"accuracy\")\n",
        "#determinar apartir del cross value cual es la precision\n",
        "print(\"Acurracy with cross_value: \", accuracy_cross_value)\n",
        "#determinar apartir del division de entrenamiento y prueba cual es la precision\n",
        "accuracy_divide_test=accuracy_score(y_test_5,MostFrecuent_5_clf.fit(X_train,y_train_5).predict(X_test))\n",
        "print(\"Accuracy with division de entrnameinto y prueba:\" ,accuracy_divide_test)\n",
        "\n",
        "\n",
        "\n",
        "\n"
      ]
    },
    {
      "cell_type": "code",
      "execution_count": 21,
      "metadata": {},
      "outputs": [
        {
          "name": "stdout",
          "output_type": "stream",
          "text": [
            "0.9393582257459688\n",
            "0.9579471795146515\n",
            "0.907103825136612\n"
          ]
        }
      ],
      "source": [
        "#implementacion de la validacion cruzada sin cross  val score\n",
        "\n",
        "from sklearn.model_selection import StratifiedKFold\n",
        "from sklearn.base import clone\n",
        "\n",
        "#validacion cruzada estratidicada, 3 subconjuntos y 42 como semilla para \n",
        "#que los resultados sean reproducibles\n",
        "skfolds=StratifiedKFold(n_splits=3,random_state=42,shuffle=True)\n",
        "\n",
        "#itero sobre los subconjuntos de entrenamiento y prueba\n",
        "for train_index,test_index in skfolds.split(X_train,y_train_5):\n",
        "    #copia del clasificador, para que no se modifique el original, y se pueda usar en cada iteracion\n",
        "    clone_clf=clone(sgd_clf)\n",
        "    #creo los conjuntos de entrenamiento y prueba para cada iteracion\n",
        "    #con los indices de los subconjuntos sobre el conjunto de entrenamiento\n",
        "    X_train_folds=X_train[train_index]\n",
        "    y_train_folds=(y_train_5[train_index])\n",
        "    X_test_fold=X_train[test_index]\n",
        "    y_test_fold=(y_train_5[test_index])\n",
        "    \n",
        "    #ajusto el clasificador clonado con el conjunto de entrenamiento actual\n",
        "    clone_clf.fit(X_train_folds,y_train_folds)\n",
        "    #realizo predicciones con el conjunto de prueba actual\n",
        "    y_pred=clone_clf.predict(X_test_fold)\n",
        "    #calculo la precision del clasificador, comparando las predicciones con las etiquetas reales\n",
        "    n_correct=sum(y_pred==y_test_fold)\n",
        "    \n",
        "    print(n_correct/len(y_pred))\n",
        "\n"
      ]
    },
    {
      "cell_type": "code",
      "execution_count": 19,
      "metadata": {},
      "outputs": [
        {
          "name": "stdout",
          "output_type": "stream",
          "text": [
            "Accuracy scores: [0.9393582257459688, 0.9579471795146515, 0.907103825136612]\n",
            "Average accuracy: 0.93\n"
          ]
        }
      ],
      "source": [
        "#Otra alternativa de implementacion de la validacion cruzada sin cross val score\n",
        "# Crear el objeto StratifiedKFold\n",
        "skfolds = StratifiedKFold(n_splits=3, random_state=42,shuffle=True)\n",
        "\n",
        "# Crear el clasificador\n",
        "sgd_clf = SGDClassifier(random_state=42)\n",
        "\n",
        "# Crear una lista para almacenar las puntuaciones de precisión\n",
        "accuracy_scores = []\n",
        "\n",
        "# Realizar la validación cruzada estratificada manualmente\n",
        "for train_index, test_index in skfolds.split(X_train, y_train_5):\n",
        "    # Crear conjuntos de entrenamiento y prueba para la iteración actual\n",
        "    X_train_fold = X_train[train_index]\n",
        "    y_train_fold = y_train_5[train_index]\n",
        "    X_test_fold = X_train[test_index]\n",
        "    y_test_fold = y_train_5[test_index]\n",
        "\n",
        "    # Entrenar el clasificador en el conjunto de entrenamiento actual\n",
        "    sgd_clf.fit(X_train_fold, y_train_fold)\n",
        "\n",
        "    # Realizar predicciones en el conjunto de prueba actual\n",
        "    y_test_fold_pred = sgd_clf.predict(X_test_fold)\n",
        "\n",
        "    # Calcular la precisión en el conjunto de prueba actual\n",
        "    accuracy = accuracy_score(y_test_fold, y_test_fold_pred)\n",
        "\n",
        "    # Almacenar la precisión en la lista de puntuaciones\n",
        "    accuracy_scores.append(accuracy)\n",
        "\n",
        "# Calcular la precisión promedio\n",
        "average_accuracy = sum(accuracy_scores) / len(accuracy_scores)\n",
        "print(f'Accuracy scores: {accuracy_scores}')\n",
        "print(f'Average accuracy: {average_accuracy:.2f}')"
      ]
    },
    {
      "cell_type": "code",
      "execution_count": 22,
      "metadata": {},
      "outputs": [
        {
          "data": {
            "text/plain": [
              "array([[50287,   673],\n",
              "       [ 1180,  3860]])"
            ]
          },
          "execution_count": 22,
          "metadata": {},
          "output_type": "execute_result"
        }
      ],
      "source": [
        "#implementar la matriz de confusion en codigo\n",
        "from sklearn.model_selection import cross_val_predict\n",
        "from sklearn.metrics import confusion_matrix\n",
        "\n",
        "y_train_pred=cross_val_predict(sgd_clf,X_train,y_train_5,cv=3)\n",
        "#Defino la matriz de confusion, pasandole como parametros las etiquetas reales \n",
        "# y las predichas\n",
        "confusion_matrix(y_train_5,y_train_pred)\n",
        "\n"
      ]
    },
    {
      "cell_type": "code",
      "execution_count": 25,
      "metadata": {},
      "outputs": [
        {
          "name": "stdout",
          "output_type": "stream",
          "text": [
            "Precision:  0.8515332009706597\n",
            "Recall:  0.7658730158730159\n"
          ]
        }
      ],
      "source": [
        "# implementar Precision y recall en codigo\n",
        "from sklearn.metrics import precision_score, recall_score\n",
        "\n",
        "#calculo la precision\n",
        "print(\"Precision: \",precision_score(y_train_5,y_train_pred))\n",
        "\n",
        "#calculo el recall\n",
        "print(\"Recall: \",recall_score(y_train_5,y_train_pred))"
      ]
    },
    {
      "cell_type": "code",
      "execution_count": 26,
      "metadata": {},
      "outputs": [
        {
          "name": "stdout",
          "output_type": "stream",
          "text": [
            "F1 Score: 0.8064347644416588\n"
          ]
        }
      ],
      "source": [
        "#F1 score\n",
        "from sklearn.metrics import f1_score\n",
        "print(\"F1 Score:\", f1_score(y_train_5,y_train_pred))"
      ]
    },
    {
      "cell_type": "code",
      "execution_count": 27,
      "metadata": {},
      "outputs": [
        {
          "data": {
            "image/png": "[encoded data removed]",
            "text/plain": [
              "<Figure size 432x288 with 1 Axes>"
            ]
          },
          "metadata": {
            "needs_background": "light"
          },
          "output_type": "display_data"
        }
      ],
      "source": [
        "#precision/recall trade off curve\n",
        "import matplotlib.pyplot as plt\n",
        "from sklearn.model_selection import train_test_split\n",
        "from sklearn.preprocessing import StandardScaler\n",
        "from sklearn.linear_model import SGDClassifier\n",
        "from sklearn.metrics import precision_recall_curve, f1_score, auc\n",
        "\n",
        "# Escalar los datos para que tengan media 0 y varianza 1\n",
        "scaler = StandardScaler()\n",
        "X_train_scaled = scaler.fit_transform(X_train.astype(np.float64))\n",
        "\n",
        "# Entrenar el clasificador SGD con el conjunto de entrenamiento escalado\n",
        "sgd_clf = SGDClassifier(random_state=42)\n",
        "sgd_clf.fit(X_train_scaled, y_train_5)\n",
        "\n",
        "# Obtener las puntuaciones de decisión del clasificador en lugar de las predicciones\n",
        "y_scores = sgd_clf.decision_function(X_train_scaled)\n",
        "\n",
        "# Calcular la precisión, sensibilidad (recall) y umbrales para la curva de Precisión-Recall\n",
        "precisions, recalls, thresholds = precision_recall_curve(y_train_5, y_scores)\n",
        "\n",
        "# Crear un gráfico para visualizar la curva de Precisión-Recall\n",
        "plt.plot(thresholds, precisions[:-1], \"b--\", label=\"Precision\")  # Trazar la precisión en función del umbral\n",
        "plt.plot(thresholds, recalls[:-1], \"g-\", label=\"Recall\")  # Trazar la sensibilidad (recall) en función del umbral\n",
        "plt.xlabel(\"Threshold\")  # Etiqueta del eje x\n",
        "plt.legend(loc=\"center left\")  # Posición de la leyenda en el gráfico\n",
        "plt.ylim([0, 1])  # Límites del eje y\n",
        "plt.title(\"Precision-Recall Curve\")  # Título del gráfico\n",
        "plt.show()  # Mostrar el gráfico\n"
      ]
    },
    {
      "cell_type": "code",
      "execution_count": 29,
      "metadata": {},
      "outputs": [
        {
          "data": {
            "text/plain": [
              "<function matplotlib.pyplot.show(close=None, block=None)>"
            ]
          },
          "execution_count": 29,
          "metadata": {},
          "output_type": "execute_result"
        },
        {
          "data": {
            "image/png": "[encoded data removed]",
            "text/plain": [
              "<Figure size 432x288 with 1 Axes>"
            ]
          },
          "metadata": {
            "needs_background": "light"
          },
          "output_type": "display_data"
        }
      ],
      "source": [
        "#curva roc\n",
        "# Importar la función roc_curve de sklearn.metrics\n",
        "from sklearn.metrics import roc_curve\n",
        "\n",
        "# Calcular la tasa de falsos positivos (fpr), tasa de verdaderos positivos (tpr) y umbrales para la curva ROC\n",
        "fpr, tpr, thresholds = roc_curve(y_train_5, y_scores)\n",
        "\n",
        "# Definir una función para graficar la curva ROC\n",
        "def plot_roc_curve(fpr, tpr, label=None):\n",
        "    plt.plot(fpr, tpr, linewidth=2, label=label)  # Graficar la curva ROC\n",
        "    plt.plot([0, 1], [0, 1], 'k--')  # Graficar la línea diagonal que representa un clasificador aleatorio\n",
        "    plt.axis([0, 1, 0, 1])  # Configurar los límites de los ejes x e y\n",
        "    plt.xlabel('False Positive Rate')  # Etiqueta del eje x\n",
        "    plt.ylabel('True Positive Rate')  # Etiqueta del eje y\n",
        "\n",
        "# Graficar la curva ROC utilizando la función definida\n",
        "plot_roc_curve(fpr, tpr)\n",
        "plt.show()"
      ]
    },
    {
      "cell_type": "code",
      "execution_count": 30,
      "metadata": {},
      "outputs": [
        {
          "data": {
            "image/png": "[encoded data removed]",
            "text/plain": [
              "<Figure size 432x288 with 1 Axes>"
            ]
          },
          "metadata": {
            "needs_background": "light"
          },
          "output_type": "display_data"
        }
      ],
      "source": [
        "#comparar modelos con curva roc\n",
        "from sklearn.ensemble import RandomForestClassifier\n",
        "\n",
        "# Crear el clasificador RandomForestClassifier\n",
        "forest_clf = RandomForestClassifier(random_state=42)\n",
        "\n",
        "# Obtener las probabilidades de la clase positiva mediante validación cruzada\n",
        "y_probas_forest = cross_val_predict(forest_clf, X_train, y_train_5, cv=3, method=\"predict_proba\")\n",
        "\n",
        "# Seleccionar sólo la probabilidad de la clase positiva\n",
        "y_scores_forest = y_probas_forest[:, 1]\n",
        "\n",
        "# Calcular la curva ROC\n",
        "fpr_forest, tpr_forest, thresholds_forest = roc_curve(y_train_5, y_scores_forest)\n",
        "\n",
        "# Graficar la curva ROC para compararla con la del modelo SGDClassifier\n",
        "plt.plot(fpr, tpr, \"b:\", label=\"SGD\")\n",
        "plot_roc_curve(fpr_forest, tpr_forest, \"Random Forest\")\n",
        "plt.legend(loc=\"lower right\")\n",
        "plt.show()"
      ]
    },
    {
      "cell_type": "code",
      "execution_count": 35,
      "metadata": {},
      "outputs": [
        {
          "data": {
            "text/plain": [
              "array([7, 2, 0, ..., 2, 7, 1])"
            ]
          },
          "execution_count": 35,
          "metadata": {},
          "output_type": "execute_result"
        }
      ],
      "source": [
        "#multiclase clasificacion con OneVsOneClassifier\n",
        "from sklearn.multiclass import OneVsOneClassifier\n",
        "ovr_clf=OneVsOneClassifier(SGDClassifier(random_state=42))\n",
        "ovr_clf.fit(X_train,y_train)\n",
        "\n",
        "#caso de multiclase con sdgcclassifier, no necesitamos las funciones anteriores\n",
        "#ya que el clasificador lo hace por defecto\n",
        "sgd_clf.fit(X_train,y_train)\n",
        "cross_val_predict(sgd_clf,X_train,y_train,cv=3)"
      ]
    },
    {
      "cell_type": "code",
      "execution_count": 33,
      "metadata": {},
      "outputs": [
        {
          "name": "stdout",
          "output_type": "stream",
          "text": [
            "Accuracy: 0.97\n"
          ]
        }
      ],
      "source": [
        "#otra forma \n",
        "from sklearn.datasets import load_digits\n",
        "from sklearn.model_selection import train_test_split\n",
        "from sklearn.preprocessing import StandardScaler\n",
        "from sklearn.linear_model import SGDClassifier\n",
        "from sklearn.multiclass import OneVsOneClassifier\n",
        "from sklearn.metrics import accuracy_score\n",
        "\n",
        "# Cargar el dataset\n",
        "digits = load_digits()\n",
        "\n",
        "# Dividir en conjunto de entrenamiento y prueba\n",
        "X_train, X_test, y_train, y_test = train_test_split(digits.data, digits.target, random_state=42)\n",
        "\n",
        "# Escalar los datos\n",
        "scaler = StandardScaler()\n",
        "X_train_scaled = scaler.fit_transform(X_train)\n",
        "X_test_scaled = scaler.transform(X_test)\n",
        "\n",
        "# Entrenar el clasificador multiclase utilizando la estrategia OneVsOne\n",
        "sgd_clf = SGDClassifier(random_state=42)\n",
        "ovo_clf = OneVsOneClassifier(sgd_clf)\n",
        "ovo_clf.fit(X_train_scaled, y_train)\n",
        "\n",
        "# Realizar predicciones en el conjunto de prueba\n",
        "y_pred = ovo_clf.predict(X_test_scaled)\n",
        "\n",
        "# Calcular la precisión del modelo\n",
        "accuracy = accuracy_score(y_test, y_pred)\n",
        "print(f'Accuracy: {accuracy:.2f}')"
      ]
    },
    {
      "cell_type": "code",
      "execution_count": 37,
      "metadata": {},
      "outputs": [
        {
          "data": {
            "text/plain": [
              "array([[132,   0,   0,   0,   0,   1,   0,   0,   2,   0],\n",
              "       [  0, 127,   0,   2,   0,   0,   2,   1,   9,   4],\n",
              "       [  0,   0, 137,   2,   0,   0,   0,   0,   0,   0],\n",
              "       [  0,   0,   0, 125,   0,   0,   0,   4,   5,   3],\n",
              "       [  0,   2,   0,   0, 118,   0,   1,   1,   1,   3],\n",
              "       [  0,   0,   0,   1,   0, 114,   1,   2,   1,   4],\n",
              "       [  0,   1,   0,   0,   1,   1, 130,   0,   3,   0],\n",
              "       [  0,   1,   0,   1,   1,   0,   0, 133,   1,   1],\n",
              "       [  0,   7,   1,   1,   0,   1,   2,   1, 119,   4],\n",
              "       [  0,   1,   0,   4,   0,   2,   0,   4,   5, 116]])"
            ]
          },
          "execution_count": 37,
          "metadata": {},
          "output_type": "execute_result"
        }
      ],
      "source": [
        "#analisis del error\n",
        "y_train_pred=cross_val_predict(sgd_clf,X_train,y_train,cv=3)\n",
        "conf_mx=confusion_matrix(y_train,y_train_pred)\n",
        "conf_mx"
      ]
    },
    {
      "cell_type": "code",
      "execution_count": 38,
      "metadata": {},
      "outputs": [
        {
          "name": "stdout",
          "output_type": "stream",
          "text": [
            "Confusion matrix:\n",
            "[[42  0  0  0  0  1  0  0  0  0]\n",
            " [ 0 36  0  0  1  0  0  0  0  0]\n",
            " [ 0  0 37  0  0  0  0  0  1  0]\n",
            " [ 0  0  0 45  0  1  0  0  0  0]\n",
            " [ 0  0  0  0 55  0  0  0  0  0]\n",
            " [ 0  0  0  0  1 56  1  0  0  1]\n",
            " [ 0  0  0  0  1  0 44  0  0  0]\n",
            " [ 0  0  1  0  0  0  0 39  0  1]\n",
            " [ 0  1  0  0  0  0  0  0 37  0]\n",
            " [ 0  0  0  0  0  1  0  0  2 45]]\n"
          ]
        },
        {
          "data": {
            "image/png": "[encoded data removed]",
            "text/plain": [
              "<Figure size 288x288 with 1 Axes>"
            ]
          },
          "metadata": {
            "needs_background": "light"
          },
          "output_type": "display_data"
        },
        {
          "data": {
            "image/png": "[encoded data removed]",
            "text/plain": [
              "<Figure size 288x288 with 1 Axes>"
            ]
          },
          "metadata": {
            "needs_background": "light"
          },
          "output_type": "display_data"
        }
      ],
      "source": [
        "#analisis del error con graficos\n",
        "from sklearn.metrics import confusion_matrix\n",
        "import matplotlib.pyplot as plt\n",
        "import numpy as np\n",
        "\n",
        "# Obtener la matriz de confusión\n",
        "conf_mx = confusion_matrix(y_test, y_pred)\n",
        "print(f'Confusion matrix:\\n{conf_mx}')\n",
        "\n",
        "# Mostrar la matriz de confusión como una imagen\n",
        "plt.matshow(conf_mx, cmap=plt.cm.gray)\n",
        "plt.show()\n",
        "\n",
        "# Calcular la tasa de error por clase\n",
        "# Calcular la suma de las filas de la matriz de confusión y mantener las dimensiones\n",
        "row_sums = conf_mx.sum(axis=1, keepdims=True)\n",
        "\n",
        "# Dividir cada elemento de la matriz de confusión por la suma de su fila\n",
        "norm_conf_mx = conf_mx / row_sums\n",
        "\n",
        "# Rellenar la diagonal con ceros para que no se muestre en el gráfico\n",
        "np.fill_diagonal(norm_conf_mx, 0)\n",
        "\n",
        "# Mostrar la matriz normalizada como una imagen en escala de grises\n",
        "plt.matshow(norm_conf_mx, cmap=plt.cm.gray)\n",
        "plt.show()\n"
      ]
    },
    {
      "cell_type": "code",
      "execution_count": 41,
      "metadata": {},
      "outputs": [
        {
          "name": "stderr",
          "output_type": "stream",
          "text": [
            "/home/juan-pablo/.local/lib/python3.8/site-packages/sklearn/datasets/_openml.py:968: FutureWarning: The default value of `parser` will change from `'liac-arff'` to `'auto'` in 1.4. You can set `parser='auto'` to silence this warning. Therefore, an `ImportError` will be raised from 1.4 if the dataset is dense and pandas is not installed. Note that the pandas parser may return different data types. See the Notes Section in fetch_openml's API doc for details.\n",
            "  warn(\n",
            "/home/juan-pablo/.local/lib/python3.8/site-packages/sklearn/linear_model/_logistic.py:458: ConvergenceWarning: lbfgs failed to converge (status=1):\n",
            "STOP: TOTAL NO. of ITERATIONS REACHED LIMIT.\n",
            "\n",
            "Increase the number of iterations (max_iter) or scale the data as shown in:\n",
            "    https://scikit-learn.org/stable/modules/preprocessing.html\n",
            "Please also refer to the documentation for alternative solver options:\n",
            "    https://scikit-learn.org/stable/modules/linear_model.html#logistic-regression\n",
            "  n_iter_i = _check_optimize_result(\n"
          ]
        },
        {
          "data": {
            "image/png": "[encoded data removed]",
            "text/plain": [
              "<Figure size 288x288 with 1 Axes>"
            ]
          },
          "metadata": {
            "needs_background": "light"
          },
          "output_type": "display_data"
        }
      ],
      "source": [
        "# Importar librerías necesarias\n",
        "from sklearn.datasets import fetch_openml\n",
        "from sklearn.linear_model import LogisticRegression\n",
        "from sklearn.model_selection import train_test_split\n",
        "from sklearn.metrics import confusion_matrix\n",
        "import matplotlib.pyplot as plt\n",
        "\n",
        "# Cargar el conjunto de datos MNIST\n",
        "mnist = fetch_openml('mnist_784')\n",
        "\n",
        "# Obtener las características (imágenes) y las etiquetas\n",
        "X = mnist.data\n",
        "y = mnist.target\n",
        "\n",
        "# Dividir el conjunto de datos en conjuntos de entrenamiento y prueba\n",
        "X_train, X_test, y_train, y_test = train_test_split(X, y, test_size=0.2, random_state=42)\n",
        "\n",
        "# Crear el clasificador de Regresión Logística\n",
        "log_reg = LogisticRegression(multi_class='multinomial', solver='lbfgs', max_iter=1000, random_state=42)\n",
        "\n",
        "# Entrenar el clasificador en el conjunto de entrenamiento\n",
        "log_reg.fit(X_train, y_train)\n",
        "\n",
        "# Realizar predicciones en el conjunto de prueba\n",
        "y_test_pred = log_reg.predict(X_test)\n",
        "\n",
        "# Calcular la matriz de confusión\n",
        "conf_mx = confusion_matrix(y_test, y_test_pred)\n",
        "\n",
        "# Normalizar la matriz de confusión para poder comparar las proporciones de errores\n",
        "row_sums = conf_mx.sum(axis=1, keepdims=True)\n",
        "norm_conf_mx = conf_mx / row_sums\n",
        "np.fill_diagonal(norm_conf_mx, 0)\n",
        "\n",
        "# Mostrar la matriz de confusión como una imagen\n",
        "plt.matshow(norm_conf_mx, cmap=plt.cm.gray)\n",
        "plt.show()\n"
      ]
    },
    {
      "attachments": {},
      "cell_type": "markdown",
      "metadata": {},
      "source": [
        "## Script Integrador del paso a paso de estudio de clasificacion que vimos"
      ]
    },
    {
      "cell_type": "code",
      "execution_count": 43,
      "metadata": {},
      "outputs": [
        {
          "name": "stderr",
          "output_type": "stream",
          "text": [
            "/home/juan-pablo/.local/lib/python3.8/site-packages/sklearn/datasets/_openml.py:968: FutureWarning: The default value of `parser` will change from `'liac-arff'` to `'auto'` in 1.4. You can set `parser='auto'` to silence this warning. Therefore, an `ImportError` will be raised from 1.4 if the dataset is dense and pandas is not installed. Note that the pandas parser may return different data types. See the Notes Section in fetch_openml's API doc for details.\n",
            "  warn(\n"
          ]
        },
        {
          "name": "stdout",
          "output_type": "stream",
          "text": [
            "Accuracy:  0.9697142857142858\n"
          ]
        }
      ],
      "source": [
        "# Importar librerías necesarias\n",
        "import numpy as np\n",
        "import matplotlib.pyplot as plt\n",
        "from sklearn.datasets import fetch_openml\n",
        "from sklearn.model_selection import train_test_split\n",
        "from sklearn.pipeline import Pipeline\n",
        "from sklearn.preprocessing import StandardScaler\n",
        "from sklearn.linear_model import SGDClassifier\n",
        "from sklearn.metrics import confusion_matrix, precision_score, recall_score, f1_score, precision_recall_curve, roc_curve, roc_auc_score\n",
        "\n",
        "# Cargar el conjunto de datos MNIST\n",
        "mnist = fetch_openml('mnist_784', version=1)\n",
        "\n",
        "# Dividir el conjunto de datos en conjuntos de entrenamiento y prueba\n",
        "X_train, X_test, y_train, y_test = train_test_split(mnist.data, mnist.target, test_size=0.2, random_state=42)\n",
        "\n",
        "# Convertir las etiquetas a valores enteros\n",
        "y_train = y_train.astype(np.int8)\n",
        "y_test = y_test.astype(np.int8)\n",
        "\n",
        "# Crear un clasificador binario para detectar el número 5\n",
        "y_train_5 = (y_train == 5)\n",
        "y_test_5 = (y_test == 5)\n",
        "\n",
        "# Crear un pipeline de preprocesamiento y clasificación\n",
        "pipeline = Pipeline([\n",
        "    ('scaler', StandardScaler()),\n",
        "    ('classifier', SGDClassifier(random_state=42))\n",
        "])\n",
        "\n",
        "# Entrenar el modelo\n",
        "pipeline.fit(X_train, y_train_5)\n",
        "\n",
        "# Realizar predicciones en el conjunto de prueba\n",
        "y_test_pred = pipeline.predict(X_test)\n",
        "\n",
        "#calculo la precision con accuracy_score\n",
        "accuracy=accuracy_score(y_test_5,y_test_pred)\n",
        "print(\"Accuracy: \", accuracy)\n",
        "#calculo con cross_val_score\n",
        "acrossval=cross_val_score(pipeline,X_train,y_train_5,cv=3,scoring=\"accuracy\")\n",
        "print(\"Cross_val_score: \", acrossval)\n",
        "\n",
        "# Calcular las métricas de rendimiento\n",
        "conf_mx = confusion_matrix(y_test_5, y_test_pred)\n",
        "precision = precision_score(y_test_5, y_test_pred)\n",
        "recall = recall_score(y_test_5, y_test_pred)\n",
        "f1 = f1_score(y_test_5, y_test_pred)\n",
        "fpr, tpr, thresholds = roc_curve(y_test_5, pipeline.decision_function(X_test))\n",
        "roc_auc = roc_auc_score(y_test_5, pipeline.decision_function(X_test))\n",
        "\n",
        "# Graficar la matriz de confusión\n",
        "row_sums = conf_mx.sum(axis=1, keepdims=True)\n",
        "norm_conf_mx = conf_mx / row_sums\n",
        "np.fill_diagonal(norm_conf_mx, 0)\n",
        "plt.matshow(norm_conf_mx, cmap=plt.cm.gray)\n",
        "plt.xlabel('Predicted label')\n",
        "plt.ylabel('True label')\n",
        "plt.show()\n",
        "\n",
        "# Graficar la curva de Precisión-Recall\n",
        "y_scores = pipeline.decision_function(X_test)\n",
        "precisions, recalls, thresholds = precision_recall_curve(y_test_5,y_scores)\n",
        "plt.plot(thresholds, precisions[:-1], \"b--\", label=\"Precision\")\n",
        "plt.plot(thresholds, recalls[:-1], \"g-\", label=\"Recall\")\n",
        "plt.xlabel(\"Threshold\")\n",
        "plt.legend(loc=\"center left\")\n",
        "plt.ylim([0, 1])\n",
        "plt.title(\"Precision-Recall Curve\")\n",
        "plt.show()\n",
        "\n",
        "# Graficar la curva ROC\n",
        "plt.plot(fpr, tpr, linewidth=2, label=None)\n",
        "plt.plot([0, 1], [0, 1], 'k--')\n",
        "plt.axis([0, 1, 0, 1])\n",
        "plt.xlabel('False Positive Rate')\n",
        "plt.ylabel('True Positive Rate')\n",
        "plt.title(f'ROC Curve (AUC={roc_auc:.2f})')\n",
        "plt.show()"
      ]
    },
    {
      "cell_type": "markdown",
      "metadata": {
        "id": "-LlOAD58kFOI"
      },
      "source": [
        "2. Luego conteste las siguientes preguntas:\n",
        "- ¿Que es un clasificador Binario?\n",
        "- ¿Por qué un modelo con gran accuracy puede que no ser un buen modelo?\n",
        "- ¿Por qué existe un trade off entre presicion y recall?\n",
        "- ¿F1 es la mejor métrica que se puede utilizar al momento de optimizar un modelo? Justifique.\n",
        "- ¿Para que sirve la curva ROC?\n",
        "3. Utilice el clasificador KNeighborsClassifier y optimice los hiperparámetros utilizando GridSearch. ¿Qué accuracy se alcanza en el test set?"
      ]
    },
    {
      "cell_type": "code",
      "execution_count": null,
      "metadata": {
        "id": "KGcWvggTj9nA"
      },
      "outputs": [],
      "source": []
    }
  ],
  "metadata": {
    "colab": {
      "provenance": []
    },
    "kernelspec": {
      "display_name": "Python 3",
      "name": "python3"
    },
    "language_info": {
      "codemirror_mode": {
        "name": "ipython",
        "version": 3
      },
      "file_extension": ".py",
      "mimetype": "text/x-python",
      "name": "python",
      "nbconvert_exporter": "python",
      "pygments_lexer": "ipython3",
      "version": "3.8.10"
    }
  },
  "nbformat": 4,
  "nbformat_minor": 0
}
