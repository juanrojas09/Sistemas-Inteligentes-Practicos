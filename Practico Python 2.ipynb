{
 "cells": [
  {
   "cell_type": "markdown",
   "id": "f18c19ba",
   "metadata": {},
   "source": [
    "# Ejercicios de la librería Numpy"
   ]
  },
  {
   "cell_type": "markdown",
   "id": "b3d7bf77",
   "metadata": {},
   "source": [
    "0. Importa la librería numpy como np"
   ]
  },
  {
   "cell_type": "code",
   "execution_count": null,
   "id": "1139c094",
   "metadata": {},
   "outputs": [],
   "source": [
    "import numpy as np\n"
   ]
  },
  {
   "cell_type": "markdown",
   "id": "8d9f00fc",
   "metadata": {},
   "source": [
    "1. Crear un arreglo de 10 ceros"
   ]
  },
  {
   "cell_type": "code",
   "execution_count": 1,
   "id": "ce695036",
   "metadata": {},
   "outputs": [
    {
     "name": "stdout",
     "output_type": "stream",
     "text": [
      "[0. 0. 0. 0. 0. 0. 0. 0. 0. 0.]\n"
     ]
    }
   ],
   "source": [
    "import numpy as np\n",
    "arr = np.zeros(10)\n",
    "print(arr)"
   ]
  },
  {
   "cell_type": "markdown",
   "id": "36202490",
   "metadata": {},
   "source": [
    "2. Crear un arreglo de 10 unos"
   ]
  },
  {
   "cell_type": "code",
   "execution_count": 7,
   "id": "cb0fa882",
   "metadata": {},
   "outputs": [
    {
     "name": "stdout",
     "output_type": "stream",
     "text": [
      "[1. 1. 1. 1. 1. 1. 1. 1. 1. 1.]\n",
      "[1 1 1 1 1 1 1 1 1 1]\n"
     ]
    }
   ],
   "source": [
    "import numpy as np\n",
    "arr=np.full(10,1)\n",
    "print(np.ones(10))\n",
    "print(arr)"
   ]
  },
  {
   "cell_type": "markdown",
   "id": "a4702127",
   "metadata": {},
   "source": [
    "3. Crear un arreglo de 10 cincos"
   ]
  },
  {
   "cell_type": "code",
   "execution_count": 8,
   "id": "2b029774",
   "metadata": {},
   "outputs": [
    {
     "name": "stdout",
     "output_type": "stream",
     "text": [
      "[5 5 5 5 5 5 5 5 5 5]\n"
     ]
    }
   ],
   "source": [
    "import numpy as np\n",
    "print(np.full(10,5))"
   ]
  },
  {
   "cell_type": "markdown",
   "id": "4bbcf3e9",
   "metadata": {},
   "source": [
    "4. Crear un arreglo con todos los numeros pares del 10 al 50"
   ]
  },
  {
   "cell_type": "code",
   "execution_count": 11,
   "id": "0d775739",
   "metadata": {},
   "outputs": [
    {
     "name": "stdout",
     "output_type": "stream",
     "text": [
      "[ 0  2  4  6  8 10 12 14 16 18 20 22 24 26 28 30 32 34 36 38 40 42 44 46\n",
      " 48 50]\n"
     ]
    }
   ],
   "source": [
    "import numpy as np\n",
    "print(np.arange(0,51,2))"
   ]
  },
  {
   "cell_type": "markdown",
   "id": "f946f661",
   "metadata": {},
   "source": [
    "5. Crear una matriz 3x3 con valores del 0 al 8"
   ]
  },
  {
   "cell_type": "code",
   "execution_count": 14,
   "id": "39e6d1f8",
   "metadata": {},
   "outputs": [
    {
     "name": "stdout",
     "output_type": "stream",
     "text": [
      "[[0 1 2]\n",
      " [3 4 5]\n",
      " [6 7 8]]\n"
     ]
    }
   ],
   "source": [
    "import numpy as np\n",
    "arr=np.array([[0,1,2],[3,4,5],[6,7,8]])\n",
    "print(arr)"
   ]
  },
  {
   "cell_type": "markdown",
   "id": "193e929c",
   "metadata": {},
   "source": [
    "6. Crear una matriz de identidad de 3x3"
   ]
  },
  {
   "cell_type": "code",
   "execution_count": 15,
   "id": "43dd48cd",
   "metadata": {},
   "outputs": [
    {
     "name": "stdout",
     "output_type": "stream",
     "text": [
      "[[1. 0. 0.]\n",
      " [0. 1. 0.]\n",
      " [0. 0. 1.]]\n"
     ]
    }
   ],
   "source": [
    "import numpy as np\n",
    "print(np.identity(3))"
   ]
  },
  {
   "cell_type": "markdown",
   "id": "f70bb7f5",
   "metadata": {},
   "source": [
    "7. Utilizar numpy para geneara un numero aleatorio entre 0 y 1"
   ]
  },
  {
   "cell_type": "code",
   "execution_count": 24,
   "id": "6c2f453b",
   "metadata": {},
   "outputs": [
    {
     "name": "stdout",
     "output_type": "stream",
     "text": [
      "[0.25805356]\n"
     ]
    }
   ],
   "source": [
    "import numpy as np\n",
    "a=np.random.random(1)\n",
    "print(a)"
   ]
  },
  {
   "cell_type": "markdown",
   "id": "078b2077",
   "metadata": {},
   "source": [
    "8. Utilizar numpy para generar un arreglo de 25 numeros aleatorioas con una distribucion normal"
   ]
  },
  {
   "cell_type": "code",
   "execution_count": 43,
   "id": "a037ec6c",
   "metadata": {},
   "outputs": [
    {
     "name": "stdout",
     "output_type": "stream",
     "text": [
      "[24.43669684 25.22362091 25.29762619 23.63939064 24.25816958 24.67341038\n",
      " 26.17924118 24.56172022 25.98997127 25.81875852 25.59189254 25.11613165\n",
      " 25.34999958 25.10697279 26.69888687 24.34477084 25.58514182 25.36392965\n",
      " 24.71463241 24.21883597 24.35283433 24.3682888  25.47881575 23.80850317\n",
      " 25.04592944]\n"
     ]
    }
   ],
   "source": [
    "import numpy as np\n",
    "arr=np.random.normal(25,1,25)\n",
    "print(arr)"
   ]
  },
  {
   "cell_type": "markdown",
   "id": "d1f52017",
   "metadata": {},
   "source": [
    "9. Crear la siguiente matriz"
   ]
  },
  {
   "cell_type": "code",
   "execution_count": null,
   "id": "392aa2ab",
   "metadata": {},
   "outputs": [],
   "source": []
  },
  {
   "cell_type": "markdown",
   "id": "b0f22aad",
   "metadata": {},
   "source": [
    "10. Crear un arreglo de 20 valores lineales entre 0 y 1"
   ]
  },
  {
   "cell_type": "code",
   "execution_count": 44,
   "id": "6ec57513",
   "metadata": {},
   "outputs": [
    {
     "name": "stdout",
     "output_type": "stream",
     "text": [
      "[0.         0.02040816 0.04081633 0.06122449 0.08163265 0.10204082\n",
      " 0.12244898 0.14285714 0.16326531 0.18367347 0.20408163 0.2244898\n",
      " 0.24489796 0.26530612 0.28571429 0.30612245 0.32653061 0.34693878\n",
      " 0.36734694 0.3877551  0.40816327 0.42857143 0.44897959 0.46938776\n",
      " 0.48979592 0.51020408 0.53061224 0.55102041 0.57142857 0.59183673\n",
      " 0.6122449  0.63265306 0.65306122 0.67346939 0.69387755 0.71428571\n",
      " 0.73469388 0.75510204 0.7755102  0.79591837 0.81632653 0.83673469\n",
      " 0.85714286 0.87755102 0.89795918 0.91836735 0.93877551 0.95918367\n",
      " 0.97959184 1.        ]\n"
     ]
    }
   ],
   "source": [
    "import numpy as np\n",
    "\n",
    "arr=np.linspace(0,1)\n",
    "print(arr)"
   ]
  },
  {
   "cell_type": "markdown",
   "id": "867225d0",
   "metadata": {},
   "source": [
    "### Seleccion e indices de Numpy\n",
    "11. Se te daran varias matrices, se te pide replicar el resultado"
   ]
  },
  {
   "cell_type": "code",
   "execution_count": 45,
   "id": "ed7d3e0e",
   "metadata": {},
   "outputs": [
    {
     "data": {
      "text/plain": [
       "array([[ 1,  2,  3,  4,  5],\n",
       "       [ 6,  7,  8,  9, 10],\n",
       "       [11, 12, 13, 14, 15],\n",
       "       [16, 17, 18, 19, 20],\n",
       "       [21, 22, 23, 24, 25]])"
      ]
     },
     "execution_count": 45,
     "metadata": {},
     "output_type": "execute_result"
    }
   ],
   "source": [
    "import numpy as np\n",
    "mat = np.arange(1,26).reshape(5,5)\n",
    "mat"
   ]
  },
  {
   "cell_type": "raw",
   "id": "e0829c57",
   "metadata": {},
   "source": [
    "# escribe el codigo que permite reproducir el siguiente resultado\n",
    "# se cuidadoso al momento de correr el codigo,\n",
    "# ya que podrias borrar el resultado\n",
    "array([[12, 13, 14, 15],\n",
    "       [17, 18, 19, 20],\n",
    "       [22, 23, 24, 25]])"
   ]
  },
  {
   "cell_type": "code",
   "execution_count": 66,
   "id": "a6037f29",
   "metadata": {},
   "outputs": [
    {
     "name": "stdout",
     "output_type": "stream",
     "text": [
      "[[12 13 14 15]\n",
      " [17 18 19 20]\n",
      " [12 13 14 15]]\n"
     ]
    }
   ],
   "source": [
    "import numpy as np\n",
    "mat1=np.arange(12,16).reshape(1,4)\n",
    "mat2=np.arange(17,21).reshape(1,4)\n",
    "mat3=np.arange(22,26).reshape(1,4)\n",
    "matRes=np.concatenate([mat1,mat2,mat])\n",
    "print(matRes)\n",
    "\n",
    "\n",
    "\n"
   ]
  },
  {
   "cell_type": "raw",
   "id": "914db3ab",
   "metadata": {},
   "source": [
    "# escribe el codigo que permite reproducir el siguiente resultado\n",
    "# se cuidadoso al momento de correr el codigo,\n",
    "# ya que podrias borrar el resultado\n",
    "20"
   ]
  },
  {
   "cell_type": "code",
   "execution_count": 68,
   "id": "1c74fa1b",
   "metadata": {},
   "outputs": [
    {
     "name": "stdout",
     "output_type": "stream",
     "text": [
      "[20]\n"
     ]
    }
   ],
   "source": [
    "import numpy as np\n",
    "mat1=np.arange(12,16).reshape(1,4)\n",
    "mat2=np.arange(17,21).reshape(1,4)\n",
    "mat3=np.arange(22,26).reshape(1,4)\n",
    "matRes=np.concatenate([mat1,mat2,mat])\n",
    "\n",
    "print(matRes[(matRes==20)])\n"
   ]
  },
  {
   "cell_type": "raw",
   "id": "fbd8acb6",
   "metadata": {},
   "source": [
    "# escribe el codigo que permite reproducir el siguiente resultado\n",
    "# se cuidadoso al momento de correr el codigo,\n",
    "# ya que podrias borrar el resultado\n",
    "array([[ 2],\n",
    "       [ 7],\n",
    "       [12]])"
   ]
  },
  {
   "cell_type": "code",
   "execution_count": 92,
   "id": "1c1154d0",
   "metadata": {},
   "outputs": [
    {
     "name": "stdout",
     "output_type": "stream",
     "text": [
      "[[ 2]\n",
      " [ 7]\n",
      " [12]]\n"
     ]
    }
   ],
   "source": [
    "import numpy as np\n",
    "\n",
    "# crear matriz de 3 filas y 1 columna con los valores dados\n",
    "matriz = np.array([[2], [7], [12]])\n",
    "\n",
    "print(matriz)"
   ]
  },
  {
   "cell_type": "raw",
   "id": "7017a1c2",
   "metadata": {},
   "source": [
    "# escribe el codigo que permite reproducir el siguiente resultado\n",
    "# se cuidadoso al momento de correr el codigo,\n",
    "# ya que podrias borrar el resultado\n",
    "array([21, 22, 23, 24, 25])"
   ]
  },
  {
   "cell_type": "code",
   "execution_count": 97,
   "id": "25a165f7",
   "metadata": {},
   "outputs": [
    {
     "name": "stdout",
     "output_type": "stream",
     "text": [
      "[[21 22 23 24 25]]\n"
     ]
    }
   ],
   "source": [
    "import numpy as np\n",
    "arr=np.arange(21,26).reshape(1,5)\n",
    "print(arr)"
   ]
  },
  {
   "cell_type": "raw",
   "id": "900394dd",
   "metadata": {},
   "source": [
    "# escribe el codigo que permite reproducir el siguiente resultado\n",
    "# se cuidadoso al momento de correr el codigo,\n",
    "# ya que podrias borrar el resultado\n",
    "array([[16, 17, 18, 19, 20],\n",
    "       [21, 22, 23, 24, 25]])"
   ]
  },
  {
   "cell_type": "code",
   "execution_count": 99,
   "id": "eb50080e",
   "metadata": {},
   "outputs": [
    {
     "name": "stdout",
     "output_type": "stream",
     "text": [
      "[[16 17 18 19 20]\n",
      " [21 22 23 24 25]]\n"
     ]
    }
   ],
   "source": [
    "import numpy as np\n",
    "arr=np.arange(16,21).reshape(1,5)\n",
    "arr2=np.arange(21,26).reshape(1,5)\n",
    "arrR=np.concatenate([arr,arr2])\n",
    "print(arrR)"
   ]
  },
  {
   "cell_type": "markdown",
   "id": "e1abd9d3",
   "metadata": {},
   "source": [
    "Luego continua con:\n",
    "- Obten la suma de los valores de `mat`\n",
    "- Obten la desviacion estandar de los valores de `mat`\n",
    "- Obten la suma de las columnas de los valores de `mat`"
   ]
  },
  {
   "cell_type": "code",
   "execution_count": 108,
   "id": "66ced130",
   "metadata": {},
   "outputs": [
    {
     "name": "stdout",
     "output_type": "stream",
     "text": [
      "325\n",
      "7.211102550927978\n",
      "[55 60 65 70 75]\n"
     ]
    }
   ],
   "source": [
    "import numpy as np\n",
    "mat = np.arange(1,26).reshape(5,5)\n",
    "sum=np.sum(mat)\n",
    "print(sum)\n",
    "\n",
    "desviacion=np.std(mat)\n",
    "print(desviacion)\n",
    "\n",
    "sumColum=np.sum(mat,axis=0)\n",
    "print(sumColum)"
   ]
  },
  {
   "cell_type": "markdown",
   "id": "27c11759",
   "metadata": {},
   "source": [
    "# Ejercicios de la Librería Pandas\n",
    "\n",
    "1. Escribir un programa que pregunte al usuario por las ventas de un rango de años y muestre por pantalla una serie con los datos de las ventas indexada por los años, antes y después de aplicarles un descuento del 10%."
   ]
  },
  {
   "cell_type": "code",
   "execution_count": 7,
   "id": "89fdc082",
   "metadata": {},
   "outputs": [
    {
     "name": "stdout",
     "output_type": "stream",
     "text": [
      "serie sin descuentos\n",
      "\n",
      "2012    10\n",
      "2013    20\n",
      "2014    30\n",
      "dtype: object\n",
      "serie Con descuentos\n",
      "2012    11.0\n",
      "2013    22.0\n",
      "2014    33.0\n",
      "dtype: float64\n"
     ]
    }
   ],
   "source": [
    "import pandas as pd\n",
    "import numpy as np\n",
    "anioI=input(\"ingrese anio inicial\")\n",
    "anioF=input(\"Ingrese el año fin\")\n",
    "\n",
    "#creo dicts \n",
    "ventas={}\n",
    "ventas2={}\n",
    "for i in range(int(anioI),int(anioF)+1):\n",
    "    ventas[i]=input(\"ingresa las ventas de este anio\")\n",
    "    ventas2[i]=int(ventas[i])*0.10+int(ventas[i])    \n",
    "serieVentas=pd.Series(ventas)\n",
    "serieVentas2=pd.Series(ventas2)\n",
    "print(\"serie sin descuentos\")\n",
    "print(serieVentas)\n",
    "\n",
    "print(\"serie Con descuentos\")\n",
    "print(serieVentas2)"
   ]
  },
  {
   "cell_type": "markdown",
   "id": "23f3348d",
   "metadata": {},
   "source": [
    "2. Escribir una función que reciba un diccionario con las notas de los alumno de un curso y devuelva una serie con la nota mínima, la máxima, media y la desviación típica."
   ]
  },
  {
   "cell_type": "code",
   "execution_count": 23,
   "id": "3b732055",
   "metadata": {},
   "outputs": [
    {
     "name": "stdout",
     "output_type": "stream",
     "text": [
      "Analisis        6\n",
      "Programacion    8\n",
      "Quimica         2\n",
      "dtype: int64\n",
      "serie con la nota minaima\n",
      "2\n",
      "serie con la media\n",
      "5.333333333333333\n",
      "serie con la desviacion tipica\n",
      "3.055050463303893\n",
      "None\n"
     ]
    }
   ],
   "source": [
    "import pandas as pd\n",
    "notas={'Analisis':6,'Programacion':8,'Quimica':2}\n",
    "def Notas(notas):\n",
    "    #serie comun\n",
    "    serieNota=pd.Series(notas)\n",
    "    print(serieNota)\n",
    "    \n",
    "    #serie nota minima\n",
    "    print(\"serie con la nota minaima\")\n",
    "    print(serieNota.min())\n",
    "    #media\n",
    "    print(\"serie con la media\")\n",
    "    print(serieNota.mean())\n",
    "    \n",
    "    #desviacion\n",
    "    print(\"serie con la desviacion tipica\")\n",
    "    print(serieNota.std())\n",
    "print(Notas(notas))"
   ]
  },
  {
   "cell_type": "markdown",
   "id": "b6e22e24",
   "metadata": {},
   "source": [
    "3. Escribir una función que reciba un diccionario con las notas de los alumnos de un curso y devuelva una serie con las notas de los alumnos aprobados ordenadas de mayor a menor."
   ]
  },
  {
   "cell_type": "code",
   "execution_count": 12,
   "id": "3857c547",
   "metadata": {},
   "outputs": [
    {
     "name": "stdout",
     "output_type": "stream",
     "text": [
      "Analisis        6\n",
      "Programacion    8\n",
      "Quimica         2\n",
      "dtype: int64\n",
      "Programacion    8\n",
      "Analisis        6\n",
      "dtype: int64\n",
      "None\n"
     ]
    }
   ],
   "source": [
    "import pandas as pd\n",
    "notas={'Analisis':6,'Programacion':8,'Quimica':2}\n",
    "def Notas(notas):\n",
    "    #serie comun\n",
    "    serieNota=pd.Series(notas)\n",
    "    print(serieNota)\n",
    "    \n",
    "    #serie notas aprobados de menor a mayor\n",
    "    print(serieNota[serieNota>=4].sort_values(ascending=False))\n",
    "    \n",
    "print(Notas(notas))"
   ]
  },
  {
   "cell_type": "markdown",
   "id": "cf644f18",
   "metadata": {},
   "source": [
    "4. Escribir programa que genere y muestre por pantalla un DataFrame con los datos de la tabla siguiente:\n",
    "\n",
    "| Mes | Ventas | Gastos |\n",
    "| --- | --- | --- |\n",
    "| Enero | 30500 | 22000 |\n",
    "| Febrero | 35600 | 23400 |\n",
    "| Marzo | 28300 | 18100 |\n",
    "| Abril | 33900 | 20700 |"
   ]
  },
  {
   "cell_type": "code",
   "execution_count": 14,
   "id": "244204fb",
   "metadata": {},
   "outputs": [
    {
     "name": "stdout",
     "output_type": "stream",
     "text": [
      "       mes  ventas  gastos\n",
      "0    Enero   30500   22000\n",
      "1  Febrero   35600   23400\n",
      "2    Marzo   28300   18100\n",
      "3    Abril   33900   20700\n"
     ]
    }
   ],
   "source": [
    "import pandas as pd\n",
    "datos={'mes':['Enero','Febrero','Marzo','Abril'],\n",
    "        'ventas':[30500,35600,28300,33900],\n",
    "        'gastos':[22000,23400,18100,20700]\n",
    "        \n",
    "        }\n",
    "\n",
    "def data(datos):\n",
    "    #creo el dataframe\n",
    "    df=pd.DataFrame(datos)\n",
    "    print(df)\n",
    "data(datos)    \n"
   ]
  },
  {
   "cell_type": "markdown",
   "id": "1e63cf0e",
   "metadata": {},
   "source": [
    "5. Escribir una función que reciba un DataFrame con el formato del ejercicio anterior, una lista de meses, y devuelva el balance (ventas - gastos) total en los meses indicados."
   ]
  },
  {
   "cell_type": "code",
   "execution_count": 18,
   "id": "57012ea7",
   "metadata": {},
   "outputs": [
    {
     "name": "stdout",
     "output_type": "stream",
     "text": [
      "0     8500\n",
      "1    12200\n",
      "2    10200\n",
      "3    13200\n",
      "dtype: int64\n"
     ]
    }
   ],
   "source": [
    "import pandas as pd\n",
    "datos={'mes':['Enero','Febrero','Marzo','Abril'],\n",
    "        'ventas':[30500,35600,28300,33900],\n",
    "        'gastos':[22000,23400,18100,20700]\n",
    "        \n",
    "        }\n",
    "\n",
    "def data(datos):\n",
    "    #creo el dataframe\n",
    "    df=pd.DataFrame(datos)\n",
    "    balance=df['ventas']-df['gastos']\n",
    "    print(balance)\n",
    "data(datos)  "
   ]
  },
  {
   "cell_type": "markdown",
   "id": "d5ebd5b7",
   "metadata": {},
   "source": [
    "6. El fichero cotizacion.csv contiene las cotizaciones de las empresas del IBEX35 con las siguientes columnas: nombre (nombre de la empresa), Final (precio de la acción al cierre de bolsa), Máximo (precio máximo de la acción durante la jornada), Mínimo (precio mínimo de la acción durante la jornada), volumen (Volumen al cierre de bolsa), Efectivo (capitalización al cierre en miles de euros). Construir una función que construya un DataFrame a partir del un fichero con el formato anterior y devuelva otro DataFrame con el mínimo, el máximo y la media de dada columna."
   ]
  },
  {
   "cell_type": "code",
   "execution_count": 25,
   "id": "e672861e",
   "metadata": {},
   "outputs": [
    {
     "name": "stdout",
     "output_type": "stream",
     "text": [
      "<bound method NDFrame.head of           Nombre       Final      Máximo      Mínimo     Volumen   Efectivo\n",
      "0        ACCIONA     95.9500     96.7500     94.4000      84.962    8166.11\n",
      "1       ACERINOX   8668.0000   8672.0000   8468.0000      885.99    7633.81\n",
      "2            ACS     37.2800     37.6600     37.2200     655.982   24517.29\n",
      "3           AENA    167.1000    167.5000    166.1000     133.738   22336.10\n",
      "4        AMADEUS     69.9600     70.6400     69.5600     640.476   44795.47\n",
      "5    ARCELORMIT.  14152.0000  14318.0000     14.0800     702.841    9989.65\n",
      "6    BA.SABADELL      1.0165   1033.0000      1.0165  12.358.512   12637.65\n",
      "7   BA.SANTANDER      4.0200      4.0675      4.0100  36.129.692  145765.44\n",
      "8         BANKIA   2249.0000   2262.0000   2224.0000   3.024.454    6803.54\n",
      "9      BANKINTER      6.5600   6604.0000   6522.0000   1.375.976    9030.20\n",
      "10          BBVA   5024.0000      5.0500   4969.0000  26.447.612  132560.15\n",
      "11     CAIXABANK   2763.0000   2806.0000   2762.0000  13.031.097   36239.22\n",
      "12       CELLNEX     30.1700     30.7000     30.1700     857.237   25965.29\n",
      "13  CIE AUTOMOT.     23.4400     23.7400     23.4000      99.506    2343.09\n",
      "14        ENAGAS     25.6000     25.6600     25.0700      842.54   21524.77\n",
      "15          ENCE   3882.0000   3974.0000   3846.0000   2.099.698    8219.83\n",
      "16        ENDESA     22.9500     23.0300     22.6200   1.236.799   28233.46\n",
      "17     FERROVIAL     21.6100     21.7200     21.3800   2.065.931   44656.05\n",
      "18  GRIFOLS CL.A     23.3000     23.6000     23.2700     719.503   16787.55\n",
      "19           IAG      5.3000      5.4600   5292.0000   2.155.081   11561.95\n",
      "20     IBERDROLA      8.4500      8.4500   8262.0000  15.637.958  131426.05\n",
      "21       INDITEX     24.9300     25.1900     24.8700   2.600.144   65012.92\n",
      "22       INDRA A      9.5600   9685.0000   9535.0000      392.06    3755.57\n",
      "23  INM.COLONIAL   9915.0000   9915.0000   9745.0000     671.753    6640.38\n",
      "24        MAPFRE   2654.0000   2654.0000      2.6200   3.045.972    8063.13\n",
      "25      MEDIASET   6446.0000   6592.0000   6446.0000   2.647.557   17277.04\n",
      "26  MELIA HOTELS      8.1400      8.1900      8.0200      480.21    3914.93\n",
      "27        MERLIN     12.0800     12.0800     11.8300     777.543    9357.77\n",
      "28       NATURGY     26.7000     26.7700     26.5300   2.100.737   55986.54\n",
      "29        R.E.C.  19705.0000  19875.0000  19675.0000   1.246.171   24585.33\n",
      "30        REPSOL  14515.0000  14605.0000     14.4600   5.046.648   73333.78\n",
      "31  SIEMENS GAME     14.3300     14.3900  14155.0000   1.054.847   15084.56\n",
      "32  TEC.REUNIDAS     23.0000     23.2000     22.7800       122.1    2807.19\n",
      "33    TELEFONICA   7204.0000   7256.0000   7185.0000   9.913.249   71564.99\n",
      "34      VISCOFAN     48.4600     49.1200     48.4600       67.71    3295.43>\n"
     ]
    }
   ],
   "source": [
    "import pandas as pd\n",
    "df=pd.read_csv('/home/juan-pablo/Escritorio/Sist inteligente/assets/cotizacion.csv',sep=';', decimal=',')\n",
    "dataF=pd.DataFrame(df)\n",
    "print(dataF.head)"
   ]
  },
  {
   "cell_type": "markdown",
   "id": "e3c9c052",
   "metadata": {},
   "source": [
    "7. El fichero titanic.csv contiene información sobre los pasajeros del Titanic. Escribir un programa con los siguientes requisitos:\n",
    "\n",
    "    1. Generar un DataFrame con los datos del fichero.\n",
    "    2. Mostrar por pantalla las dimensiones del DataFrame, el número de datos que contiene, los nombres de sus columnas y filas, los tipos de datos de las columnas, las 10 primeras filas y las 10 últimas filas\n",
    "    3. Mostrar por pantalla los datos del pasajero con identificador 148.\n",
    "    4. Mostrar por pantalla las filas pares del DataFrame.\n",
    "    5. Mostrar por pantalla los nombres de las personas que iban en primera clase ordenadas alfabéticamente.\n",
    "    6. Mostrar por pantalla el porcentaje de personas que sobrevivieron y murieron.\n",
    "    7. Mostrar por pantalla el porcentaje de personas que sobrevivieron en cada clase.\n",
    "    8. Eliminar del DataFrame los pasajeros con edad desconocida.\n",
    "    9. Mostrar por pantalla la edad media de las mujeres que viajaban en cada clase.\n",
    "    10. Añadir una nueva columna booleana para ver si el pasajero era menor de edad o no.\n",
    "    11. Mostrar por pantalla el porcentaje de menores y mayores de edad que sobrevivieron en cada clase."
   ]
  },
  {
   "cell_type": "code",
   "execution_count": 79,
   "id": "a610b921",
   "metadata": {},
   "outputs": [
    {
     "name": "stdout",
     "output_type": "stream",
     "text": [
      "<bound method NDFrame.head of      PassengerId  Survived  Pclass  \\\n",
      "0              1         0       3   \n",
      "1              2         1       1   \n",
      "2              3         1       3   \n",
      "3              4         1       1   \n",
      "4              5         0       3   \n",
      "..           ...       ...     ...   \n",
      "886          887         0       2   \n",
      "887          888         1       1   \n",
      "888          889         0       3   \n",
      "889          890         1       1   \n",
      "890          891         0       3   \n",
      "\n",
      "                                                  Name     Sex   Age  SibSp  \\\n",
      "0                              Braund, Mr. Owen Harris    male  22.0      1   \n",
      "1    Cumings, Mrs. John Bradley (Florence Briggs Th...  female  38.0      1   \n",
      "2                               Heikkinen, Miss. Laina  female  26.0      0   \n",
      "3         Futrelle, Mrs. Jacques Heath (Lily May Peel)  female  35.0      1   \n",
      "4                             Allen, Mr. William Henry    male  35.0      0   \n",
      "..                                                 ...     ...   ...    ...   \n",
      "886                              Montvila, Rev. Juozas    male  27.0      0   \n",
      "887                       Graham, Miss. Margaret Edith  female  19.0      0   \n",
      "888           Johnston, Miss. Catherine Helen \"Carrie\"  female   NaN      1   \n",
      "889                              Behr, Mr. Karl Howell    male  26.0      0   \n",
      "890                                Dooley, Mr. Patrick    male  32.0      0   \n",
      "\n",
      "     Parch            Ticket     Fare Cabin Embarked  \n",
      "0        0         A/5 21171   7.2500   NaN        S  \n",
      "1        0          PC 17599  71.2833   C85        C  \n",
      "2        0  STON/O2. 3101282   7.9250   NaN        S  \n",
      "3        0            113803  53.1000  C123        S  \n",
      "4        0            373450   8.0500   NaN        S  \n",
      "..     ...               ...      ...   ...      ...  \n",
      "886      0            211536  13.0000   NaN        S  \n",
      "887      0            112053  30.0000   B42        S  \n",
      "888      2        W./C. 6607  23.4500   NaN        S  \n",
      "889      0            111369  30.0000  C148        C  \n",
      "890      0            370376   7.7500   NaN        Q  \n",
      "\n",
      "[891 rows x 12 columns]>\n",
      "(891, 12)\n",
      "10692\n",
      "<class 'pandas.core.frame.DataFrame'>\n",
      "RangeIndex: 891 entries, 0 to 890\n",
      "Data columns (total 12 columns):\n",
      " #   Column       Non-Null Count  Dtype  \n",
      "---  ------       --------------  -----  \n",
      " 0   PassengerId  891 non-null    int64  \n",
      " 1   Survived     891 non-null    int64  \n",
      " 2   Pclass       891 non-null    int64  \n",
      " 3   Name         891 non-null    object \n",
      " 4   Sex          891 non-null    object \n",
      " 5   Age          714 non-null    float64\n",
      " 6   SibSp        891 non-null    int64  \n",
      " 7   Parch        891 non-null    int64  \n",
      " 8   Ticket       891 non-null    object \n",
      " 9   Fare         891 non-null    float64\n",
      " 10  Cabin        204 non-null    object \n",
      " 11  Embarked     889 non-null    object \n",
      "dtypes: float64(2), int64(5), object(5)\n",
      "memory usage: 83.7+ KB\n",
      "None\n",
      "   PassengerId  Survived  Pclass  \\\n",
      "0            1         0       3   \n",
      "1            2         1       1   \n",
      "2            3         1       3   \n",
      "3            4         1       1   \n",
      "4            5         0       3   \n",
      "5            6         0       3   \n",
      "6            7         0       1   \n",
      "7            8         0       3   \n",
      "8            9         1       3   \n",
      "9           10         1       2   \n",
      "\n",
      "                                                Name     Sex   Age  SibSp  \\\n",
      "0                            Braund, Mr. Owen Harris    male  22.0      1   \n",
      "1  Cumings, Mrs. John Bradley (Florence Briggs Th...  female  38.0      1   \n",
      "2                             Heikkinen, Miss. Laina  female  26.0      0   \n",
      "3       Futrelle, Mrs. Jacques Heath (Lily May Peel)  female  35.0      1   \n",
      "4                           Allen, Mr. William Henry    male  35.0      0   \n",
      "5                                   Moran, Mr. James    male   NaN      0   \n",
      "6                            McCarthy, Mr. Timothy J    male  54.0      0   \n",
      "7                     Palsson, Master. Gosta Leonard    male   2.0      3   \n",
      "8  Johnson, Mrs. Oscar W (Elisabeth Vilhelmina Berg)  female  27.0      0   \n",
      "9                Nasser, Mrs. Nicholas (Adele Achem)  female  14.0      1   \n",
      "\n",
      "   Parch            Ticket     Fare Cabin Embarked  \n",
      "0      0         A/5 21171   7.2500   NaN        S  \n",
      "1      0          PC 17599  71.2833   C85        C  \n",
      "2      0  STON/O2. 3101282   7.9250   NaN        S  \n",
      "3      0            113803  53.1000  C123        S  \n",
      "4      0            373450   8.0500   NaN        S  \n",
      "5      0            330877   8.4583   NaN        Q  \n",
      "6      0             17463  51.8625   E46        S  \n",
      "7      1            349909  21.0750   NaN        S  \n",
      "8      2            347742  11.1333   NaN        S  \n",
      "9      0            237736  30.0708   NaN        C  \n",
      "     PassengerId  Survived  Pclass                                      Name  \\\n",
      "881          882         0       3                        Markun, Mr. Johann   \n",
      "882          883         0       3              Dahlberg, Miss. Gerda Ulrika   \n",
      "883          884         0       2             Banfield, Mr. Frederick James   \n",
      "884          885         0       3                    Sutehall, Mr. Henry Jr   \n",
      "885          886         0       3      Rice, Mrs. William (Margaret Norton)   \n",
      "886          887         0       2                     Montvila, Rev. Juozas   \n",
      "887          888         1       1              Graham, Miss. Margaret Edith   \n",
      "888          889         0       3  Johnston, Miss. Catherine Helen \"Carrie\"   \n",
      "889          890         1       1                     Behr, Mr. Karl Howell   \n",
      "890          891         0       3                       Dooley, Mr. Patrick   \n",
      "\n",
      "        Sex   Age  SibSp  Parch            Ticket     Fare Cabin Embarked  \n",
      "881    male  33.0      0      0            349257   7.8958   NaN        S  \n",
      "882  female  22.0      0      0              7552  10.5167   NaN        S  \n",
      "883    male  28.0      0      0  C.A./SOTON 34068  10.5000   NaN        S  \n",
      "884    male  25.0      0      0   SOTON/OQ 392076   7.0500   NaN        S  \n",
      "885  female  39.0      0      5            382652  29.1250   NaN        Q  \n",
      "886    male  27.0      0      0            211536  13.0000   NaN        S  \n",
      "887  female  19.0      0      0            112053  30.0000   B42        S  \n",
      "888  female   NaN      1      2        W./C. 6607  23.4500   NaN        S  \n",
      "889    male  26.0      0      0            111369  30.0000  C148        C  \n",
      "890    male  32.0      0      0            370376   7.7500   NaN        Q  \n",
      "pasajero id 148\n",
      "PassengerId                                 148\n",
      "Survived                                      0\n",
      "Pclass                                        3\n",
      "Name           Ford, Miss. Robina Maggie \"Ruby\"\n",
      "Sex                                      female\n",
      "Age                                         9.0\n",
      "SibSp                                         2\n",
      "Parch                                         2\n",
      "Ticket                               W./C. 6608\n",
      "Fare                                     34.375\n",
      "Cabin                                       NaN\n",
      "Embarked                                      S\n",
      "Name: 147, dtype: object\n",
      "     PassengerId  Survived  Pclass  \\\n",
      "0              1         0       3   \n",
      "2              3         1       3   \n",
      "4              5         0       3   \n",
      "6              7         0       1   \n",
      "8              9         1       3   \n",
      "..           ...       ...     ...   \n",
      "882          883         0       3   \n",
      "884          885         0       3   \n",
      "886          887         0       2   \n",
      "888          889         0       3   \n",
      "890          891         0       3   \n",
      "\n",
      "                                                  Name     Sex   Age  SibSp  \\\n",
      "0                              Braund, Mr. Owen Harris    male  22.0      1   \n",
      "2                               Heikkinen, Miss. Laina  female  26.0      0   \n",
      "4                             Allen, Mr. William Henry    male  35.0      0   \n",
      "6                              McCarthy, Mr. Timothy J    male  54.0      0   \n",
      "8    Johnson, Mrs. Oscar W (Elisabeth Vilhelmina Berg)  female  27.0      0   \n",
      "..                                                 ...     ...   ...    ...   \n",
      "882                       Dahlberg, Miss. Gerda Ulrika  female  22.0      0   \n",
      "884                             Sutehall, Mr. Henry Jr    male  25.0      0   \n",
      "886                              Montvila, Rev. Juozas    male  27.0      0   \n",
      "888           Johnston, Miss. Catherine Helen \"Carrie\"  female   NaN      1   \n",
      "890                                Dooley, Mr. Patrick    male  32.0      0   \n",
      "\n",
      "     Parch            Ticket     Fare Cabin Embarked  \n",
      "0        0         A/5 21171   7.2500   NaN        S  \n",
      "2        0  STON/O2. 3101282   7.9250   NaN        S  \n",
      "4        0            373450   8.0500   NaN        S  \n",
      "6        0             17463  51.8625   E46        S  \n",
      "8        2            347742  11.1333   NaN        S  \n",
      "..     ...               ...      ...   ...      ...  \n",
      "882      0              7552  10.5167   NaN        S  \n",
      "884      0   SOTON/OQ 392076   7.0500   NaN        S  \n",
      "886      0            211536  13.0000   NaN        S  \n",
      "888      2        W./C. 6607  23.4500   NaN        S  \n",
      "890      0            370376   7.7500   NaN        Q  \n",
      "\n",
      "[446 rows x 12 columns]\n",
      "     PassengerId  Survived  Pclass  \\\n",
      "730          731         1       1   \n",
      "305          306         1       1   \n",
      "297          298         0       1   \n",
      "498          499         0       1   \n",
      "460          461         1       1   \n",
      "..           ...       ...     ...   \n",
      "155          156         0       1   \n",
      "351          352         0       1   \n",
      "55            56         1       1   \n",
      "555          556         0       1   \n",
      "325          326         1       1   \n",
      "\n",
      "                                                Name     Sex    Age  SibSp  \\\n",
      "730                    Allen, Miss. Elisabeth Walton  female  29.00      0   \n",
      "305                   Allison, Master. Hudson Trevor    male   0.92      1   \n",
      "297                     Allison, Miss. Helen Loraine  female   2.00      1   \n",
      "498  Allison, Mrs. Hudson J C (Bessie Waldo Daniels)  female  25.00      1   \n",
      "460                              Anderson, Mr. Harry    male  48.00      0   \n",
      "..                                               ...     ...    ...    ...   \n",
      "155                      Williams, Mr. Charles Duane    male  51.00      0   \n",
      "351           Williams-Lambert, Mr. Fletcher Fellows    male    NaN      0   \n",
      "55                                 Woolner, Mr. Hugh    male    NaN      0   \n",
      "555                               Wright, Mr. George    male  62.00      0   \n",
      "325                         Young, Miss. Marie Grice  female  36.00      0   \n",
      "\n",
      "     Parch    Ticket      Fare    Cabin Embarked  \n",
      "730      0     24160  211.3375       B5        S  \n",
      "305      2    113781  151.5500  C22 C26        S  \n",
      "297      2    113781  151.5500  C22 C26        S  \n",
      "498      2    113781  151.5500  C22 C26        S  \n",
      "460      0     19952   26.5500      E12        S  \n",
      "..     ...       ...       ...      ...      ...  \n",
      "155      1  PC 17597   61.3792      NaN        C  \n",
      "351      0    113510   35.0000     C128        S  \n",
      "55       0     19947   35.5000      C52        S  \n",
      "555      0    113807   26.5500      NaN        S  \n",
      "325      0  PC 17760  135.6333      C32        C  \n",
      "\n",
      "[216 rows x 12 columns]\n"
     ]
    }
   ],
   "source": [
    "import pandas as pd\n",
    "df=pd.read_csv('/home/juan-pablo/Escritorio/Sist inteligente/assets/titanic.csv' )\n",
    "#dataframe\n",
    "dataF=pd.DataFrame(df)\n",
    "print(dataF.head)\n",
    "#Dimensiones\n",
    "dimen=dataF.shape\n",
    "print(dimen)\n",
    "#tamaño\n",
    "size=dataF.size\n",
    "print(size)\n",
    "#info\n",
    "info=dataF.info()\n",
    "print(info)\n",
    "\n",
    "#primeras 10 filas\n",
    "print(dataF.head(10))\n",
    "\n",
    "#ultimas 10 filas\n",
    "print(dataF.tail(10))\n",
    "\n",
    "#pasajero con id 148\n",
    "print('pasajero id 148')\n",
    "print(dataF.loc[147])\n",
    "\n",
    "#filas pares, el ::2 es para que salte de 2 en 2\n",
    "print(dataF.iloc[::2])\n",
    "\n",
    "#personas que iban en primera clase, alfabeticamente\n",
    "primeraClase=dataF[dataF['Pclass']==1].sort_values(by='Name')\n",
    "\n",
    "print(primeraClase)\n"
   ]
  },
  {
   "cell_type": "markdown",
   "id": "c56f56f6",
   "metadata": {},
   "source": [
    "8. Los ficheros emisiones-2016.csv, emisiones-2017.csv, emisiones-2018.csv y emisiones-2019.csv, contienen datos sobre las emisiones contaminates en la ciudad de Madrid en los años 2016, 2017, 2018 y 2019 respectivamente. Escribir un programa con los siguientes requisitos:\n",
    "\n",
    "    1. Generar un DataFrame con los datos de los cuatro ficheros.\n",
    "    2. Filtrar las columnas del DataFrame para quedarse con las columnas ESTACION, MAGNITUD, AÑO, MES y las correspondientes a los días D01, D02, etc.\n",
    "    3. Reestructurar el DataFrame para que los valores de los contaminantes de las columnas de los días aparezcan en una única columna.\n",
    "    4. Añadir una columna con la fecha a partir de la concatenación del año, el mes y el día (usar el módulo datetime).\n",
    "    5. Eliminar las filas con fechas no válidas (utilizar la función isnat del módulo numpy) y ordenar el DataFrame por estaciones contaminantes y fecha.\n",
    "    6. Mostrar por pantalla las estaciones y los contaminantes disponibles en el DataFrame.\n",
    "    7. Crear una función que reciba una estación, un contaminante y un rango de fechas y devuelva una serie con las emisiones del contaminante dado en la estación y rango de fechas dado.\n",
    "    8. Mostrar un resumen descriptivo (mínimo, máximo, media, etc.) para cada contaminante.\n",
    "    9. Mostrar un resumen descriptivo para cada contaminante por distritos.\n",
    "    10. Crear una función que reciba una estación y un contaminante y devuelva un resumen descriptivo de las emisiones del contaminante indicado en la estación indicada.\n",
    "    11. Crear una función que devuelva las emisiones medias mensuales de un contaminante y un año dados para todos las estaciones.\n",
    "    12. Crear un función que reciba una estación de medición y devuelva un DataFrame con las medias mensuales de los distintos tipos de contaminantes."
   ]
  },
  {
   "cell_type": "code",
   "execution_count": null,
   "id": "bf4dd824",
   "metadata": {},
   "outputs": [],
   "source": []
  },
  {
   "cell_type": "markdown",
   "id": "32c9549d",
   "metadata": {},
   "source": [
    "# Ejercicios de la librería Matplotlib"
   ]
  },
  {
   "cell_type": "markdown",
   "id": "45906941",
   "metadata": {},
   "source": [
    "1. Escribir un programa que pregunte al usuario por las ventas de un rango de años y muestre por pantalla un diagrama de líneas con la evolución de las ventas."
   ]
  },
  {
   "cell_type": "code",
   "execution_count": null,
   "id": "8d96adda",
   "metadata": {},
   "outputs": [],
   "source": []
  },
  {
   "cell_type": "markdown",
   "id": "d6976d51",
   "metadata": {},
   "source": [
    "2. Escribir una función que reciba una diccionario con las notas de las asignaturas de un curso y una cadena con el nombre de un color y devuelva un diagrama de barras de las notas en el color dado."
   ]
  },
  {
   "cell_type": "code",
   "execution_count": null,
   "id": "25d662fa",
   "metadata": {},
   "outputs": [],
   "source": []
  },
  {
   "cell_type": "markdown",
   "id": "5557a1e2",
   "metadata": {},
   "source": [
    "3. Escribir una función que reciba una serie de Pandas con las notas de los alumnos de un curso y devuelva un diagrama de cajas con las notas. El diagrama debe tener el título “Distribución de notas”."
   ]
  },
  {
   "cell_type": "code",
   "execution_count": null,
   "id": "bc764b3b",
   "metadata": {},
   "outputs": [],
   "source": []
  },
  {
   "cell_type": "markdown",
   "id": "019e306b",
   "metadata": {},
   "source": [
    "4. Escribir una función que reciba una serie de Pandas con el número de ventas de un producto durante los meses de un trimestre y un título y cree un diagrama de sectores con las ventas en formato png con el titulo dado. El diagrama debe guardarse en un fichero con formato png y el título dado."
   ]
  },
  {
   "cell_type": "code",
   "execution_count": null,
   "id": "6903cb87",
   "metadata": {},
   "outputs": [],
   "source": []
  },
  {
   "cell_type": "markdown",
   "id": "609858b3",
   "metadata": {},
   "source": [
    "5. Escribir una función que reciba una serie de Pandas con el número de ventas de un producto por años y una cadena con el tipo de gráfico a generar (lineas, barras, sectores, areas) y devuelva un diagrama del tipo indicado con la evolución de las ventas por años y con el título “Evolución del número de ventas”."
   ]
  },
  {
   "cell_type": "code",
   "execution_count": null,
   "id": "1847c92d",
   "metadata": {},
   "outputs": [],
   "source": []
  },
  {
   "cell_type": "markdown",
   "id": "02f174a2",
   "metadata": {},
   "source": [
    "6. Escribir una función que reciba un dataframe de Pandas con los ingresos y gastos de una empresa por meses y devuelva un diagrama de líneas con dos líneas, una para los ingresos y otra para los gastos. El diagrama debe tener una leyenda identificando la línea de los ingresos y la de los gastos, un título con el nombre “Evolución de ingresos y gastos” y el eje y debe empezar en 0."
   ]
  },
  {
   "cell_type": "code",
   "execution_count": null,
   "id": "588bd888",
   "metadata": {},
   "outputs": [],
   "source": []
  },
  {
   "cell_type": "markdown",
   "id": "b8d929a1",
   "metadata": {},
   "source": [
    "7. El fichero bancos.csv contiene las cotizaciones de los principales bancos de España con : **Empresa** (nombre de la empresa), **Apertura** (precio de la acción a la apertura de bolsa), **Máximo** (precio máximo de la acción durante la jornada), **Mínimo** (precio mínimo de la acción durante la jornada), **Cierre** (precio de la acción al cierre de bolsa), **Volumen** (volumen al cierre de bolsa). Construir una función reciba el fichero bancos.csv y cree un diagrama de líneas con las series temporales de las cotizaciones de cierre de cada banco."
   ]
  },
  {
   "cell_type": "code",
   "execution_count": null,
   "id": "05a39400",
   "metadata": {},
   "outputs": [],
   "source": []
  },
  {
   "cell_type": "markdown",
   "id": "af554c3c",
   "metadata": {},
   "source": [
    "8. El fichero titanic.csv contiene información sobre los pasajeros del Titanic. Crear un dataframe con Pandas y a partir de él generar los siguientes diagramas.\n",
    "    1. Diagrama de sectores con los fallecidos y supervivientes.\n",
    "    2. Histograma con las edades.\n",
    "    3. Diagrama de barras con el número de personas en cada clase.\n",
    "    4. Diagrama de barras con el número de personas fallecidas y supervivientes en cada clase.\n",
    "    5. Diagrama de barras con el número de personas fallecidas y supervivientes acumuladas en cada clase."
   ]
  },
  {
   "cell_type": "code",
   "execution_count": null,
   "id": "166d5fe0",
   "metadata": {},
   "outputs": [],
   "source": []
  }
 ],
 "metadata": {
  "kernelspec": {
   "display_name": "Python 3",
   "language": "python",
   "name": "python3"
  },
  "language_info": {
   "codemirror_mode": {
    "name": "ipython",
    "version": 3
   },
   "file_extension": ".py",
   "mimetype": "text/x-python",
   "name": "python",
   "nbconvert_exporter": "python",
   "pygments_lexer": "ipython3",
   "version": "3.8.10"
  },
  "vscode": {
   "interpreter": {
    "hash": "916dbcbb3f70747c44a77c7bcd40155683ae19c65e1c03b4aa3499c5328201f1"
   }
  }
 },
 "nbformat": 4,
 "nbformat_minor": 5
}
